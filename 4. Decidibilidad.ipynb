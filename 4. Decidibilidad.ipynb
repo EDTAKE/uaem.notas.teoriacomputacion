{
 "cells": [
  {
   "cell_type": "markdown",
   "metadata": {},
   "source": [
    "# Problemas computacionales"
   ]
  },
  {
   "cell_type": "markdown",
   "metadata": {},
   "source": [
    "**Definiciones**\n",
    "1. Un **problema de búsqueda** (o simplemente **problema computacional**) es\n",
    "   una relación $R \\subseteq E \\times S$ donde $E$ es un conjunto de *entradas*\n",
    "   (o *instancias*) y $S$ es un conjunto de *salidas* (o *soluciones*).\n",
    "2. En un **problema de optimización** se tiene además una *función objetivo*\n",
    "   $f:S \\to \\mathbb{R}$ que se desea maximizar o minimizar.\n",
    "3. Un **problema de decisión** se tiene un conjunto $R$ y se desea determinar\n",
    "   para cada entrada $e$ si $e\\in R$."
   ]
  },
  {
   "cell_type": "markdown",
   "metadata": {},
   "source": [
    "**Ejemplos**\n",
    "1. El problema de buscar un número en una lista se define como el problema de\n",
    "búsqueda donde\n",
    "    - $E=\\mathbb{R}^*\\times \\mathbb{R}$,\n",
    "    - $S = \\mathbb{N} \\cup \\{-1\\}$, y\n",
    "    - $(L, x) \\, R \\, i$ si y sólo si $L_i = x$ o bien $x\\notin L$ pero $i = -1$\n",
    "2. El problema de ordenar una lista:\n",
    "    - $E=\\mathbb{R}^*$\n",
    "    - $S=\\mathbb{R}^*$\n",
    "    - $A \\, R\\, B$ si y sólo si $B$ es una permutación de $A$ tal que $B_0 \\le\n",
    "      B_1 \\le \\cdots \\le B_n$\n",
    "3. El problema de la mochila es un problema de optimización:\n",
    "    - $E=\\mathbb{R}_{\\ge 0}^n \\times \\mathbb{R}_{\\ge 0}^n \\times \\mathbb{R}_{\\ge 0}$\n",
    "    - $S=\\{0, 1\\}^n$\n",
    "    - $(\\vec{w}, \\vec{p}, C) \\, R \\, \\vec{x}$ si y sólo si $\\sum_{i=1}^n w_i \\, x_i \\le C$\n",
    "    - Maximizar $f(\\vec{x})=\\sum_{i=1}^n p_i \\, x_i$\n",
    "4. El problema de deterinar si un número es primo\n",
    "    - $R = \\{n\\mid n = q\\cdot m$ implca que $\\{q, m\\} = \\{1, n\\}\\}$"
   ]
  },
  {
   "cell_type": "markdown",
   "metadata": {},
   "source": [
    "# Decidibilidad"
   ]
  },
  {
   "cell_type": "markdown",
   "metadata": {},
   "source": [
    "### Problemas de decisión que conciernen a lenguajes regulares:"
   ]
  },
  {
   "cell_type": "markdown",
   "metadata": {},
   "source": [
    "El **problema de la aceptación** para AFD:\n",
    "$$A_{\\textsf{DFA}} = \\{\\langle B, w\\rangle \\mid B \\text{ es un AFD que acepta }w\\}$$\n",
    "\n",
    "Este problema es decidible con el siguiente algoritmo:\n",
    "1. Simula $B$ con entrada $w$\n",
    "2. Si $B$ acepta entonces devolvemos $1$ y si no, $0$\n"
   ]
  },
  {
   "cell_type": "markdown",
   "metadata": {},
   "source": [
    "El probelma de la **generación de expresiones regulares**:\n",
    "$$A_\\textsf{REX} = \\{\\langle R,w\\rangle\\mid R\\text{ es una exp. reg. que genera }w\\}$$"
   ]
  },
  {
   "cell_type": "markdown",
   "metadata": {},
   "source": [
    "Decididor para $A_\\textsf{REX}$:\n",
    "1. Encontrar $B$ el AFD equivalente a $R$\n",
    "2. Usar el algoritmo para $A_{\\textsf{DFA}}$"
   ]
  },
  {
   "cell_type": "markdown",
   "metadata": {},
   "source": [
    "El probelma de determinar si un autómata no acepta ninguna cadena:\n",
    "$$E_{\\textsf{DFA}} = \\{\\langle A \\rangle \\mid A \\text{ es un AFD con }\n",
    "L(A) = \\emptyset \\}$$"
   ]
  },
  {
   "cell_type": "markdown",
   "metadata": {},
   "source": [
    "Decididor para $E_{\\textsf{DFA}}$:\n",
    "1. Sea $G$ diagrama de estados de $A$ (un grafo dirigido)\n",
    "2. Aplicar búsqueda a lo ancho (BFS) en $G$ usando el estado inicial como nodo inicial\n",
    "3. Si BFS pasa por un estado de aceptación, devolver 1, si no, 0"
   ]
  },
  {
   "cell_type": "markdown",
   "metadata": {},
   "source": [
    "El problema de decidir si  dos AFD reconocen el mismo lenguaje\n",
    "$$\\mathit{EQ}_{\\textsf{DFA}} = \\{ \\langle A, B \\rangle \\mid\n",
    "A \\text{ y } B \\text{ son AFD con } L(A) = L(B)\\}$$"
   ]
  },
  {
   "cell_type": "markdown",
   "metadata": {},
   "source": [
    "Necesitamos encontrar las construcciones para la intersección y complemento\n",
    "de lenguajes regulares; esto nos permite encontrar un AFD $M$ tal que\n",
    "\n",
    "$$L(M) = L(A) \\operatorname{\\triangle} L(B) = \\left( L(A) \\cap \\overline{L(B)} \\right) \\cup \n",
    "\\left( \\overline{L(A)} \\cap L(B) \\right)$$"
   ]
  },
  {
   "cell_type": "markdown",
   "metadata": {},
   "source": [
    "**Lema** Los lenguajes regulares son cerrados bajo complemento\n",
    "\n",
    "*Demostración*\n",
    "1. Dado un AFN $N$ lo convertimos a un AFD $M$ usando un resultado previo.\n",
    "2. Cambiamos el conjunto de estados de aceptación $F$ de $M$ a $F^\\prime = Q\n",
    "\\setminus F$ $\\square$"
   ]
  },
  {
   "cell_type": "markdown",
   "metadata": {},
   "source": [
    "**Lema** Los lenguajes regulares son cerrados bajo intersección\n",
    "\n",
    "*Demostración*\n",
    "Vamos a definir un nuevo autómata $C$ que, dados dos AFD $A$ y $B$, reconoce\n",
    "$L(A) \\cap L(B)$:\n",
    "1. $Q_C = Q_A\\times Q_B$\n",
    "2. $\\delta_C((q_i, q_j), a) = (\\delta_A(q_i, a), \\delta_B(q_j, a))$\n",
    "3. $F_C = F_A \\times F_B$"
   ]
  },
  {
   "cell_type": "markdown",
   "metadata": {},
   "source": [
    "Decididor para $\\mathit{EQ}_{\\textsf{DFA}}$:\n",
    "1. Construir $C$ que reconoce $L(A) \\operatorname{\\triangle} L(B)$\n",
    "2. Correr el decididor de $E_{\\textsf{DFA}}$ sobre $C$ y devolver lo que\n",
    "   este decididor devuelva"
   ]
  },
  {
   "cell_type": "markdown",
   "metadata": {},
   "source": [
    "## El problema de la aceptación\n",
    "En máquinas de Turing, el problema de la aceptación es el siguiente\n",
    "problema de decisisón:\n",
    "$$A_{\\textsf{TM}} = \\{\\langle M, w \\rangle \\mid M \\text{es una MT que acepta }w\\}$$"
   ]
  },
  {
   "cell_type": "markdown",
   "metadata": {},
   "source": [
    "### La paradoja del barbero"
   ]
  },
  {
   "cell_type": "markdown",
   "metadata": {},
   "source": [
    "Sea $\\mathrm{AFEITA}(x, y)$ el predicado “$x$ afeita a $y$”. Entonces\n",
    "de acuerdo con la ley del emirato, $\\mathrm{AFEITA}(\\mathit{barbero}, x)\n",
    "\\iff \\neg \\mathrm{AFEITA}(x, x)$, pero sustituyendo $x =\n",
    "\\mathit{barbero}$ tenemos que\n",
    "$$\\mathrm{AFEITA}(\\mathit{barbero}, \\mathit{barbero})\n",
    "\\iff \\neg \\mathrm{AFEITA}(\\mathit{barbero}, \\mathit{barbero})$$"
   ]
  },
  {
   "cell_type": "markdown",
   "metadata": {},
   "source": [
    "Históricamente, la paradoja aparece también en la historia de las\n",
    "matemáticas como la paradoja de Russell:\n",
    "\n",
    "En la teoría de conjuntos clásica (o intuitiva) se permite crear\n",
    "conjuntos de esta manera:\n",
    "$$A = \\{x\\mid P(x)\\}$$\n",
    "\n",
    "Si aceptamos esto, en particular podemos definir el sigueinte conjunto \n",
    "“válido”:\n",
    "$$R = \\{x \\mid x\\notin x\\}$$\n",
    "\n",
    "$x \\in R \\iff x \\notin x$, entonces $R \\in R \\iff R \\notin R$."
   ]
  },
  {
   "cell_type": "markdown",
   "metadata": {},
   "source": [
    "En teoría de números podemos aprovechar la paradoja del barbero para\n",
    "mostrar que el conjunto de funciones $\\mathbf{N} \\to \\mathbf{N}$ no es\n",
    "recursivamente numerable:\n",
    "\n",
    "1. Todos los programas son recursivamente enumerables.\n",
    "1. En particular, los programas que reciben números naturales de entrada\n",
    "   y producen num. nat. de salida, también son numerables y se\n",
    "   pueden enumerar como $f_0, f_1, f_2, \\ldots$\n",
    "2. Construimos una nueva función $g(n) = f_n(n) + 1$\n",
    "3. Como $g$ es una función de $\\mathbf{N} \\to \\mathbf{N}$ entonces se\n",
    "   sigue que $g = f_b$ para algún $b\\in \\mathbf{N}$\n",
    "4. ¡Sustituyendo $n = b$ tenemos $g(b) = f_b(b) = f_b(b) + 1$!"
   ]
  },
  {
   "cell_type": "code",
   "execution_count": null,
   "metadata": {},
   "outputs": [],
   "source": [
    "def g(n):\n",
    "    for i, f in enumerate(generar_funciones()):\n",
    "        if i == n: break\n",
    "    # f = f_n\n",
    "    return f(n) + 1"
   ]
  },
  {
   "cell_type": "code",
   "execution_count": null,
   "metadata": {},
   "outputs": [],
   "source": [
    "for b, f in enumerate(generar_funciones()):\n",
    "    if f = g: break\n",
    "# f_b = g"
   ]
  }
 ],
 "metadata": {
  "kernelspec": {
   "display_name": "Python 3",
   "language": "python",
   "name": "python3"
  },
  "language_info": {
   "codemirror_mode": {
    "name": "ipython",
    "version": 3
   },
   "file_extension": ".py",
   "mimetype": "text/x-python",
   "name": "python",
   "nbconvert_exporter": "python",
   "pygments_lexer": "ipython3",
   "version": "3.8.5"
  }
 },
 "nbformat": 4,
 "nbformat_minor": 4
}
