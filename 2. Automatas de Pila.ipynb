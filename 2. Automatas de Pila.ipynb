{
 "cells": [
  {
   "cell_type": "code",
   "execution_count": 1,
   "metadata": {},
   "outputs": [],
   "source": [
    "from typing import Hashable, List, NamedTuple"
   ]
  },
  {
   "cell_type": "markdown",
   "metadata": {},
   "source": [
    "# Autómatas con pila"
   ]
  },
  {
   "cell_type": "markdown",
   "metadata": {},
   "source": [
    "Un **autómata de pila** es una 6-ada $(Q, \\Sigma, \\Gamma, \\delta, q_0, F)$\n",
    "donde:\n",
    "1. $Q$ es un conjunto finito de *estados*,\n",
    "2. $\\Sigma$ es el *alfabeto de entrada*,\n",
    "3. $\\Gamma$ es el *alfabeto de pila*,\n",
    "4. $\\delta: Q \\times \\Sigma_\\epsilon \\times \\Gamma_\\epsilon \\to \\mathcal{P}(Q \n",
    "   \\times \\Gamma_\\epsilon)$ es la función de transición,\n",
    "5. $q_0 \\in Q$ es el *estado inicial*, y\n",
    "6. $F \\subseteq Q$ es el conjunto de *estados de aceptación*."
   ]
  },
  {
   "cell_type": "markdown",
   "metadata": {},
   "source": [
    "Equivalente, para nuestro curso, podemos expresar un autómata de pila\n",
    "usando sólo\n",
    "1. Un *programa* $P \\subseteq Q \\times \\Sigma_\\epsilon \\times \\Gamma_\\epsilon \n",
    "   \\times Q \\times \\Gamma_\\epsilon$,\n",
    "2. el *estado inicial* $q_0 \\in Q$, y\n",
    "3. el conjunto de *estados de aceptación* $F \\subseteq Q$."
   ]
  },
  {
   "cell_type": "code",
   "execution_count": 2,
   "metadata": {},
   "outputs": [],
   "source": [
    "def A(m, n):\n",
    "    assert m >= 0 and n >= 0\n",
    "    if m == 0:\n",
    "        return n + 1\n",
    "    if n == 0:\n",
    "        return A(m - 1, 1)\n",
    "    return A(m - 1, A(m, n - 1))"
   ]
  },
  {
   "cell_type": "code",
   "execution_count": 3,
   "metadata": {},
   "outputs": [
    {
     "ename": "RecursionError",
     "evalue": "maximum recursion depth exceeded in comparison",
     "output_type": "error",
     "traceback": [
      "\u001b[0;31m---------------------------------------------------------------------------\u001b[0m",
      "\u001b[0;31mRecursionError\u001b[0m                            Traceback (most recent call last)",
      "\u001b[0;32m<ipython-input-3-2d1fba7585cc>\u001b[0m in \u001b[0;36m<module>\u001b[0;34m\u001b[0m\n\u001b[0;32m----> 1\u001b[0;31m \u001b[0mA\u001b[0m\u001b[0;34m(\u001b[0m\u001b[0;36m4\u001b[0m\u001b[0;34m,\u001b[0m \u001b[0;36m4\u001b[0m\u001b[0;34m)\u001b[0m\u001b[0;34m\u001b[0m\u001b[0;34m\u001b[0m\u001b[0m\n\u001b[0m",
      "\u001b[0;32m<ipython-input-2-155c5d8cc7a5>\u001b[0m in \u001b[0;36mA\u001b[0;34m(m, n)\u001b[0m\n\u001b[1;32m      5\u001b[0m     \u001b[0;32mif\u001b[0m \u001b[0mn\u001b[0m \u001b[0;34m==\u001b[0m \u001b[0;36m0\u001b[0m\u001b[0;34m:\u001b[0m\u001b[0;34m\u001b[0m\u001b[0;34m\u001b[0m\u001b[0m\n\u001b[1;32m      6\u001b[0m         \u001b[0;32mreturn\u001b[0m \u001b[0mA\u001b[0m\u001b[0;34m(\u001b[0m\u001b[0mm\u001b[0m \u001b[0;34m-\u001b[0m \u001b[0;36m1\u001b[0m\u001b[0;34m,\u001b[0m \u001b[0;36m1\u001b[0m\u001b[0;34m)\u001b[0m\u001b[0;34m\u001b[0m\u001b[0;34m\u001b[0m\u001b[0m\n\u001b[0;32m----> 7\u001b[0;31m     \u001b[0;32mreturn\u001b[0m \u001b[0mA\u001b[0m\u001b[0;34m(\u001b[0m\u001b[0mm\u001b[0m \u001b[0;34m-\u001b[0m \u001b[0;36m1\u001b[0m\u001b[0;34m,\u001b[0m \u001b[0mA\u001b[0m\u001b[0;34m(\u001b[0m\u001b[0mm\u001b[0m\u001b[0;34m,\u001b[0m \u001b[0mn\u001b[0m \u001b[0;34m-\u001b[0m \u001b[0;36m1\u001b[0m\u001b[0;34m)\u001b[0m\u001b[0;34m)\u001b[0m\u001b[0;34m\u001b[0m\u001b[0;34m\u001b[0m\u001b[0m\n\u001b[0m",
      "... last 1 frames repeated, from the frame below ...\n",
      "\u001b[0;32m<ipython-input-2-155c5d8cc7a5>\u001b[0m in \u001b[0;36mA\u001b[0;34m(m, n)\u001b[0m\n\u001b[1;32m      5\u001b[0m     \u001b[0;32mif\u001b[0m \u001b[0mn\u001b[0m \u001b[0;34m==\u001b[0m \u001b[0;36m0\u001b[0m\u001b[0;34m:\u001b[0m\u001b[0;34m\u001b[0m\u001b[0;34m\u001b[0m\u001b[0m\n\u001b[1;32m      6\u001b[0m         \u001b[0;32mreturn\u001b[0m \u001b[0mA\u001b[0m\u001b[0;34m(\u001b[0m\u001b[0mm\u001b[0m \u001b[0;34m-\u001b[0m \u001b[0;36m1\u001b[0m\u001b[0;34m,\u001b[0m \u001b[0;36m1\u001b[0m\u001b[0;34m)\u001b[0m\u001b[0;34m\u001b[0m\u001b[0;34m\u001b[0m\u001b[0m\n\u001b[0;32m----> 7\u001b[0;31m     \u001b[0;32mreturn\u001b[0m \u001b[0mA\u001b[0m\u001b[0;34m(\u001b[0m\u001b[0mm\u001b[0m \u001b[0;34m-\u001b[0m \u001b[0;36m1\u001b[0m\u001b[0;34m,\u001b[0m \u001b[0mA\u001b[0m\u001b[0;34m(\u001b[0m\u001b[0mm\u001b[0m\u001b[0;34m,\u001b[0m \u001b[0mn\u001b[0m \u001b[0;34m-\u001b[0m \u001b[0;36m1\u001b[0m\u001b[0;34m)\u001b[0m\u001b[0;34m)\u001b[0m\u001b[0;34m\u001b[0m\u001b[0;34m\u001b[0m\u001b[0m\n\u001b[0m",
      "\u001b[0;31mRecursionError\u001b[0m: maximum recursion depth exceeded in comparison"
     ]
    }
   ],
   "source": [
    "A(4, 4)"
   ]
  },
  {
   "cell_type": "markdown",
   "metadata": {},
   "source": [
    "**Ejemplo**:\n",
    "Un autómata de pila que reconoce el lenguaje $L = \\left\\{\\texttt{0}^n\n",
    "\\texttt{1}^n\\middle| n\\in\\mathbb{N}\\right\\}$"
   ]
  },
  {
   "cell_type": "markdown",
   "metadata": {},
   "source": [
    "Cómo reconocer una palabra de L:\n",
    "0(0(0(0(0(0(0(0()1)1)1)1)1)1)1)1"
   ]
  },
  {
   "cell_type": "code",
   "execution_count": 4,
   "metadata": {},
   "outputs": [],
   "source": [
    "def reconocer_L(palabra):\n",
    "    pila = ['$']\n",
    "    bandera = False\n",
    "    for simbolo in palabra:\n",
    "        if not bandera and simbolo == '0':\n",
    "            pila.append('0')\n",
    "        elif not bandera and simbolo == '1' and pila[-1] == '0':\n",
    "            bandera = True\n",
    "            pila.pop()\n",
    "        elif bandera and simbolo == '1' and pila[-1] == '0':\n",
    "            pila.pop()\n",
    "        else:\n",
    "            return False\n",
    "    return (pila[-1] == '$')"
   ]
  },
  {
   "cell_type": "code",
   "execution_count": 5,
   "metadata": {},
   "outputs": [
    {
     "data": {
      "text/plain": [
       "True"
      ]
     },
     "execution_count": 5,
     "metadata": {},
     "output_type": "execute_result"
    }
   ],
   "source": [
    "reconocer_L('0011')"
   ]
  },
  {
   "cell_type": "code",
   "execution_count": 6,
   "metadata": {},
   "outputs": [],
   "source": [
    "Estado = Hashable\n",
    "Simbolo = str\n",
    "\n",
    "class Transicion(NamedTuple):\n",
    "    estado: Estado\n",
    "    entrada: Simbolo\n",
    "    desapilar: Simbolo\n",
    "    siguiente: Estado\n",
    "    apilar: Simbolo"
   ]
  },
  {
   "cell_type": "code",
   "execution_count": 7,
   "metadata": {},
   "outputs": [],
   "source": [
    "P = [\n",
    "    Transicion(0, '',  '',  1, '$'),\n",
    "    Transicion(1, '0', '',  1, '0'),\n",
    "    Transicion(1, '1', '0', 2, ''),\n",
    "    Transicion(2, '1', '0', 2, ''),\n",
    "    Transicion(2, '',  '$', 3, ''),\n",
    "]\n",
    "q_0 = 0\n",
    "F = [3]"
   ]
  },
  {
   "cell_type": "markdown",
   "metadata": {},
   "source": [
    "**Ejercicio** Escribir un autómata de pila para reconocer el lenguaje de los\n",
    "paréntesis bien balanceados."
   ]
  },
  {
   "cell_type": "code",
   "execution_count": 8,
   "metadata": {},
   "outputs": [],
   "source": [
    "P = [\n",
    "    (0, '',  '',  1, '$'),\n",
    "    (1, '(', '',  1, '('),\n",
    "    (1, ')', '(', 1, '' ),\n",
    "    (1, '',  '$', 2, '' )\n",
    "]\n",
    "q_0 = 0\n",
    "F = [2]\n",
    "M = (P, q_0, F)"
   ]
  },
  {
   "cell_type": "markdown",
   "metadata": {},
   "source": [
    "## Simular autómatas de pila"
   ]
  },
  {
   "cell_type": "code",
   "execution_count": 9,
   "metadata": {},
   "outputs": [],
   "source": [
    "import collections"
   ]
  },
  {
   "cell_type": "code",
   "execution_count": 10,
   "metadata": {},
   "outputs": [],
   "source": [
    "def coincide_pila(S, retirar):\n",
    "    return not retirar or (S and S[-1] == retirar)\n",
    "\n",
    "def modificar_pila(S, retirar, apilar):\n",
    "    T = S.copy()\n",
    "    if retirar: T.pop()\n",
    "    if apilar: T.append(apilar)\n",
    "    return T\n",
    "\n",
    "def ejecutar(M, w):\n",
    "    (P, q_0, F) = M\n",
    "    cola = collections.deque([(q_0, [], 0)])\n",
    "    while cola:  # Mientras haya configuraciones por explorar...\n",
    "        # Cada conf. tiene estado actual q, pila actual S, y la cantidad\n",
    "        # i de símbolos consumidos de la entrada.\n",
    "        q, S, i = cola.popleft()  # Siguiente configuración\n",
    "        if q in F and w[i:] == '':\n",
    "            return True  # ¿Configuración de aceptación?\n",
    "        # Explorar posibles configuraciones siguientes:\n",
    "        for estado, simbolo, retirar, siguiente, apilar in P:\n",
    "            if q != estado or not coincide_pila(S, retirar): continue\n",
    "            T = modificar_pila(S, retirar, apilar)\n",
    "            if not simbolo:  # simbolo == epsilon\n",
    "                cola.append((siguiente, T, i))  # Nueva configuración\n",
    "            elif simbolo == w[i: i+1]:  # w[i] o epsilon si i >= len(w)\n",
    "                cola.append((siguiente, T, i + 1))  # Nueva configuración\n",
    "    return False"
   ]
  },
  {
   "cell_type": "code",
   "execution_count": 11,
   "metadata": {},
   "outputs": [
    {
     "data": {
      "text/plain": [
       "True"
      ]
     },
     "execution_count": 11,
     "metadata": {},
     "output_type": "execute_result"
    }
   ],
   "source": [
    "ejecutar(M, '(()(()))')"
   ]
  },
  {
   "cell_type": "markdown",
   "metadata": {},
   "source": [
    "## Gramáticas libres de contexto\n",
    "\n",
    "Una **gramática libre de contexto** es una 4-ada $(V, \\Sigma, R, S)$ donde\n",
    "1. $V$ es un conjunto finito de **variables**,\n",
    "2. $\\Sigma$ es un conjunto finito disjunto de $V$ de **terminales**,\n",
    "3. $R$ es un conjunto finito de **reglas** tomadas de\n",
    "   $V\\times(V\\cup\\Sigma)^\\star$,\n",
    "4. $S\\in V$ es la **variable inicial**."
   ]
  },
  {
   "cell_type": "markdown",
   "metadata": {},
   "source": [
    "**Notación**\n",
    "- La regla $(V, \\sigma_1\\sigma_2\\cdots\\sigma_n)$ se denota por\n",
    "  $V \\to \\sigma_1\\sigma_2\\cdots\\sigma_n$.\n",
    "- Si $(V, r_1), (V, r_2), \\ldots, (V, r_m)$ son todas las reglas que inician\n",
    "  con la misma variable $V$, entonces denotamos a este conjunto de reglas por\n",
    "  $V \\to r_1 | r_2 | \\cdots | r_m$.\n",
    "- Las reglas que inician con la variable inicial $S$ se escriben antes que las\n",
    "  demás."
   ]
  },
  {
   "cell_type": "markdown",
   "metadata": {},
   "source": [
    "**Ejemplo**\n",
    "Una gramática que produce cadenas $\\mathtt{0}^n\\mathtt{1}^n$:\n",
    "$$\\begin{align}\n",
    "A &\\to \\texttt{0}A\\texttt{1} | B \\\\\n",
    "B &\\to \\texttt{#}\n",
    "\\end{align}$$\n",
    "\n",
    "$A \\Rightarrow \\texttt{0}A\\texttt{1} \\Rightarrow \\texttt{0}\\texttt{0}A\n",
    "\\texttt{1}\\texttt{1} \\Rightarrow \\texttt{0}\\texttt{0}\\texttt{0}A\\texttt{1}\n",
    "\\texttt{1}\\texttt{1} \\Rightarrow \\texttt{0}\\texttt{0}\\texttt{0}B\\texttt{1}\n",
    "\\texttt{1}\\texttt{1} \\Rightarrow \\texttt{0}\\texttt{0}\\texttt{0}\\texttt{#}\n",
    "\\texttt{1}\\texttt{1}\\texttt{1}$"
   ]
  },
  {
   "cell_type": "code",
   "execution_count": 12,
   "metadata": {},
   "outputs": [],
   "source": [
    "import random\n",
    "def A():\n",
    "    if random.getrandbits(1):\n",
    "        return f'0{A()}1'\n",
    "    return B()\n",
    "\n",
    "def B():\n",
    "    return '#'"
   ]
  },
  {
   "cell_type": "code",
   "execution_count": 21,
   "metadata": {},
   "outputs": [
    {
     "data": {
      "text/plain": [
       "'0000#1111'"
      ]
     },
     "execution_count": 21,
     "metadata": {},
     "output_type": "execute_result"
    }
   ],
   "source": [
    "A()"
   ]
  },
  {
   "cell_type": "markdown",
   "metadata": {},
   "source": [
    "**Ejemplo** Una gramática para producir enunciados en español\n",
    "$$\\begin{align}\n",
    "\\textit{<enunciado>} &\\to \\textit{<sujeto>} \\textit{<verbo>} \\textit{<predicado>} \\\\\n",
    "\\textit{<sujeto>} &\\to \\textit{<sujeto_compuesto>} | \\textit{<sujeto_compuesto>}\\,\\textit{<adjetivo>} \\\\\n",
    "\\textit{<sujeto_compuesto>} &\\to \\textit{<artículo>} \\textit{<sustantivo>} \\\\\n",
    "\\textit{<artículo>} &\\to \\textbf{el} | \\textbf{la} | \\textbf{un} \\\\\n",
    "\\textit{<adjetivo>} &\\to \\textbf{dubitativo} | \\textbf{rojo} | \\textbf{chingón} | \\textbf{grande} \\\\\n",
    "\\textit{<sustantivo>} &\\to \\textbf{caguama} | \\textbf{borracho} | \\textbf{programador} | \\textbf{florero} \\\\\n",
    "\\textit{<verbo>} &\\to \\textbf{caguamea} | \\textbf{banquetea} | \\textbf{duerme} | \\textbf{sueña} \\\\\n",
    "\\textit{<predicado>} &\\to \\textit{<preposición>}\\textit{<sustantivo>}\\\\\n",
    "\\textit{<preposición>} &\\to \\textbf{con} | \\textbf{sin} | \\textbf{sobre} | \\textbf{por}\n",
    "\\end{align}$$"
   ]
  },
  {
   "cell_type": "markdown",
   "metadata": {},
   "source": [
    "$$\\begin{align}\n",
    "\\mathit{<enunciado>} &\\Rightarrow \\textit{<sujeto>} \\textit{<verbo>} \\textit{<predicado>} \\\\\n",
    "&\\Rightarrow \\textit{<sujeto_compuesto>}\\textit{<adjetivo>} \\textit{<verbo>} \\textit{<predicado>} \\\\\n",
    "&\\Rightarrow \\textit{<artículo>} \\textit{<sustantivo>} \\textit{<adjetivo>} \\textit{<verbo>} \\textit{<predicado>} \\\\\n",
    "&\\Rightarrow \\textbf{la } \\textit{<sustantivo>} \\textit{<adjetivo>} \\textit{<verbo>} \\textit{<predicado>} \\\\\n",
    "&\\Rightarrow \\textbf{la } \\textbf{caguama } \\textit{<adjetivo>} \\textit{<verbo>} \\textit{<predicado>} \\\\\n",
    "&\\Rightarrow \\textbf{la } \\textbf{caguama } \\textbf{rojo } \\textit{<verbo>} \\textit{<predicado>} \\\\\n",
    "&\\Rightarrow \\textbf{la } \\textbf{caguama } \\textbf{rojo } \\textbf{caguamea } \\textit{<predicado>} \\\\\n",
    "&\\Rightarrow \\textbf{la } \\textbf{caguama } \\textbf{rojo } \\textbf{caguamea } \\textit{<preposición>}\\textit{<sustantivo>}\\\\\n",
    "&\\Rightarrow \\textbf{la } \\textbf{caguama } \\textbf{rojo } \\textbf{caguamea } \\textbf{sobre }\\textit{<sustantivo>}\\\\\n",
    "&\\Rightarrow \\textbf{la } \\textbf{caguama } \\textbf{rojo } \\textbf{caguamea } \\textbf{sobre }\\textbf{banqueta }\\\\\n",
    "\\end{align}$$"
   ]
  },
  {
   "cell_type": "markdown",
   "metadata": {},
   "source": [
    "**Ejemplo**\n",
    "$$\\begin{align}\n",
    "E &\\to E + T | T \\\\\n",
    "T &\\to T \\times F | F \\\\\n",
    "F &\\to \\texttt{(}E\\texttt{)} | \\texttt{a} \\\\\n",
    "\\end{align}$$"
   ]
  },
  {
   "cell_type": "code",
   "execution_count": 22,
   "metadata": {},
   "outputs": [],
   "source": [
    "def E():\n",
    "    if random.random() < 0.5:\n",
    "        return f'{E()}+{T()}'\n",
    "    return T()\n",
    "\n",
    "def T():\n",
    "    if random.random() < 0.3:\n",
    "        return f'{T()}×{F()}'\n",
    "    return F()\n",
    "\n",
    "def F():\n",
    "    if random.random() < 0.1:\n",
    "        return f'({E()})'\n",
    "    return 'a'"
   ]
  },
  {
   "cell_type": "code",
   "execution_count": 25,
   "metadata": {},
   "outputs": [
    {
     "data": {
      "text/plain": [
       "'a×(a+a)+a×a'"
      ]
     },
     "execution_count": 25,
     "metadata": {},
     "output_type": "execute_result"
    }
   ],
   "source": [
    "E()"
   ]
  },
  {
   "cell_type": "markdown",
   "metadata": {},
   "source": [
    "## Equivalencia entre autómatas de pila y gramáticas libres de contexto"
   ]
  },
  {
   "cell_type": "markdown",
   "metadata": {},
   "source": [
    "**Ejemplo** Convertir una gramática libre de contexto a un A.P."
   ]
  },
  {
   "cell_type": "code",
   "execution_count": 16,
   "metadata": {},
   "outputs": [],
   "source": [
    "P = [\n",
    "    (0, '',  '',  1, '$'),\n",
    "    # Inicio\n",
    "    (1, '',  '',  2, 'E'),\n",
    "    # E -> E + T\n",
    "    (2, '',  'E', 3, 'T'),\n",
    "    (3, '',  '',  4, '+'),\n",
    "    (4, '',  '',  2, 'E'),\n",
    "    # E -> T\n",
    "    (2, '',  'E', 2, 'T'),\n",
    "    # T -> T × F\n",
    "    (2, '',  'T', 5, 'F'),\n",
    "    (5, '',  '',  6, '×'),\n",
    "    (6, '',  '',  2, 'T'),\n",
    "    # T -> F\n",
    "    (2, '',  'T', 2, 'F'),\n",
    "    # F -> (E)\n",
    "    (2, '',  'F', 7, ')'),\n",
    "    (7, '',  '',  8, 'E'),\n",
    "    (8, '',  '',  2, '('),\n",
    "    # F -> a\n",
    "    (2, '',  'F', 2, 'a'),\n",
    "    # Terminales:\n",
    "    (2, 'a', 'a', 2, ''),\n",
    "    (2, ')', ')', 2, ''),\n",
    "    (2, '(', '(', 2, ''),\n",
    "    (2, '×', '×', 2, ''),\n",
    "    (2, '+', '+', 2, ''),\n",
    "    # Fin\n",
    "    (2, '',  '$', 9, ''),\n",
    "]\n",
    "q_0 = 0\n",
    "F = [9]\n",
    "M = (P, q_0, F)"
   ]
  },
  {
   "cell_type": "code",
   "execution_count": 23,
   "metadata": {},
   "outputs": [
    {
     "data": {
      "text/plain": [
       "True"
      ]
     },
     "execution_count": 23,
     "metadata": {},
     "output_type": "execute_result"
    }
   ],
   "source": [
    "ejecutar(M, '(a+a)×a')"
   ]
  },
  {
   "cell_type": "markdown",
   "metadata": {},
   "source": [
    "Para demostrar el regreso (que todo autómata de pila reconoce un lenguaje que\n",
    "es producido por una gramática libre de contexto) tenemos que hacer unas\n",
    "suposiciones:\n",
    "\n",
    "1. Tiene un único estado de aceptación $q_{\\mathit{accept}}$.\n",
    "2. Vacía la pila antes de aceptar.\n",
    "3. Cada trancisión o bien apila un símbolo o lo desapila, pero no puede\n",
    "   apilar y desapilar al mismo tiempo.\n",
    "   \n",
    "*Idea de la demostración*\n",
    "- $A_{p\\,q}$ produce todas las cadenas que hacen que el autómata de pila\n",
    "  pase del estado $p$ al estado $q$."
   ]
  },
  {
   "cell_type": "code",
   "execution_count": 26,
   "metadata": {},
   "outputs": [],
   "source": [
    "class Produccion(NamedTuple):\n",
    "    variable: Simbolo\n",
    "    substitucion: str\n",
    "    \n",
    "def gramatica_a_latex(producciones: List[Produccion]):\n",
    "    gramatica = {}\n",
    "    lineas = ['\\\\begin{align}']\n",
    "    for variable, substitucion in producciones:\n",
    "        gramatica.setdefault(variable, []).append(substitucion)\n",
    "    \n",
    "    for variable, substituciones in gramatica.items():\n",
    "        derecha = '|'.join(substituciones)\n",
    "        lineas.append(f'{variable} &\\\\rightarrow {derecha} \\\\\\\\')\n",
    "    \n",
    "    lineas.append('\\\\end{align}')\n",
    "    return '\\n'.join(lineas)"
   ]
  },
  {
   "cell_type": "code",
   "execution_count": 27,
   "metadata": {},
   "outputs": [],
   "source": [
    "import itertools"
   ]
  },
  {
   "cell_type": "code",
   "execution_count": 28,
   "metadata": {},
   "outputs": [],
   "source": [
    "def hacer_gramatica(M):\n",
    "    def A(p, q):\n",
    "        return f'A_{{{p}\\\\,{q}}}'\n",
    "    P: List[Transicion]\n",
    "    (P, q_0, F) = M\n",
    "    \n",
    "    Q = set(p.estado for p in P)\n",
    "    Q.update(p.siguiente for p in P)\n",
    "    Q.add(q_0)\n",
    "    Q.update(F)\n",
    "    Σ = set(p.entrada for p in P)\n",
    "    Γ = set(p.desapilar for p in P) | set(p.apilar for p in P)\n",
    "    \n",
    "    G = []\n",
    "    # CASO I\n",
    "    for transicion_1, transicion_2 in itertools.product(P, repeat=2):\n",
    "        if (x:=transicion_1.apilar) and transicion_2.desapilar == x:\n",
    "            p, r = transicion_1.estado, transicion_1.siguiente\n",
    "            s, q = transicion_2.estado, transicion_2.siguiente\n",
    "            a, b = transicion_1.entrada, transicion_2.entrada\n",
    "            G.append(Produccion(\n",
    "                variable=A(p, q),\n",
    "                substitucion=f'{a}{A(r, s)}{b}')\n",
    "            )\n",
    "    \n",
    "    # CASO II\n",
    "    for p, q, r in itertools.product(Q, repeat=3):\n",
    "        G.append(Produccion(\n",
    "            variable=A(p, q),\n",
    "            substitucion=f'{A(p, r)}{A(r, q)}')\n",
    "        )\n",
    "    \n",
    "    # Encargarse de los caminos que no consumen entrada:\n",
    "    for p in Q:\n",
    "        G.append(Produccion(variable=A(p, p), substitucion='\\\\epsilon'))\n",
    "    \n",
    "    return G"
   ]
  },
  {
   "cell_type": "code",
   "execution_count": 29,
   "metadata": {},
   "outputs": [],
   "source": [
    "P = [\n",
    "    Transicion(0, '',  '',  1, '$'),\n",
    "    Transicion(1, '(', '',  1, '('),\n",
    "    Transicion(1, ')', '(', 1, '' ),\n",
    "    Transicion(1, '',  '$', 2, '' )\n",
    "]\n",
    "q_0 = 0\n",
    "F = [2]\n",
    "M = (P, q_0, F)"
   ]
  },
  {
   "cell_type": "code",
   "execution_count": 30,
   "metadata": {},
   "outputs": [],
   "source": [
    "from IPython import display"
   ]
  },
  {
   "cell_type": "code",
   "execution_count": 31,
   "metadata": {},
   "outputs": [
    {
     "data": {
      "text/latex": [
       "\\begin{align}\n",
       "A_{0\\,2} &\\rightarrow A_{1\\,1}|A_{0\\,0}A_{0\\,2}|A_{0\\,1}A_{1\\,2}|A_{0\\,2}A_{2\\,2} \\\\\n",
       "A_{1\\,1} &\\rightarrow (A_{1\\,1})|A_{1\\,0}A_{0\\,1}|A_{1\\,1}A_{1\\,1}|A_{1\\,2}A_{2\\,1}|\\epsilon \\\\\n",
       "A_{0\\,0} &\\rightarrow A_{0\\,0}A_{0\\,0}|A_{0\\,1}A_{1\\,0}|A_{0\\,2}A_{2\\,0}|\\epsilon \\\\\n",
       "A_{0\\,1} &\\rightarrow A_{0\\,0}A_{0\\,1}|A_{0\\,1}A_{1\\,1}|A_{0\\,2}A_{2\\,1} \\\\\n",
       "A_{1\\,0} &\\rightarrow A_{1\\,0}A_{0\\,0}|A_{1\\,1}A_{1\\,0}|A_{1\\,2}A_{2\\,0} \\\\\n",
       "A_{1\\,2} &\\rightarrow A_{1\\,0}A_{0\\,2}|A_{1\\,1}A_{1\\,2}|A_{1\\,2}A_{2\\,2} \\\\\n",
       "A_{2\\,0} &\\rightarrow A_{2\\,0}A_{0\\,0}|A_{2\\,1}A_{1\\,0}|A_{2\\,2}A_{2\\,0} \\\\\n",
       "A_{2\\,1} &\\rightarrow A_{2\\,0}A_{0\\,1}|A_{2\\,1}A_{1\\,1}|A_{2\\,2}A_{2\\,1} \\\\\n",
       "A_{2\\,2} &\\rightarrow A_{2\\,0}A_{0\\,2}|A_{2\\,1}A_{1\\,2}|A_{2\\,2}A_{2\\,2}|\\epsilon \\\\\n",
       "\\end{align}"
      ]
     },
     "metadata": {},
     "output_type": "display_data"
    }
   ],
   "source": [
    "display.display_latex(gramatica_a_latex(hacer_gramatica(M)), raw=True)"
   ]
  },
  {
   "cell_type": "markdown",
   "metadata": {},
   "source": [
    "**Lema** Si $A_{p\\,q}$ produce $x$, entonces $x$ hace que el A.P. $P$\n",
    "pase del estado $p$ con pila vacía hacia el estado $q$ con pila vacía.\n",
    "\n",
    "*Demostración* Por inducción sobre el número de pasos para derivar $x$\n",
    "de $A_{p\\,q}$.\n",
    "\n",
    "**Caso base**: La derivación de $x$ requiere 1 paso.\n",
    "\n",
    "Si la derivación tiene 1 paso entonces la *substitución* de la producción\n",
    "no contiene variables. Entonces se trata de una producción $A_{p\\,p}\n",
    "\\rightarrow \\varepsilon$ y claramente se puede pasar del estado $p$ con\n",
    "pila vacía al estado $p$ con pila vacía consumiendo $\\varepsilon$ de la\n",
    "entrada.\n",
    "\n",
    "**Caso inductivo** Supongamos que esto es verdad para las derivaciones de\n",
    "longitud a lo más $k \\ge 1$ y demostramos que también es verdad para las\n",
    "derivaciones de longitud $k + 1$.\n",
    "\n",
    "Supongamos $A_{p\\,q}\\overset{*}{\\Rightarrow} x$ tiene $k + 1$ pasos.\n",
    "Entonces la primera derivación o bien es $A_{p\\,q}\\Rightarrow \\texttt{a}\n",
    "A_{r\\,s}\\texttt{b}$ o bien es $A_{p\\,q}\\Rightarrow A_{p\\,r}A_{r\\,q}$.\n",
    "\n",
    "**CASO I** \n",
    "La primera derivación es $A_{p\\,q}\\Rightarrow \\texttt{a} A_{r\\,s} \\texttt{b}$.\n",
    "\n",
    "Entonces $x = \\texttt{a} y \\texttt{b}$ y además $A_{r\\,s} \\Rightarrow y$ en $k$\n",
    "pasos.\n",
    "Entonces por H.I. $A_{r\\,s}$ hace que $P$ pase del estado $r$ con pila\n",
    "vacía al estado $s$ con pila vacía.\n",
    "Dado que existe la producción $A_{p\\,q} \\to \\texttt{a} A_{r\\,s}\n",
    "\\texttt{b}$ en la gramática, entonces existen dos transiciones\n",
    "$t_1 = (p, \\texttt{a}, \\varepsilon, r, g)$ y $t_2 = (s, \\texttt{b}, g, q,\n",
    "\\varepsilon)$ en el programa de $P$.\n",
    "\n",
    "Si $P$ inicia con una pila vacía en el estado $p$ entonces leyendo $\\texttt{a}$\n",
    "podemos pasar al estado $r$ colocando $g$ en la pila.\n",
    "Entonces leyendo $y$ pasamos de $r$ a $s$ y finalmente sacamos a $g$ de la pila\n",
    "para pasar a $q$.\n",
    "Por lo tanto $x$ hace que $P$ pase de $p$ con pila vacía a $q$ con pila vacía.\n",
    "\n",
    "**CASO II**\n",
    "La primera derivación es $A_{p\\,q}\\Rightarrow A_{p\\,r}A_{r\\,q}$.\n",
    "\n",
    "Entonces $x=yz$ donde $A_{p\\,r} \\overset{*}{\\Rightarrow} y$ y $A_{r\\,q} \n",
    "\\overset{*}{\\Rightarrow} z$ en $k$ pasos o menos cada una.\n",
    "Entonces por H.I. podemos pasar del estado $p$ con pila vacía al estado $r$\n",
    "con pila vacía consumiendo $y$, y del estado $r$ al estado $q$ con pila vacía\n",
    "consumiendo $z$.\n",
    "Por lo tanto es posible pasar del estao $p$ con pila vacía al estado $q$ con\n",
    "pila vacía consumiendo $yz = x$."
   ]
  },
  {
   "cell_type": "markdown",
   "metadata": {},
   "source": [
    "**Lema** Si $x$ hace que el A.P. $P$ pase del estado $p$ con pila vacía hacia\n",
    "el estado $q$ con pila vacía entonces $A_{p\\,q}$ produce $x$.\n",
    "\n",
    "*Demostración* Por inducción sobre el número de pasos en el cómputo del A.P.\n",
    "\n",
    "**Caso base**\n",
    "El cómputo tiene 0 pasos. Entonces $p = q$ y $x = \\varepsilon$ y la regla\n",
    "$A_{p\\,p} \\to \\varepsilon$ se encarga de llevar el autómata de $p$ a $p$ en\n",
    "0 pasos.\n",
    "\n",
    "**Caso inductivo**\n",
    "Supongamos que $P$ pasa del estado $p$ a $q$ con pila vacía en $k + 1$ pasos,\n",
    "entonces hay dos posibilidades: o bien la pila nunca se vacía durante las\n",
    "trancisiones de $p$ a $q$ o bien se vacía al menos una vez.\n",
    "\n",
    "**CASO I**\n",
    "El símbolo que se apila en el primer paso debe ser el mismo que se desapila en\n",
    "el último paso. Sea $t$ este símbolo, sean $a$ y $b$ los símbolos que se\n",
    "consumen de la entrada en el primer y último paso, y sean $r$ y $s$ los estados\n",
    "segundo y penúltimo. Entonces $(p, a, \\varepsilon, r, t)$ y\n",
    "$(s, b, t, q, \\varepsilon)$ son transciciones de $P$ y entonces la regla\n",
    "$A_{p\\,q}\\to \\texttt{a} A_{r\\,s}\\texttt{b}$ pertenece a la gramática generada.\n",
    "\n",
    "Sea $x = \\texttt{a}y\\texttt{b}$. Entonces $y$ puede llevar a $P$ del estado\n",
    "$r$ al estado $s$ con pila vacía, es decir, sin tocar al símbolo $t$.\n",
    "Entonces, quitando la primera y última transición tenemos un cómputo de $k - 1$\n",
    "pasos, y por H.I. $A_{r\\,s}\\overset{*}{\\Rightarrow} y$; por lo tanto,\n",
    "$A_{p\\,q}\\overset{*}{\\Rightarrow} x$.\n",
    "\n",
    "**CASO II**\n",
    "Sup. que la pila se vacía en algún punto del cómputo que nos hace pasar de $p$\n",
    "a $q$. Entonces existe un estado intermedio $r$ donde la pila queda vacía.\n",
    "Entonces el cómputo se puede dividir en la parte que va de $p$ a $r$ y de $r$\n",
    "a $q$; ambas con menos de $k + 1$ pasos.\n",
    "Entonces por H.I. $A_{p\\,r}\\overset{*}{\\Rightarrow} y$, y\n",
    "$A_{r\\,q}\\overset{*}{\\Rightarrow} z$ de manera que $x=yz$, y dado que en la \n",
    "gramática tenemos $A_{p\\,q}\\Rightarrow A_{p\\,r}A_{r\\,q}$ entonces \n",
    "$A_{p\\,q}\\overset{*}{\\Rightarrow} x$."
   ]
  },
  {
   "cell_type": "code",
   "execution_count": null,
   "metadata": {},
   "outputs": [],
   "source": []
  }
 ],
 "metadata": {
  "kernelspec": {
   "display_name": "Python 3",
   "language": "python",
   "name": "python3"
  },
  "language_info": {
   "codemirror_mode": {
    "name": "ipython",
    "version": 3
   },
   "file_extension": ".py",
   "mimetype": "text/x-python",
   "name": "python",
   "nbconvert_exporter": "python",
   "pygments_lexer": "ipython3",
   "version": "3.8.5"
  }
 },
 "nbformat": 4,
 "nbformat_minor": 4
}
