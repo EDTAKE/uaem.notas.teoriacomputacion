{
 "cells": [
  {
   "cell_type": "markdown",
   "metadata": {},
   "source": [
    "# Autómatas con pila"
   ]
  },
  {
   "cell_type": "markdown",
   "metadata": {},
   "source": [
    "Un **autómata de pila** es una 6-ada $(Q, \\Sigma, \\Gamma, \\delta, q_0, F)$\n",
    "donde:\n",
    "1. $Q$ es un conjunto finito de *estados*,\n",
    "2. $\\Sigma$ es el *alfabeto de entrada*,\n",
    "3. $\\Gamma$ es el *alfabeto de pila*,\n",
    "4. $\\delta: Q \\times \\Sigma_\\epsilon \\times \\Gamma_\\epsilon \\to \\mathcal{P}(Q \n",
    "   \\times \\Gamma_\\epsilon)$ es la función de transición,\n",
    "5. $q_0 \\in Q$ es el *estado inicial*, y\n",
    "6. $F \\subseteq Q$ es el conjunto de *estados de aceptación*."
   ]
  },
  {
   "cell_type": "markdown",
   "metadata": {},
   "source": [
    "Equivalente, para nuestro curso, podemos expresar un autómata de pila\n",
    "usando sólo\n",
    "1. Un *programa* $P \\subseteq Q \\times \\Sigma_\\epsilon \\times \\Gamma_\\epsilon \n",
    "   \\times Q \\times \\Gamma_\\epsilon$,\n",
    "2. el *estado inicial* $q_0 \\in Q$, y\n",
    "3. el conjunto de *estados de aceptación* $F \\subseteq Q$."
   ]
  },
  {
   "cell_type": "code",
   "execution_count": 1,
   "metadata": {},
   "outputs": [],
   "source": [
    "def A(m, n):\n",
    "    assert m >= 0 and n >= 0\n",
    "    if m == 0:\n",
    "        return n + 1\n",
    "    if n == 0:\n",
    "        return A(m - 1, 1)\n",
    "    return A(m - 1, A(m, n - 1))"
   ]
  },
  {
   "cell_type": "code",
   "execution_count": 5,
   "metadata": {},
   "outputs": [
    {
     "ename": "RecursionError",
     "evalue": "maximum recursion depth exceeded in comparison",
     "output_type": "error",
     "traceback": [
      "\u001b[0;31m---------------------------------------------------------------------------\u001b[0m",
      "\u001b[0;31mRecursionError\u001b[0m                            Traceback (most recent call last)",
      "\u001b[0;32m<ipython-input-5-2d1fba7585cc>\u001b[0m in \u001b[0;36m<module>\u001b[0;34m\u001b[0m\n\u001b[0;32m----> 1\u001b[0;31m \u001b[0mA\u001b[0m\u001b[0;34m(\u001b[0m\u001b[0;36m4\u001b[0m\u001b[0;34m,\u001b[0m \u001b[0;36m4\u001b[0m\u001b[0;34m)\u001b[0m\u001b[0;34m\u001b[0m\u001b[0;34m\u001b[0m\u001b[0m\n\u001b[0m",
      "\u001b[0;32m<ipython-input-1-155c5d8cc7a5>\u001b[0m in \u001b[0;36mA\u001b[0;34m(m, n)\u001b[0m\n\u001b[1;32m      5\u001b[0m     \u001b[0;32mif\u001b[0m \u001b[0mn\u001b[0m \u001b[0;34m==\u001b[0m \u001b[0;36m0\u001b[0m\u001b[0;34m:\u001b[0m\u001b[0;34m\u001b[0m\u001b[0;34m\u001b[0m\u001b[0m\n\u001b[1;32m      6\u001b[0m         \u001b[0;32mreturn\u001b[0m \u001b[0mA\u001b[0m\u001b[0;34m(\u001b[0m\u001b[0mm\u001b[0m \u001b[0;34m-\u001b[0m \u001b[0;36m1\u001b[0m\u001b[0;34m,\u001b[0m \u001b[0;36m1\u001b[0m\u001b[0;34m)\u001b[0m\u001b[0;34m\u001b[0m\u001b[0;34m\u001b[0m\u001b[0m\n\u001b[0;32m----> 7\u001b[0;31m     \u001b[0;32mreturn\u001b[0m \u001b[0mA\u001b[0m\u001b[0;34m(\u001b[0m\u001b[0mm\u001b[0m \u001b[0;34m-\u001b[0m \u001b[0;36m1\u001b[0m\u001b[0;34m,\u001b[0m \u001b[0mA\u001b[0m\u001b[0;34m(\u001b[0m\u001b[0mm\u001b[0m\u001b[0;34m,\u001b[0m \u001b[0mn\u001b[0m \u001b[0;34m-\u001b[0m \u001b[0;36m1\u001b[0m\u001b[0;34m)\u001b[0m\u001b[0;34m)\u001b[0m\u001b[0;34m\u001b[0m\u001b[0;34m\u001b[0m\u001b[0m\n\u001b[0m",
      "... last 1 frames repeated, from the frame below ...\n",
      "\u001b[0;32m<ipython-input-1-155c5d8cc7a5>\u001b[0m in \u001b[0;36mA\u001b[0;34m(m, n)\u001b[0m\n\u001b[1;32m      5\u001b[0m     \u001b[0;32mif\u001b[0m \u001b[0mn\u001b[0m \u001b[0;34m==\u001b[0m \u001b[0;36m0\u001b[0m\u001b[0;34m:\u001b[0m\u001b[0;34m\u001b[0m\u001b[0;34m\u001b[0m\u001b[0m\n\u001b[1;32m      6\u001b[0m         \u001b[0;32mreturn\u001b[0m \u001b[0mA\u001b[0m\u001b[0;34m(\u001b[0m\u001b[0mm\u001b[0m \u001b[0;34m-\u001b[0m \u001b[0;36m1\u001b[0m\u001b[0;34m,\u001b[0m \u001b[0;36m1\u001b[0m\u001b[0;34m)\u001b[0m\u001b[0;34m\u001b[0m\u001b[0;34m\u001b[0m\u001b[0m\n\u001b[0;32m----> 7\u001b[0;31m     \u001b[0;32mreturn\u001b[0m \u001b[0mA\u001b[0m\u001b[0;34m(\u001b[0m\u001b[0mm\u001b[0m \u001b[0;34m-\u001b[0m \u001b[0;36m1\u001b[0m\u001b[0;34m,\u001b[0m \u001b[0mA\u001b[0m\u001b[0;34m(\u001b[0m\u001b[0mm\u001b[0m\u001b[0;34m,\u001b[0m \u001b[0mn\u001b[0m \u001b[0;34m-\u001b[0m \u001b[0;36m1\u001b[0m\u001b[0;34m)\u001b[0m\u001b[0;34m)\u001b[0m\u001b[0;34m\u001b[0m\u001b[0;34m\u001b[0m\u001b[0m\n\u001b[0m",
      "\u001b[0;31mRecursionError\u001b[0m: maximum recursion depth exceeded in comparison"
     ]
    }
   ],
   "source": [
    "A(4, 4)"
   ]
  },
  {
   "cell_type": "markdown",
   "metadata": {},
   "source": [
    "**Ejemplo**:\n",
    "Un autómata de pila que reconoce el lenguaje $L = \\left\\{\\texttt{0}^n\n",
    "\\texttt{1}^n\\middle| n\\in\\mathbb{N}\\right\\}$"
   ]
  },
  {
   "cell_type": "markdown",
   "metadata": {},
   "source": [
    "Cómo reconocer una palabra de L:\n",
    "0(0(0(0(0(0(0(0()1)1)1)1)1)1)1)1"
   ]
  },
  {
   "cell_type": "code",
   "execution_count": 6,
   "metadata": {},
   "outputs": [],
   "source": [
    "def reconocer_L(palabra):\n",
    "    pila = ['$']\n",
    "    bandera = False\n",
    "    for simbolo in palabra:\n",
    "        if not bandera and simbolo == '0':\n",
    "            pila.append('0')\n",
    "        elif not bandera and simbolo == '1' and pila[-1] == '0':\n",
    "            bandera = True\n",
    "            pila.pop()\n",
    "        elif bandera and simbolo == '1' and pila[-1] == '0':\n",
    "            pila.pop()\n",
    "        else:\n",
    "            return False\n",
    "    return (pila[-1] == '$')"
   ]
  },
  {
   "cell_type": "code",
   "execution_count": 11,
   "metadata": {},
   "outputs": [
    {
     "data": {
      "text/plain": [
       "False"
      ]
     },
     "execution_count": 11,
     "metadata": {},
     "output_type": "execute_result"
    }
   ],
   "source": [
    "reconocer_L('0011')"
   ]
  },
  {
   "cell_type": "code",
   "execution_count": 12,
   "metadata": {},
   "outputs": [],
   "source": [
    "P = [\n",
    "    (0, '',  '',  1, '$'),\n",
    "    (1, '0', '',  1, '0'),\n",
    "    (1, '1', '0', 2, ''),\n",
    "    (2, '1', '0', 2, ''),\n",
    "    (2, '',  '$', 3, ''),\n",
    "]\n",
    "q_0 = 0\n",
    "F = [3]"
   ]
  },
  {
   "cell_type": "markdown",
   "metadata": {},
   "source": [
    "**Ejercicio** Escribir un autómata de pila para reconocer el lenguaje de los\n",
    "paréntesis bien balanceados."
   ]
  },
  {
   "cell_type": "code",
   "execution_count": 23,
   "metadata": {},
   "outputs": [],
   "source": [
    "P = [\n",
    "    (0, '',  '',  1, '$'),\n",
    "    (1, '(', '',  1, '('),\n",
    "    (1, ')', '(', 1, '' ),\n",
    "    (1, '',  '$', 2, '' )\n",
    "]\n",
    "q_0 = 0\n",
    "F = [2]\n",
    "M = (P, q_0, F)"
   ]
  },
  {
   "cell_type": "code",
   "execution_count": 5,
   "metadata": {},
   "outputs": [],
   "source": [
    "import collections"
   ]
  },
  {
   "cell_type": "code",
   "execution_count": 41,
   "metadata": {},
   "outputs": [],
   "source": [
    "def coincide_pila(S, retirar):\n",
    "    return not retirar or (S and S[-1] == retirar)\n",
    "\n",
    "def modificar_pila(S, retirar, apilar):\n",
    "    T = S.copy()\n",
    "    if retirar: T.pop()\n",
    "    if apilar: T.append(apilar)\n",
    "    return T\n",
    "\n",
    "def ejecutar(M, w):\n",
    "    (P, q_0, F) = M\n",
    "    cola = collections.deque([(q_0, [], 0)])\n",
    "    aceptar = False\n",
    "    while cola:  # Mientras haya configuraciones por explorar...\n",
    "        # Cada conf. tiene estado actual q, pila actual S, y la cantidad\n",
    "        # i de símbolos consumidos de la entrada.\n",
    "        q, S, i = cola.popleft()  # Siguiente configuración\n",
    "        if q in F and w[i:] == '':\n",
    "            aceptar = True  # ¿Configuración de aceptación?\n",
    "        # Explorar posibles configuraciones siguientes:\n",
    "        for estado, simbolo, retirar, siguiente, apilar in P:\n",
    "            if q != estado or not coincide_pila(S, retirar): continue\n",
    "            T = modificar_pila(S, retirar, apilar)\n",
    "            if not simbolo:  # simbolo == epsilon\n",
    "                cola.append((siguiente, T, i))  # Nueva configuración\n",
    "            elif simbolo == w[i: i+1]:  # w[i] o epsilon si i >= len(w)\n",
    "                cola.append((siguiente, T, i + 1))  # Nueva configuración\n",
    "    return aceptar"
   ]
  },
  {
   "cell_type": "code",
   "execution_count": 42,
   "metadata": {},
   "outputs": [
    {
     "name": "stdout",
     "output_type": "stream",
     "text": [
      "q=0, S=[], w[i:]='(()(()))' False\n",
      "q=1, S=['$'], w[i:]='(()(()))' False\n",
      "q=1, S=['$', '('], w[i:]='()(()))' False\n",
      "q=2, S=[], w[i:]='(()(()))' False\n",
      "q=1, S=['$', '(', '('], w[i:]=')(()))' False\n",
      "q=1, S=['$', '('], w[i:]='(()))' False\n",
      "q=1, S=['$', '(', '('], w[i:]='()))' False\n",
      "q=1, S=['$', '(', '(', '('], w[i:]=')))' False\n",
      "q=1, S=['$', '(', '('], w[i:]='))' False\n",
      "q=1, S=['$', '('], w[i:]=')' False\n",
      "q=1, S=['$'], w[i:]='' False\n",
      "q=2, S=[], w[i:]='' True\n"
     ]
    },
    {
     "data": {
      "text/plain": [
       "True"
      ]
     },
     "execution_count": 42,
     "metadata": {},
     "output_type": "execute_result"
    }
   ],
   "source": [
    "ejecutar(M, '(()(()))')"
   ]
  },
  {
   "cell_type": "code",
   "execution_count": null,
   "metadata": {},
   "outputs": [],
   "source": [
    "E -> S + E | S\n",
    "S -> M + S | M\n",
    "M -> a | (E)"
   ]
  },
  {
   "cell_type": "code",
   "execution_count": null,
   "metadata": {},
   "outputs": [],
   "source": []
  }
 ],
 "metadata": {
  "kernelspec": {
   "display_name": "Python 3",
   "language": "python",
   "name": "python3"
  },
  "language_info": {
   "codemirror_mode": {
    "name": "ipython",
    "version": 3
   },
   "file_extension": ".py",
   "mimetype": "text/x-python",
   "name": "python",
   "nbconvert_exporter": "python",
   "pygments_lexer": "ipython3",
   "version": "3.8.3"
  }
 },
 "nbformat": 4,
 "nbformat_minor": 4
}
