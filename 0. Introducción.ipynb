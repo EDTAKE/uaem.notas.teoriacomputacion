{
 "cells": [
  {
   "cell_type": "code",
   "execution_count": 6,
   "metadata": {},
   "outputs": [],
   "source": [
    "import itertools\n",
    "import matplotlib.pyplot as plt\n",
    "import numpy as np"
   ]
  },
  {
   "cell_type": "markdown",
   "metadata": {},
   "source": [
    "# Introducción a la Teoría de la Computación"
   ]
  },
  {
   "cell_type": "markdown",
   "metadata": {},
   "source": [
    "## 1. Pensar el programas como demostraciones"
   ]
  },
  {
   "cell_type": "markdown",
   "metadata": {},
   "source": [
    "**Teorema** (del valor intermedio). \n",
    "Sea $f:[a, b] \\to \\mathbb{R}$ contínua con $f(a) < 0$ y $f(b) > 0$, entonces\n",
    "existe un $\\xi \\in (a, b)$ con $f(\\xi) = 0$.\n",
    "\n",
    "*Demostración*.\n",
    "- Considere el siguiente algoritmo:"
   ]
  },
  {
   "cell_type": "code",
   "execution_count": 7,
   "metadata": {},
   "outputs": [],
   "source": [
    "def bisect(f, a, b, n_iters=64):\n",
    "    for n in range(n_iters):\n",
    "        xi = (a + b)/2\n",
    "        y = f(xi)\n",
    "        if y > 0:\n",
    "            b = xi\n",
    "        elif y < 0:\n",
    "            a = xi\n",
    "        else: break  # y == 0\n",
    "    return xi"
   ]
  },
  {
   "cell_type": "markdown",
   "metadata": {},
   "source": [
    "- Si el algoritmo termina en la línea 10 entonces claramente existe un $\\xi$ \n",
    "  con $f(\\xi) = 0$.\n",
    "  Supongamos entonces que el algoritmo no termina ahí.\n",
    "- En cada iteración $n$ del ciclo `while` la variable `a` crece forman una\n",
    "  sucesión:\n",
    "  $$a = a_0 \\le a_1 \\le a_2 \\le a_3 \\le \\cdots \\le b$$\n",
    "- Esta sucesión está acotada, entonces $\\xi = \\lim_{n\\to\\infty} a_n$ existe\n",
    "  (¿por qué?).\n",
    "- $|b_n - a_n| = |b - a|/2^{n - 1} \\to 0$, entonces $\\lim_{n \\to \\infty} b_n =\n",
    "  \\xi$ también.\n",
    "- De las líneas 7 y 9 se sigue que $f(a_n) < 0$ y $f(b_n) > 0$ para toda $n$.\n",
    "- Por la continuidad de $f$ se sigue que $f(\\xi) = \\lim_{n \\to \\infty} f(a_n)\n",
    "  \\le 0$ y $f(\\xi) = \\lim_{n \\to \\infty} f(b_n) \\ge 0$, por lo tanto $f(\\xi) =\n",
    "  0$.\n",
    "$\\square$"
   ]
  },
  {
   "cell_type": "markdown",
   "metadata": {},
   "source": [
    "**Observación** Este algoritmo tiene doble propósito:\n",
    "- Es una demostración de un teorema\n",
    "- Es un método útil para encontrar el 0 de una función contínua arbitraria"
   ]
  },
  {
   "cell_type": "code",
   "execution_count": 8,
   "metadata": {},
   "outputs": [],
   "source": [
    "def p(x):\n",
    "    return (1/6)*x**3 - 9*x + 17\n",
    "\n",
    "xi = bisect(p, -10, 10)"
   ]
  },
  {
   "cell_type": "code",
   "execution_count": 9,
   "metadata": {
    "jupyter": {
     "source_hidden": true
    }
   },
   "outputs": [
    {
     "name": "stdout",
     "output_type": "stream",
     "text": [
      "p(-8.15520393570429) == 0.0\n"
     ]
    },
    {
     "data": {
      "image/png": "[encoded data removed]",
      "text/plain": [
       "<Figure size 432x288 with 1 Axes>"
      ]
     },
     "metadata": {
      "needs_background": "light"
     },
     "output_type": "display_data"
    }
   ],
   "source": [
    "fig, ax = plt.subplots()\n",
    "x = np.linspace(-10, 10)\n",
    "ax.axvline(0, color='silver')\n",
    "ax.axhline(0, color='silver')\n",
    "ax.plot(x, [p(x_i) for x_i in x], color='red')\n",
    "ax.plot([xi], [p(xi)], 'o', color='blue')\n",
    "print(f'p({xi}) == {p(xi)}')"
   ]
  },
  {
   "cell_type": "markdown",
   "metadata": {},
   "source": [
    "# 2. Numerabilidad"
   ]
  },
  {
   "cell_type": "markdown",
   "metadata": {},
   "source": [
    "**Definición** Un *enumerador* es un algoritmo que produce una sucesión\n",
    "posiblemente infinita de salidas."
   ]
  },
  {
   "cell_type": "code",
   "execution_count": 28,
   "metadata": {},
   "outputs": [],
   "source": [
    "def multiplos(a):\n",
    "    n = 0\n",
    "    while True:\n",
    "        yield a*n\n",
    "        n += 1"
   ]
  },
  {
   "cell_type": "code",
   "execution_count": 38,
   "metadata": {},
   "outputs": [
    {
     "name": "stdout",
     "output_type": "stream",
     "text": [
      "0\n",
      "7\n",
      "14\n",
      "21\n",
      "28\n"
     ]
    }
   ],
   "source": [
    "salida = multiplos(7)\n",
    "print(next(salida))\n",
    "print(next(salida))\n",
    "print(next(salida))\n",
    "print(next(salida))\n",
    "print(next(salida))"
   ]
  },
  {
   "cell_type": "code",
   "execution_count": 60,
   "metadata": {},
   "outputs": [],
   "source": [
    "def siguientes(iterable, n):\n",
    "    return list(itertools.islice(iterable, n))"
   ]
  },
  {
   "cell_type": "code",
   "execution_count": 61,
   "metadata": {},
   "outputs": [
    {
     "data": {
      "text/plain": [
       "[35, 42, 49, 56, 63, 70, 77, 84, 91, 98]"
      ]
     },
     "execution_count": 61,
     "metadata": {},
     "output_type": "execute_result"
    }
   ],
   "source": [
    "siguientes(salida, 10)"
   ]
  },
  {
   "cell_type": "code",
   "execution_count": 62,
   "metadata": {},
   "outputs": [
    {
     "data": {
      "text/plain": [
       "[105, 112, 119, 126, 133, 140, 147, 154, 161, 168]"
      ]
     },
     "execution_count": 62,
     "metadata": {},
     "output_type": "execute_result"
    }
   ],
   "source": [
    "siguientes(salida, 10)"
   ]
  },
  {
   "cell_type": "markdown",
   "metadata": {},
   "source": [
    "**Definición** Un conjunto $A$ es *recursivamente enumerable* si existe un\n",
    "enumerador que produce todos los elementos de $A$ sin repetición.\n",
    "\n",
    "**Teorema** Si $A$ es un conjunto recursivamente enumerable entonces es finito o\n",
    "bien está en biyección con $\\mathbb{N}$."
   ]
  },
  {
   "cell_type": "code",
   "execution_count": 55,
   "metadata": {},
   "outputs": [],
   "source": [
    "def hacer_funcion(iterable):\n",
    "    elementos = []  # Espacio para almacenar primeros elementos del iterable\n",
    "    iterador = iter(iterable)\n",
    "    \n",
    "    def f(n):  # Esta será la función biyectiva\n",
    "        m = len(elementos)\n",
    "        if n >= m:  # ¿Necesitamos producir más elementos?\n",
    "            for k in range(n - m + 1):\n",
    "                elementos.append(next(iterador))\n",
    "        return elementos[n]  # Devolver el n-ésimo elemento\n",
    "    \n",
    "    return f"
   ]
  },
  {
   "cell_type": "code",
   "execution_count": 56,
   "metadata": {},
   "outputs": [
    {
     "name": "stdout",
     "output_type": "stream",
     "text": [
      "f(0) = 0\n",
      "f(1) = 3\n",
      "f(2) = 6\n",
      "f(3) = 9\n",
      "f(4) = 12\n",
      "f(5) = 15\n",
      "f(6) = 18\n",
      "f(7) = 21\n",
      "f(8) = 24\n",
      "f(9) = 27\n",
      "f(10) = 30\n",
      "f(11) = 33\n",
      "f(12) = 36\n",
      "f(13) = 39\n",
      "f(14) = 42\n",
      "f(15) = 45\n",
      "f(16) = 48\n",
      "f(17) = 51\n",
      "f(18) = 54\n",
      "f(19) = 57\n"
     ]
    }
   ],
   "source": [
    "f = hacer_funcion(multiplos(3))\n",
    "for n in range(20):\n",
    "    print(f'f({n}) = {f(n)}')"
   ]
  },
  {
   "cell_type": "markdown",
   "metadata": {},
   "source": [
    "**Lema** Si existe un enumerador que produce todos los elementos de un conjunto\n",
    "$A$ posiblemente con repetición entonces es recursivamente enumerable. "
   ]
  },
  {
   "cell_type": "code",
   "execution_count": 54,
   "metadata": {},
   "outputs": [],
   "source": [
    "def quitar_repetidos(iterable):\n",
    "    vistos = set()\n",
    "    for x in iterable:\n",
    "        if x in vistos: continue\n",
    "        vistos.add(x)\n",
    "        yield x"
   ]
  },
  {
   "cell_type": "markdown",
   "metadata": {},
   "source": [
    "**Lema** Si $A$ es un conjunto finito y $B$ es recursivamente enumerable\n",
    "entonces $A \\cup B$ es recursivamente enumerable."
   ]
  },
  {
   "cell_type": "code",
   "execution_count": 57,
   "metadata": {},
   "outputs": [],
   "source": [
    "def enumerar_union(A, B):\n",
    "    yield from A\n",
    "    yield from B"
   ]
  },
  {
   "cell_type": "markdown",
   "metadata": {},
   "source": [
    "**Lema** Si $\\mathcal{F} = \\lbrace A_1, A_2, \\ldots, A_m\\rbrace$ es una familia\n",
    "finita de conjuntos recursivamente enumerables entonces $\\bigcup \\mathcal{F} =\n",
    "A_1 \\cup A_2 \\cup \\cdots \\cup A_m$ es recursivamente numerable."
   ]
  },
  {
   "cell_type": "code",
   "execution_count": 58,
   "metadata": {},
   "outputs": [],
   "source": [
    "import collections"
   ]
  },
  {
   "cell_type": "code",
   "execution_count": 59,
   "metadata": {},
   "outputs": [],
   "source": [
    "def enumerar_union(*F):\n",
    "    F = collections.deque(F)\n",
    "    while F:\n",
    "        A = F.popleft()\n",
    "        x = next(A, None)\n",
    "        if x is None: continue\n",
    "        yield x\n",
    "        F.append(A)"
   ]
  },
  {
   "cell_type": "code",
   "execution_count": 66,
   "metadata": {},
   "outputs": [
    {
     "data": {
      "text/plain": [
       "[0, 0, 0, 2, 6, 5, 4, 12, 10, 6, 18, 15, 8, 24, 20, 10, 30, 25, 12, 36]"
      ]
     },
     "execution_count": 66,
     "metadata": {},
     "output_type": "execute_result"
    }
   ],
   "source": [
    "salida = enumerar_union(multiplos(2), multiplos(6), multiplos(5))\n",
    "siguientes(salida, 20)"
   ]
  },
  {
   "cell_type": "code",
   "execution_count": 67,
   "metadata": {},
   "outputs": [
    {
     "data": {
      "text/plain": [
       "[0, 2, 6, 5, 4, 12, 10, 18, 15, 8, 24, 20, 30, 25, 36, 14, 42, 35, 16, 48]"
      ]
     },
     "execution_count": 67,
     "metadata": {},
     "output_type": "execute_result"
    }
   ],
   "source": [
    "salida = enumerar_union(multiplos(2), multiplos(6), multiplos(5))\n",
    "salida = quitar_repetidos(salida)\n",
    "siguientes(salida, 20)"
   ]
  },
  {
   "cell_type": "markdown",
   "metadata": {},
   "source": [
    "## 2. De qué va la Teoría de la Computación"
   ]
  },
  {
   "cell_type": "markdown",
   "metadata": {},
   "source": []
  },
  {
   "cell_type": "code",
   "execution_count": null,
   "metadata": {},
   "outputs": [],
   "source": []
  }
 ],
 "metadata": {
  "kernelspec": {
   "display_name": "Python 3",
   "language": "python",
   "name": "python3"
  },
  "language_info": {
   "codemirror_mode": {
    "name": "ipython",
    "version": 3
   },
   "file_extension": ".py",
   "mimetype": "text/x-python",
   "name": "python",
   "nbconvert_exporter": "python",
   "pygments_lexer": "ipython3",
   "version": "3.8.5"
  }
 },
 "nbformat": 4,
 "nbformat_minor": 4
}
