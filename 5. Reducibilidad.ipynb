{
 "cells": [
  {
   "cell_type": "markdown",
   "metadata": {},
   "source": [
    "# Reducibilidad"
   ]
  },
  {
   "cell_type": "code",
   "execution_count": 2,
   "metadata": {},
   "outputs": [],
   "source": [
    "# El problema A se reduce al problema B si:\n",
    "def resolver_A(x):\n",
    "    ...\n",
    "    resolver_B(y)\n",
    "    ..."
   ]
  },
  {
   "cell_type": "markdown",
   "metadata": {},
   "source": [
    "- Queremos demostrar que $B$ es indecidible.\n",
    "- Sabemos que $A$ (casi siempre $A_\\textsf{TM}$) es indecidible.\n",
    "- Habríamos de demostrar que si $A$ es indecidible $\\Rightarrow$ $B$ es indecidible\n",
    "- Equivalentemente, si $B$ es decidible $\\Rightarrow$ $A$ es decidible"
   ]
  },
  {
   "cell_type": "markdown",
   "metadata": {},
   "source": [
    "**Ejercicio** Demostrar que el problema de la parada se reduce al problema de\n",
    "la aceptación"
   ]
  },
  {
   "cell_type": "code",
   "execution_count": 3,
   "metadata": {},
   "outputs": [],
   "source": [
    "def termina(M, w):\n",
    "    def coM(x):\n",
    "        return not M(x)\n",
    "    \n",
    "    if acepta(M, w):\n",
    "        return True\n",
    "    elif acepta(coM, w):\n",
    "        return True\n",
    "    else: return False"
   ]
  },
  {
   "cell_type": "markdown",
   "metadata": {},
   "source": [
    "Demostración alternativa:"
   ]
  },
  {
   "cell_type": "code",
   "execution_count": null,
   "metadata": {},
   "outputs": [],
   "source": [
    "def termina(M, w):\n",
    "    def N(x):\n",
    "        M(x)\n",
    "        return True\n",
    "    \n",
    "    return acepta(N, w)"
   ]
  },
  {
   "cell_type": "markdown",
   "metadata": {},
   "source": [
    "**Ejercicio** Demostrar que $E_\\mathsf{TM} = \\{\\langle M\\rangle\\mid M\n",
    "\\text{ es una M.T. con } L(M) = \\emptyset\\}$ es indecidible."
   ]
  },
  {
   "cell_type": "code",
   "execution_count": null,
   "metadata": {},
   "outputs": [],
   "source": []
  }
 ],
 "metadata": {
  "kernelspec": {
   "display_name": "Python 3",
   "language": "python",
   "name": "python3"
  },
  "language_info": {
   "codemirror_mode": {
    "name": "ipython",
    "version": 3
   },
   "file_extension": ".py",
   "mimetype": "text/x-python",
   "name": "python",
   "nbconvert_exporter": "python",
   "pygments_lexer": "ipython3",
   "version": "3.8.5"
  }
 },
 "nbformat": 4,
 "nbformat_minor": 4
}
