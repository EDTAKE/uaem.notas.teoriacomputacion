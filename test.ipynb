{
 "cells": [
  {
   "cell_type": "code",
   "execution_count": 1,
   "metadata": {},
   "outputs": [],
   "source": [
    "import abc\n",
    "import re\n",
    "from typing import Iterable, NamedTuple"
   ]
  },
  {
   "cell_type": "code",
   "execution_count": 2,
   "metadata": {},
   "outputs": [],
   "source": [
    "from curso.postturing import *"
   ]
  },
  {
   "cell_type": "code",
   "execution_count": 3,
   "metadata": {},
   "outputs": [
    {
     "output_type": "execute_result",
     "data": {
      "text/plain": [
       "[Token(type='ID', value='q0', line=2, column=4),\n",
       " Token(type='LABEL', value=':', line=2, column=6),\n",
       " Token(type='LEFT', value='LEFT', line=3, column=4),\n",
       " Token(type='PRINT', value='PRINT', line=4, column=4),\n",
       " Token(type='SYMBOL', value=\"'a'\", line=4, column=10),\n",
       " Token(type='RIGHT', value='RIGHT', line=4, column=17),\n",
       " Token(type='IF', value='IF', line=5, column=4),\n",
       " Token(type='SYMBOL', value=\"'a'\", line=5, column=7),\n",
       " Token(type='GOTO', value='GOTO', line=5, column=11),\n",
       " Token(type='ID', value='q0', line=5, column=16)]"
      ]
     },
     "metadata": {},
     "execution_count": 3
    }
   ],
   "source": [
    "tokens = list(tokenize(\n",
    "    '''\n",
    "    q0:\n",
    "    LEFT\n",
    "    PRINT 'a'    RIGHT\n",
    "    IF 'a' GOTO q0\n",
    "    '''))\n",
    "tokens"
   ]
  },
  {
   "cell_type": "code",
   "execution_count": 4,
   "metadata": {},
   "outputs": [],
   "source": [
    "class Instruccion:\n",
    "    def __init__(self, tipo: str, **kwargs):\n",
    "        self.__dict__ = kwargs"
   ]
  },
  {
   "cell_type": "code",
   "execution_count": null,
   "metadata": {},
   "outputs": [],
   "source": [
    "labels = {}\n",
    "program = []\n",
    "token: Token\n",
    "tokens = iter(tokens)\n",
    "while (token:=next(tokens, None)) is not None:\n",
    "    if token.type == 'ID':\n",
    "        labels[token.value] = len(program) \n",
    "        if (token:=next(tokens, None)) is None or token.type != 'LABEL':\n",
    "            raise SyntaxError()\n",
    "    elif token.type == 'PRINT':\n",
    "        if (token:=next(tokens, None)) is None or token.type != 'SYMBOL':\n",
    "            raise SyntaxError()\n",
    "        \n",
    "        "
   ]
  }
 ],
 "metadata": {
  "kernelspec": {
   "display_name": "Python 3",
   "language": "python",
   "name": "python3"
  },
  "language_info": {
   "codemirror_mode": {
    "name": "ipython",
    "version": 3
   },
   "file_extension": ".py",
   "mimetype": "text/x-python",
   "name": "python",
   "nbconvert_exporter": "python",
   "pygments_lexer": "ipython3",
   "version": "3.8.3-final"
  }
 },
 "nbformat": 4,
 "nbformat_minor": 4
}