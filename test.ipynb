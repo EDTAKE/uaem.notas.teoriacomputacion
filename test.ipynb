{
 "metadata": {
  "language_info": {
   "codemirror_mode": {
    "name": "ipython",
    "version": 3
   },
   "file_extension": ".py",
   "mimetype": "text/x-python",
   "name": "python",
   "nbconvert_exporter": "python",
   "pygments_lexer": "ipython3",
   "version": "3.8.3-final"
  },
  "orig_nbformat": 2,
  "kernelspec": {
   "name": "python38364bitbaseconda497c5021e34e4f1e9adfb243efd91622",
   "display_name": "Python 3.8.3 64-bit ('base': conda)"
  }
 },
 "nbformat": 4,
 "nbformat_minor": 2,
 "cells": [
  {
   "cell_type": "code",
   "execution_count": 19,
   "metadata": {},
   "outputs": [],
   "source": [
    "import collections\n",
    "import copy\n",
    "import dataclasses\n",
    "import enum\n",
    "import json\n",
    "from typing import Hashable, Set, NamedTuple, Tuple\n",
    "from curso import automatasfinitos as af"
   ]
  },
  {
   "cell_type": "code",
   "execution_count": 12,
   "metadata": {},
   "outputs": [],
   "source": [
    "class Estado(NamedTuple):\n",
    "    gaillina: bool\n",
    "    costal: bool\n",
    "    perro: bool\n",
    "    humano: bool"
   ]
  },
  {
   "cell_type": "code",
   "execution_count": 13,
   "metadata": {},
   "outputs": [],
   "source": [
    "class Personaje(str, enum.Enum):\n",
    "    GALLINA = 'G'\n",
    "    COSTAL = 'C'\n",
    "    PERRO = 'P'\n",
    "    HUMANO = 'H'"
   ]
  },
  {
   "cell_type": "code",
   "execution_count": 9,
   "metadata": {},
   "outputs": [],
   "source": [
    "def pasar(estado, )"
   ]
  },
  {
   "cell_type": "code",
   "execution_count": null,
   "metadata": {},
   "outputs": [],
   "source": [
    "def siguientes(estado: Estado) -> Set[Estado]:\n",
    "    "
   ]
  },
  {
   "cell_type": "code",
   "execution_count": null,
   "metadata": {},
   "outputs": [],
   "source": [
    "tripletas = [\n",
    "    af.TripletaDeTransicion('CGHP-', 'C', 'GH-CP'),\n",
    "    af.TripletaDeTransicion('CGHP-', 'C', 'GH-CP')\n",
    "]\n",
    "automatasfinitos.AutomataFinitoDeterminista()"
   ]
  },
  {
   "cell_type": "code",
   "execution_count": 21,
   "metadata": {},
   "outputs": [],
   "source": [
    "@dataclasses.dataclass(unsafe_hash=True)\n",
    "class AcertijoRio:\n",
    "    costal: bool = False\n",
    "    gallina: bool = False\n",
    "    perro: bool = False\n",
    "    persona: bool = False\n",
    "    \n",
    "    @property\n",
    "    def estado_invalido(self):\n",
    "        return (self.gallina == self.costal != self.persona\n",
    "                or self.perro == self.gallina != self.persona)\n",
    "    \n",
    "    def cruzar_costal(self):\n",
    "        if self.estado_invalido: return\n",
    "        if self.persona != self.costal: return\n",
    "        self.persona = self.costal = not self.persona\n",
    "    \n",
    "    def cruzar_gallina(self):\n",
    "        if self.estado_invalido: return\n",
    "        if self.persona != self.gallina: return\n",
    "        self.persona = self.gallina = not self.persona\n",
    "    \n",
    "    def cruzar_perro(self):\n",
    "        if self.estado_invalido: return\n",
    "        if self.persona != self.perro: return\n",
    "        self.persona = self.perro = not self.persona\n",
    "    \n",
    "    def cruzar_persona(self):\n",
    "        if self.estado_invalido: return\n",
    "        self.persona = not self.persona\n",
    "    \n",
    "    def __repr__(self):\n",
    "        letras = 'CGPH'\n",
    "        estados = [self.costal, self.gallina, self.perro, self.persona]\n",
    "        izquierda = [letra for (letra, estado) in zip(letras, estados)\n",
    "                     if not estado]\n",
    "        derecha = [letra for (letra, estado) in zip(letras, estados) if estado]\n",
    "        return f\"{''.join(izquierda)}-{''.join(derecha)}\""
   ]
  },
  {
   "cell_type": "code",
   "execution_count": 28,
   "metadata": {},
   "outputs": [
    {
     "output_type": "error",
     "ename": "TypeError",
     "evalue": "unhashable type: 'AcertijoRio'",
     "traceback": [
      "\u001b[0;31m---------------------------------------------------------------------------\u001b[0m",
      "\u001b[0;31mTypeError\u001b[0m                                 Traceback (most recent call last)",
      "\u001b[0;32m<ipython-input-28-2703b92fe4a8>\u001b[0m in \u001b[0;36m<module>\u001b[0;34m\u001b[0m\n\u001b[0;32m----> 1\u001b[0;31m \u001b[0;34m{\u001b[0m\u001b[0mAcertijoRio\u001b[0m\u001b[0;34m(\u001b[0m\u001b[0;34m)\u001b[0m\u001b[0;34m,\u001b[0m \u001b[0mAcertijoRio\u001b[0m\u001b[0;34m(\u001b[0m\u001b[0;34m)\u001b[0m\u001b[0;34m}\u001b[0m\u001b[0;34m\u001b[0m\u001b[0;34m\u001b[0m\u001b[0m\n\u001b[0m",
      "\u001b[0;31mTypeError\u001b[0m: unhashable type: 'AcertijoRio'"
     ]
    }
   ],
   "source": [
    "{AcertijoRio(), AcertijoRio()}"
   ]
  },
  {
   "cell_type": "code",
   "execution_count": 16,
   "metadata": {},
   "outputs": [],
   "source": [
    "estados = set()\n",
    "tripletas = set()"
   ]
  },
  {
   "cell_type": "code",
   "execution_count": 24,
   "metadata": {},
   "outputs": [
    {
     "output_type": "error",
     "ename": "SyntaxError",
     "evalue": "invalid syntax (<ipython-input-24-ae7ad4c49529>, line 10)",
     "traceback": [
      "\u001b[0;36m  File \u001b[0;32m\"<ipython-input-24-ae7ad4c49529>\"\u001b[0;36m, line \u001b[0;32m10\u001b[0m\n\u001b[0;31m    for\u001b[0m\n\u001b[0m        ^\u001b[0m\n\u001b[0;31mSyntaxError\u001b[0m\u001b[0;31m:\u001b[0m invalid syntax\n"
     ]
    }
   ],
   "source": [
    "cola = collections.deque([AcertijoRio()])\n",
    "alfabeto = {\n",
    "    'C': AcertijoRio.cruzar_costal,\n",
    "    'G': AcertijoRio.cruzar_gallina,\n",
    "    'P': AcertijoRio.cruzar_perro,\n",
    "    'H': AcertijoRio.cruzar_persona\n",
    "}\n",
    "while cola:\n",
    "    estado = cola.popleft()\n",
    "    for simbolo, metodo in alfabeto.items():\n",
    "        \n"
   ]
  },
  {
   "cell_type": "code",
   "execution_count": null,
   "metadata": {},
   "outputs": [],
   "source": []
  }
 ]
}