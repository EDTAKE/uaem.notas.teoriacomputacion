{
 "cells": [
  {
   "cell_type": "markdown",
   "metadata": {},
   "source": [
    "# Máquinas de Turing"
   ]
  },
  {
   "cell_type": "code",
   "execution_count": 66,
   "metadata": {},
   "outputs": [],
   "source": [
    "import enum\n",
    "import functools\n",
    "from typing import Collection, Dict, Hashable, NamedTuple, Sequence, Tuple\n",
    "Estado = Hashable\n",
    "Simbolo = str"
   ]
  },
  {
   "cell_type": "code",
   "execution_count": 4,
   "metadata": {},
   "outputs": [],
   "source": [
    "class Cinta:\n",
    "    def __init__(self, entrada: Sequence[Simbolo], blanco: Simbolo = ' '):\n",
    "        self._blanco = blanco\n",
    "        self._contenido = list(entrada) if entrada else [blanco]\n",
    "        self._posicion = 0\n",
    "    \n",
    "    @property\n",
    "    def posicion(self):\n",
    "        return self._posicion\n",
    "    \n",
    "    @posicion.setter\n",
    "    def posicion(self, valor: int):\n",
    "        if not isinstance(valor, int):\n",
    "            raise TypeError()\n",
    "        valor = max(valor, 0)\n",
    "        if valor >= (longitud:=len(self._contenido)):\n",
    "            faltan = valor - longitud + 1\n",
    "            self._contenido += [self._blanco]*faltan\n",
    "        self._posicion = valor\n",
    "    \n",
    "    def leer(self) -> Simbolo:\n",
    "        return self._contenido[self.posicion]\n",
    "    \n",
    "    def escribir(self, simbolo: Simbolo):\n",
    "        self._contenido[self.posicion] = simbolo\n",
    "    \n",
    "    def derecha(self):\n",
    "        self.posicion += 1\n",
    "    \n",
    "    def izquierda(self):\n",
    "        self.posicion -= 1"
   ]
  },
  {
   "cell_type": "code",
   "execution_count": 58,
   "metadata": {},
   "outputs": [],
   "source": [
    "class Movimiento(int, enum.Enum):\n",
    "    IZQUIERDA = -1\n",
    "    NINGUNO = 0\n",
    "    DERECHA = 1"
   ]
  },
  {
   "cell_type": "code",
   "execution_count": 59,
   "metadata": {},
   "outputs": [],
   "source": [
    "class Transicion(NamedTuple):\n",
    "    estado: Estado\n",
    "    leer: Simbolo\n",
    "    siguiente: Estado\n",
    "    escribir: Simbolo\n",
    "    mover: int"
   ]
  },
  {
   "cell_type": "code",
   "execution_count": 61,
   "metadata": {},
   "outputs": [],
   "source": [
    "Programa = Collection[Transicion]"
   ]
  },
  {
   "cell_type": "code",
   "execution_count": 83,
   "metadata": {},
   "outputs": [],
   "source": [
    "class MaquinaDeTuring:\n",
    "    def __init__(self, programa: Programa, inicial: Estado,\n",
    "                 finales: Collection[Estado], blanco: Simbolo = ' '):\n",
    "        self._transicion = MaquinaDeTuring.programa_a_funcion(programa)\n",
    "        self._inicial = inicial\n",
    "        self._finales = frozenset(finales)\n",
    "        self._blanco = blanco\n",
    "    \n",
    "    @property\n",
    "    def blanco(self):\n",
    "        return self._blanco\n",
    "    \n",
    "    @property\n",
    "    def inicial(self):\n",
    "        return self._inicial\n",
    "    \n",
    "    @property\n",
    "    def finales(self):\n",
    "        return self._finales\n",
    "    \n",
    "    @staticmethod\n",
    "    def programa_a_funcion(programa) -> \\\n",
    "            Dict[Tuple[Estado, Simbolo], Tuple[Estado, Simbolo, int]]:\n",
    "        \n",
    "        return {(estado, simbolo): (siguiente, escribir, mover)\n",
    "                for (estado, simbolo, siguiente, escribir, mover) in programa}\n",
    "    \n",
    "    @functools.cached_property\n",
    "    def programa(self):\n",
    "        pares = self._transicion.items()\n",
    "        return tuple(\n",
    "            (estado, leer, siguiente, escribir, mover)\n",
    "            for ((estado, leer), (siguiente, escribir, mover)) in pares)\n",
    "    \n",
    "    @functools.cached_property\n",
    "    def estados(self):\n",
    "        resultado = {self.inicial}\n",
    "        for (estado, simbolo, siguiente, escribir, mover) in self.programa:\n",
    "            resultado |= {estado, siguiente}\n",
    "        resultado |= self.finales\n",
    "        return resultado\n",
    "    \n",
    "    @functools.cached_property\n",
    "    def alfabeto(self):\n",
    "        resultado = {self.blanco}\n",
    "        for (estado, leer, siguiente, escribir, mover) in self.programa:\n",
    "            resultado |= {leer, escribir}\n",
    "        return resultado\n",
    "    \n",
    "    def __call__(self, palabra: Sequence[Simbolo]) -> bool:\n",
    "        estado = self.inicial\n",
    "        cinta = Cinta(palabra, blanco=self.blanco)\n",
    "        while estado not in self.finales:\n",
    "            leer = cinta.leer()\n",
    "            tripleta = self._transicion.get((estado, leer))\n",
    "            if tripleta is None:\n",
    "                return False\n",
    "            (estado, escribir, mover) = tripleta\n",
    "            cinta.escribir(escribir)\n",
    "            cinta.posicion += mover\n",
    "        return True"
   ]
  },
  {
   "cell_type": "markdown",
   "metadata": {},
   "source": [
    "**Ejemplo**\n",
    "El lenguaje de los paréntesis balanceados."
   ]
  },
  {
   "cell_type": "code",
   "execution_count": 90,
   "metadata": {},
   "outputs": [],
   "source": [
    "L, R = Movimiento.IZQUIERDA, Movimiento.DERECHA\n",
    "P = [\n",
    "    Transicion(0, ' ', 1, ' ', R), # Aceptar cadena vacía\n",
    "    Transicion(0, '(', 2, '[', R),\n",
    "    # Buscar siguiente símbolo de cierre )\n",
    "    Transicion(2, '(', 2, '(', R),\n",
    "    Transicion(2, ')', 3, 'X', L),\n",
    "    Transicion(2, 'X', 2, 'X', R),\n",
    "    Transicion(2, ' ', 4, ' ', L),\n",
    "    # Buscar el ( correspondiente\n",
    "    Transicion(3, 'X', 3, 'X', L),\n",
    "    Transicion(3, '(', 2, 'X', R),\n",
    "    Transicion(3, '[', 2, 'Y', R),\n",
    "    # Buscar que no quedaron paréntesis abiertos\n",
    "    Transicion(4, 'X', 4, 'X', L),\n",
    "    Transicion(4, 'Y', 1, 'Y', L), # Aceptar\n",
    "]\n",
    "q0 = 0\n",
    "F = [1]\n",
    "M = MaquinaDeTuring(P, q0, F)"
   ]
  },
  {
   "cell_type": "code",
   "execution_count": 91,
   "metadata": {},
   "outputs": [
    {
     "data": {
      "text/plain": [
       "True"
      ]
     },
     "execution_count": 91,
     "metadata": {},
     "output_type": "execute_result"
    }
   ],
   "source": [
    "M('')"
   ]
  },
  {
   "cell_type": "code",
   "execution_count": 92,
   "metadata": {},
   "outputs": [
    {
     "data": {
      "text/plain": [
       "True"
      ]
     },
     "execution_count": 92,
     "metadata": {},
     "output_type": "execute_result"
    }
   ],
   "source": [
    "M('()')"
   ]
  },
  {
   "cell_type": "code",
   "execution_count": 93,
   "metadata": {},
   "outputs": [
    {
     "data": {
      "text/plain": [
       "True"
      ]
     },
     "execution_count": 93,
     "metadata": {},
     "output_type": "execute_result"
    }
   ],
   "source": [
    "M('(((())))(())')"
   ]
  },
  {
   "cell_type": "code",
   "execution_count": 94,
   "metadata": {},
   "outputs": [
    {
     "data": {
      "text/plain": [
       "False"
      ]
     },
     "execution_count": 94,
     "metadata": {},
     "output_type": "execute_result"
    }
   ],
   "source": [
    "M(')()')"
   ]
  },
  {
   "cell_type": "code",
   "execution_count": 95,
   "metadata": {},
   "outputs": [
    {
     "data": {
      "text/plain": [
       "False"
      ]
     },
     "execution_count": 95,
     "metadata": {},
     "output_type": "execute_result"
    }
   ],
   "source": [
    "M('(()()')"
   ]
  },
  {
   "cell_type": "code",
   "execution_count": 96,
   "metadata": {},
   "outputs": [
    {
     "data": {
      "text/plain": [
       "False"
      ]
     },
     "execution_count": 96,
     "metadata": {},
     "output_type": "execute_result"
    }
   ],
   "source": [
    "M('(()))()')"
   ]
  },
  {
   "cell_type": "markdown",
   "metadata": {},
   "source": [
    "**Ejemplo**\n",
    "El lenguaje $\\{\\texttt{a}^n\\texttt{b}^n\\texttt{c}^n\\mid n\\in \\mathbb{N}\\}$"
   ]
  },
  {
   "cell_type": "code",
   "execution_count": null,
   "metadata": {},
   "outputs": [],
   "source": []
  }
 ],
 "metadata": {
  "kernelspec": {
   "display_name": "Python 3",
   "language": "python",
   "name": "python3"
  },
  "language_info": {
   "codemirror_mode": {
    "name": "ipython",
    "version": 3
   },
   "file_extension": ".py",
   "mimetype": "text/x-python",
   "name": "python",
   "nbconvert_exporter": "python",
   "pygments_lexer": "ipython3",
   "version": "3.8.3"
  }
 },
 "nbformat": 4,
 "nbformat_minor": 4
}
