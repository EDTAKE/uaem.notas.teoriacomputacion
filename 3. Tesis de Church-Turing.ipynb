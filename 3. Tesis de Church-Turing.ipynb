{
 "cells": [
  {
   "cell_type": "markdown",
   "metadata": {},
   "source": [
    "# Máquinas de Turing"
   ]
  },
  {
   "cell_type": "markdown",
   "metadata": {},
   "source": [
    "**Definición** Una máquina de Turing es una 6-ada $(Q, \\Sigma, \\Gamma, \\delta,\n",
    "q_0, F)$ donde:\n",
    "1. $Q$ es el conjunto de estados\n",
    "2. $\\Sigma$ el alfabeto de *entrada*\n",
    "3. $\\Gamma$ el alfabeto de *cinta* con el *símbolo blanco* $␣ \\in \\Gamma$\n",
    "4. $\\delta: Q \\times \\Gamma \\to Q \\times \\Gamma \\times \\{R, L\\}$ es la función\n",
    "   parcial *de transición*.\n",
    "5. $q_0$ el estado *inicial*\n",
    "6. $F \\subseteq Q$ el conjunto de *estados finales*"
   ]
  },
  {
   "cell_type": "code",
   "execution_count": null,
   "metadata": {},
   "outputs": [],
   "source": [
    "from curso.turing import *"
   ]
  },
  {
   "cell_type": "markdown",
   "metadata": {},
   "source": [
    "**Ejemplo**\n",
    "El lenguaje de los paréntesis balanceados."
   ]
  },
  {
   "cell_type": "code",
   "execution_count": null,
   "metadata": {},
   "outputs": [],
   "source": [
    "L, R = Movimiento.IZQUIERDA, Movimiento.DERECHA\n",
    "P = [\n",
    "    Transicion(0, ' ', 1, ' ', R), # Aceptar cadena vacía\n",
    "    Transicion(0, '(', 2, '[', R),\n",
    "    # Buscar siguiente símbolo de cierre )\n",
    "    Transicion(2, '(', 2, '(', R),\n",
    "    Transicion(2, ')', 3, 'X', L),\n",
    "    Transicion(2, 'X', 2, 'X', R),\n",
    "    Transicion(2, ' ', 4, ' ', L),\n",
    "    # Buscar el ( correspondiente\n",
    "    Transicion(3, 'X', 3, 'X', L),\n",
    "    Transicion(3, '(', 2, 'X', R),\n",
    "    Transicion(3, '[', 2, 'Y', R),\n",
    "    # Buscar que no quedaron paréntesis abiertos\n",
    "    Transicion(4, 'X', 4, 'X', L),\n",
    "    Transicion(4, 'Y', 1, 'Y', L), # Aceptar\n",
    "]\n",
    "q0 = 0\n",
    "F = [1]\n",
    "M = MaquinaDeTuring(P, q0, F)"
   ]
  },
  {
   "cell_type": "code",
   "execution_count": null,
   "metadata": {},
   "outputs": [],
   "source": [
    "M('')"
   ]
  },
  {
   "cell_type": "code",
   "execution_count": null,
   "metadata": {},
   "outputs": [],
   "source": [
    "M('()')"
   ]
  },
  {
   "cell_type": "code",
   "execution_count": null,
   "metadata": {},
   "outputs": [],
   "source": [
    "M('(((())))(())')"
   ]
  },
  {
   "cell_type": "code",
   "execution_count": null,
   "metadata": {},
   "outputs": [],
   "source": [
    "M(')()')"
   ]
  },
  {
   "cell_type": "code",
   "execution_count": null,
   "metadata": {},
   "outputs": [],
   "source": [
    "M('(()()')"
   ]
  },
  {
   "cell_type": "code",
   "execution_count": null,
   "metadata": {},
   "outputs": [],
   "source": [
    "M('(()))()')"
   ]
  },
  {
   "cell_type": "markdown",
   "metadata": {},
   "source": [
    "**Ejemplo**\n",
    "El lenguaje $\\{\\texttt{a}^n\\texttt{b}^n\\texttt{c}^n\\mid n\\in \\mathbb{N}\\}$"
   ]
  },
  {
   "cell_type": "code",
   "execution_count": null,
   "metadata": {},
   "outputs": [],
   "source": [
    "P = [\n",
    "    Transicion(0, 'B', 5, 'B', L),\n",
    "    Transicion(0, 'a', 1, 'X', R),\n",
    "    Transicion(0, 'Y', 4, 'Y', R),\n",
    "    # Buscar la sig. b\n",
    "    Transicion(1, 'a', 1, 'a', R),\n",
    "    Transicion(1, 'Y', 1, 'Y', R),\n",
    "    Transicion(1, 'b', 2, 'Y', R),\n",
    "    # Buscar la sig. c\n",
    "    Transicion(2, 'b', 2, 'b', R),\n",
    "    Transicion(2, 'Z', 2, 'Z', R),\n",
    "    Transicion(2, 'c', 3, 'Z', L),\n",
    "    # Buscar la sig. a\n",
    "    Transicion(3, 'a', 3, 'a', L),\n",
    "    Transicion(3, 'b', 3, 'b', L),\n",
    "    Transicion(3, 'Y', 3, 'Y', L),\n",
    "    Transicion(3, 'Z', 3, 'Z', L),\n",
    "    Transicion(3, 'X', 0, 'X', R),\n",
    "    # Verificar que no hay más b ni c\n",
    "    Transicion(4, 'Y', 4, 'Y', R),\n",
    "    Transicion(4, 'Z', 4, 'Z', R),\n",
    "    Transicion(4, 'B', 5, 'B', L),\n",
    "]\n",
    "q0 = 0\n",
    "F = [5]\n",
    "M = MaquinaDeTuring(P, q0, F, blanco='B')"
   ]
  },
  {
   "cell_type": "code",
   "execution_count": null,
   "metadata": {},
   "outputs": [],
   "source": [
    "M('aaabbbccc')"
   ]
  },
  {
   "cell_type": "code",
   "execution_count": null,
   "metadata": {},
   "outputs": [],
   "source": [
    "M('')"
   ]
  },
  {
   "cell_type": "code",
   "execution_count": null,
   "metadata": {},
   "outputs": [],
   "source": [
    "M('aaaabbbccc')"
   ]
  },
  {
   "cell_type": "code",
   "execution_count": null,
   "metadata": {},
   "outputs": [],
   "source": [
    "M('aabbbccc')"
   ]
  },
  {
   "cell_type": "code",
   "execution_count": null,
   "metadata": {},
   "outputs": [],
   "source": [
    "M('aabbccc')"
   ]
  },
  {
   "cell_type": "code",
   "execution_count": null,
   "metadata": {},
   "outputs": [],
   "source": [
    "M('aabbc')"
   ]
  },
  {
   "cell_type": "markdown",
   "metadata": {},
   "source": [
    "**Tarea personal**\n",
    "- Investigar lenguajes funcionales como LISP\n",
    "- Investigar modelos de cómputo alternativos como la Máquina RAM,\n",
    "  sistemas de etiquetado y la Regla 110.\n",
    "- Investigar las [características funcionales](https://docs.python.org/3/howto/functional.html) de Python"
   ]
  },
  {
   "cell_type": "markdown",
   "metadata": {},
   "source": [
    "## Modelos de cómputo alternativos\n",
    "#### Máquinas de Post-Turing:\n",
    "- `[` $L$ `]`\n",
    "- `LEFT`\n",
    "- `RIGHT`\n",
    "- `PRINT` $\\sigma$\n",
    "- `IF` $\\sigma$ `GOTO` $L$"
   ]
  },
  {
   "cell_type": "markdown",
   "metadata": {},
   "source": [
    "#### Máquinas de Turing multipista\n",
    "Las transiciones son de la forma\n",
    "$Q \\times \\Gamma^k \\times Q \\times \\Gamma^k \\times \\{R, L\\}$"
   ]
  },
  {
   "cell_type": "code",
   "execution_count": null,
   "metadata": {},
   "outputs": [],
   "source": [
    "Transicion(0, (' ', 'a', 'b'), 1, (' ', 'b', 'a'), R)"
   ]
  },
  {
   "cell_type": "markdown",
   "metadata": {},
   "source": [
    "#### Máquinas de Turing multicinta"
   ]
  },
  {
   "cell_type": "markdown",
   "metadata": {},
   "source": [
    "Las trancisiones tienen la forma:\n",
    "$Q \\times \\Gamma^k \\times Q \\times \\Gamma^k \\times \\{R, L\\}^k$"
   ]
  },
  {
   "cell_type": "code",
   "execution_count": null,
   "metadata": {},
   "outputs": [],
   "source": [
    "Transicion(0, (' ', 'a', 'b'), 1, (' ', 'b', 'a'), (R, R, L))"
   ]
  },
  {
   "cell_type": "code",
   "execution_count": null,
   "metadata": {},
   "outputs": [],
   "source": [
    "'#aaabbbb·bbbaaabab#aabba· #·abcca#         '"
   ]
  },
  {
   "cell_type": "markdown",
   "metadata": {},
   "source": [
    "#### Máquinas de Turing no deterministas\n",
    "Es posible tener cero, una, dos  o más transiciones con el mísmo estado y \n",
    "símbolo de lectura.\n",
    "$$\\delta:Q\\times\\Gamma \\to \\mathcal{P}(Q\\times \\Gamma \\times \\{L, R\\})$$"
   ]
  },
  {
   "cell_type": "markdown",
   "metadata": {},
   "source": [
    "# Leguajes enumerables y recursivamente enumerables"
   ]
  },
  {
   "cell_type": "markdown",
   "metadata": {},
   "source": [
    "Todo algoritmo termina de tres posibles maneras:\n",
    "1. El algoritmo retorna una respuesta de manera satisfactoria luego de\n",
    "   encontrar una solución (salida) para la instancia (entrada)\n",
    "2. El algoritmo nunca termina (¿es esto un algoritmo?) porque no\n",
    "   encuentra una solución\n",
    "3. El algoritmo determina que la entrada no tiene solución y termina con\n",
    "   un error"
   ]
  },
  {
   "cell_type": "markdown",
   "metadata": {},
   "source": [
    "En términos de problemas de decisión sobre lenguajes ($w\\in L$)\n",
    "1. El autómata acepta $w$\n",
    "2. El autómata entra en un ciclo infinito\n",
    "3. el autómata rechaza $w$"
   ]
  },
  {
   "cell_type": "markdown",
   "metadata": {},
   "source": [
    "**Definición**\n",
    "Sea $L$ un lenguaje sobre $\\Sigma$\n",
    "- Decimos que $L$ es *decidible* si existe una M.T. $M$ tal que para toda $w\n",
    "  \\in \\Sigma^*$ la máquina $M$ acepta o rechaza a $w$ pero nunca se cicla.\n",
    "- $L$ es *reconocible* si existe una M.T. $M$ tal que para toda $w \\in L$ la\n",
    "  máquina $M$ acepta."
   ]
  },
  {
   "cell_type": "markdown",
   "metadata": {},
   "source": [
    "**Definición**\n",
    "Un *enumerador* es una Máquina de Turing $M$ que tiene un estado especial que\n",
    "hace que la palabra escrita en la cinta sea imprimida.\n",
    "El lenguaje $L(M)$ es el conjunto de palabras que son impresas.\n",
    "Decimos que $M$ enumera a $L(M)$ o que $L(M)$ es *enumerable*"
   ]
  },
  {
   "cell_type": "code",
   "execution_count": null,
   "metadata": {},
   "outputs": [],
   "source": [
    "def siguientes(iterable, n):\n",
    "    return list(itertools.islice(iterable, n))"
   ]
  },
  {
   "cell_type": "code",
   "execution_count": null,
   "metadata": {},
   "outputs": [],
   "source": [
    "def E():\n",
    "    x = 0\n",
    "    while True:\n",
    "        x += 1\n",
    "        yield x**32168 % 71"
   ]
  },
  {
   "cell_type": "code",
   "execution_count": null,
   "metadata": {},
   "outputs": [],
   "source": [
    "it = iter(E())"
   ]
  },
  {
   "cell_type": "code",
   "execution_count": null,
   "metadata": {},
   "outputs": [],
   "source": [
    "[next(it) for _ in range(100)]"
   ]
  },
  {
   "cell_type": "markdown",
   "metadata": {},
   "source": [
    "**Teorema**\n",
    "Un lenguaje $L$ es reconocible si y sólo si es enumerable."
   ]
  },
  {
   "cell_type": "markdown",
   "metadata": {},
   "source": [
    "$\\Rightarrow$) ($L$ es reconocible $\\Rightarrow$ es numerable)"
   ]
  },
  {
   "cell_type": "code",
   "execution_count": 7,
   "metadata": {},
   "outputs": [],
   "source": [
    "import ast\n",
    "from concurrent import futures\n",
    "import itertools\n",
    "import string\n",
    "import time\n",
    "from typing import Iterable"
   ]
  },
  {
   "cell_type": "code",
   "execution_count": 2,
   "metadata": {},
   "outputs": [],
   "source": [
    "def sigma_estrella(alfabeto: str) -> Iterable[str]:\n",
    "    n = 0\n",
    "    while True:\n",
    "        yield from map(''.join,\n",
    "            itertools.product(alfabeto, repeat=n))\n",
    "        n += 1"
   ]
  },
  {
   "cell_type": "code",
   "execution_count": 3,
   "metadata": {},
   "outputs": [],
   "source": [
    "def hacer_enumerador(M):\n",
    "    \n",
    "    def E():\n",
    "        it = iter(sigma_estrella(string.printable))\n",
    "        entradas = []\n",
    "        n = 0\n",
    "        while True:\n",
    "            n += 1\n",
    "            entradas.append(next(it))\n",
    "            promesas, resultados = [], []\n",
    "            with futures.ProcessPoolExecutor() as e:\n",
    "                for w in entradas:\n",
    "                    # Correr M(w) en paralelo\n",
    "                    promesas.append(e.submit(M, w))\n",
    "                \n",
    "                time.sleep(n**2)  # Esperar n**2 segundos\n",
    "                \n",
    "                # Recolectar resultados\n",
    "                for x in promesas:\n",
    "                    try:\n",
    "                        resultados.append(x.result(0.0))\n",
    "                    except futures.TimeoutError:\n",
    "                        resultados.append(None)\n",
    "            \n",
    "            for w, r in zip(entradas, resultados):\n",
    "                if r: yield w\n",
    "    \n",
    "    return E"
   ]
  },
  {
   "cell_type": "code",
   "execution_count": 12,
   "metadata": {},
   "outputs": [],
   "source": [
    "def es_primo(w):\n",
    "    \"\"\"\n",
    "    Reconocedor de números primos.\n",
    "    \"\"\"\n",
    "    try:\n",
    "        n = int(w)\n",
    "    except:\n",
    "        return False\n",
    "    if n <= 0: return False\n",
    "    for m in range(2, n):\n",
    "        if n % m == 0:\n",
    "            return False\n",
    "    return True"
   ]
  },
  {
   "cell_type": "code",
   "execution_count": 13,
   "metadata": {},
   "outputs": [],
   "source": [
    "enumerar_primos = hacer_enumerador(es_primo)"
   ]
  },
  {
   "cell_type": "code",
   "execution_count": 14,
   "metadata": {},
   "outputs": [
    {
     "name": "stdout",
     "output_type": "stream",
     "text": [
      "1\n",
      "1\n",
      "2\n",
      "1\n",
      "2\n",
      "3\n",
      "1\n",
      "2\n",
      "3\n",
      "1\n",
      "2\n",
      "3\n",
      "5\n",
      "1\n",
      "2\n",
      "3\n",
      "5\n",
      "1\n",
      "2\n",
      "3\n",
      "5\n",
      "7\n",
      "1\n",
      "2\n",
      "3\n",
      "5\n",
      "7\n",
      "1\n",
      "2\n",
      "3\n",
      "5\n",
      "7\n",
      "1\n",
      "2\n",
      "3\n",
      "5\n",
      "7\n",
      "1\n",
      "2\n",
      "3\n",
      "5\n",
      "7\n"
     ]
    },
    {
     "name": "stderr",
     "output_type": "stream",
     "text": [
      "Process ForkProcess-278:\n",
      "Process ForkProcess-277:\n",
      "Process ForkProcess-279:\n",
      "Process ForkProcess-274:\n",
      "Process ForkProcess-280:\n",
      "Process ForkProcess-273:\n",
      "Traceback (most recent call last):\n",
      "Traceback (most recent call last):\n",
      "Traceback (most recent call last):\n",
      "  File \"/home/abarcam/anaconda3/lib/python3.8/multiprocessing/process.py\", line 315, in _bootstrap\n",
      "    self.run()\n",
      "  File \"/home/abarcam/anaconda3/lib/python3.8/multiprocessing/process.py\", line 315, in _bootstrap\n",
      "    self.run()\n",
      "Traceback (most recent call last):\n",
      "Traceback (most recent call last):\n",
      "Traceback (most recent call last):\n",
      "  File \"/home/abarcam/anaconda3/lib/python3.8/multiprocessing/process.py\", line 315, in _bootstrap\n",
      "    self.run()\n",
      "  File \"/home/abarcam/anaconda3/lib/python3.8/multiprocessing/process.py\", line 108, in run\n",
      "    self._target(*self._args, **self._kwargs)\n",
      "  File \"/home/abarcam/anaconda3/lib/python3.8/multiprocessing/process.py\", line 315, in _bootstrap\n",
      "    self.run()\n",
      "  File \"/home/abarcam/anaconda3/lib/python3.8/multiprocessing/process.py\", line 315, in _bootstrap\n",
      "    self.run()\n",
      "  File \"/home/abarcam/anaconda3/lib/python3.8/multiprocessing/process.py\", line 108, in run\n",
      "    self._target(*self._args, **self._kwargs)\n",
      "  File \"/home/abarcam/anaconda3/lib/python3.8/multiprocessing/process.py\", line 315, in _bootstrap\n",
      "    self.run()\n",
      "  File \"/home/abarcam/anaconda3/lib/python3.8/concurrent/futures/process.py\", line 233, in _process_worker\n",
      "    call_item = call_queue.get(block=True)\n",
      "  File \"/home/abarcam/anaconda3/lib/python3.8/multiprocessing/process.py\", line 108, in run\n",
      "    self._target(*self._args, **self._kwargs)\n",
      "  File \"/home/abarcam/anaconda3/lib/python3.8/concurrent/futures/process.py\", line 233, in _process_worker\n",
      "    call_item = call_queue.get(block=True)\n",
      "  File \"/home/abarcam/anaconda3/lib/python3.8/multiprocessing/process.py\", line 108, in run\n",
      "    self._target(*self._args, **self._kwargs)\n",
      "  File \"/home/abarcam/anaconda3/lib/python3.8/multiprocessing/process.py\", line 108, in run\n",
      "    self._target(*self._args, **self._kwargs)\n",
      "  File \"/home/abarcam/anaconda3/lib/python3.8/multiprocessing/process.py\", line 108, in run\n",
      "    self._target(*self._args, **self._kwargs)\n",
      "  File \"/home/abarcam/anaconda3/lib/python3.8/concurrent/futures/process.py\", line 233, in _process_worker\n",
      "    call_item = call_queue.get(block=True)\n",
      "  File \"/home/abarcam/anaconda3/lib/python3.8/concurrent/futures/process.py\", line 233, in _process_worker\n",
      "    call_item = call_queue.get(block=True)\n",
      "  File \"/home/abarcam/anaconda3/lib/python3.8/concurrent/futures/process.py\", line 233, in _process_worker\n",
      "    call_item = call_queue.get(block=True)\n",
      "  File \"/home/abarcam/anaconda3/lib/python3.8/multiprocessing/queues.py\", line 96, in get\n",
      "    with self._rlock:\n",
      "  File \"/home/abarcam/anaconda3/lib/python3.8/multiprocessing/queues.py\", line 96, in get\n",
      "    with self._rlock:\n",
      "  File \"/home/abarcam/anaconda3/lib/python3.8/multiprocessing/queues.py\", line 96, in get\n",
      "    with self._rlock:\n",
      "  File \"/home/abarcam/anaconda3/lib/python3.8/multiprocessing/synchronize.py\", line 95, in __enter__\n",
      "    return self._semlock.__enter__()\n",
      "  File \"/home/abarcam/anaconda3/lib/python3.8/multiprocessing/synchronize.py\", line 95, in __enter__\n",
      "    return self._semlock.__enter__()\n",
      "  File \"/home/abarcam/anaconda3/lib/python3.8/multiprocessing/queues.py\", line 97, in get\n",
      "    res = self._recv_bytes()\n",
      "  File \"/home/abarcam/anaconda3/lib/python3.8/multiprocessing/queues.py\", line 96, in get\n",
      "    with self._rlock:\n",
      "KeyboardInterrupt\n",
      "  File \"/home/abarcam/anaconda3/lib/python3.8/multiprocessing/synchronize.py\", line 95, in __enter__\n",
      "    return self._semlock.__enter__()\n",
      "  File \"/home/abarcam/anaconda3/lib/python3.8/multiprocessing/connection.py\", line 216, in recv_bytes\n",
      "    buf = self._recv_bytes(maxlength)\n",
      "  File \"/home/abarcam/anaconda3/lib/python3.8/multiprocessing/synchronize.py\", line 95, in __enter__\n",
      "    return self._semlock.__enter__()\n",
      "  File \"/home/abarcam/anaconda3/lib/python3.8/multiprocessing/connection.py\", line 414, in _recv_bytes\n",
      "    buf = self._recv(4)\n",
      "KeyboardInterrupt\n",
      "  File \"/home/abarcam/anaconda3/lib/python3.8/multiprocessing/connection.py\", line 379, in _recv\n",
      "    chunk = read(handle, remaining)\n",
      "KeyboardInterrupt\n",
      "KeyboardInterrupt\n",
      "  File \"/home/abarcam/anaconda3/lib/python3.8/concurrent/futures/process.py\", line 233, in _process_worker\n",
      "    call_item = call_queue.get(block=True)\n",
      "KeyboardInterrupt\n",
      "  File \"/home/abarcam/anaconda3/lib/python3.8/multiprocessing/queues.py\", line 96, in get\n",
      "    with self._rlock:\n",
      "  File \"/home/abarcam/anaconda3/lib/python3.8/multiprocessing/synchronize.py\", line 95, in __enter__\n",
      "    return self._semlock.__enter__()\n",
      "KeyboardInterrupt\n",
      "Process ForkProcess-275:\n",
      "Process ForkProcess-276:\n",
      "Traceback (most recent call last):\n",
      "Traceback (most recent call last):\n",
      "  File \"/home/abarcam/anaconda3/lib/python3.8/multiprocessing/process.py\", line 315, in _bootstrap\n",
      "    self.run()\n",
      "  File \"/home/abarcam/anaconda3/lib/python3.8/multiprocessing/process.py\", line 315, in _bootstrap\n",
      "    self.run()\n",
      "  File \"/home/abarcam/anaconda3/lib/python3.8/multiprocessing/process.py\", line 108, in run\n",
      "    self._target(*self._args, **self._kwargs)\n",
      "  File \"/home/abarcam/anaconda3/lib/python3.8/multiprocessing/process.py\", line 108, in run\n",
      "    self._target(*self._args, **self._kwargs)\n",
      "  File \"/home/abarcam/anaconda3/lib/python3.8/concurrent/futures/process.py\", line 233, in _process_worker\n",
      "    call_item = call_queue.get(block=True)\n",
      "  File \"/home/abarcam/anaconda3/lib/python3.8/concurrent/futures/process.py\", line 233, in _process_worker\n",
      "    call_item = call_queue.get(block=True)\n",
      "  File \"/home/abarcam/anaconda3/lib/python3.8/multiprocessing/queues.py\", line 96, in get\n",
      "    with self._rlock:\n",
      "  File \"/home/abarcam/anaconda3/lib/python3.8/multiprocessing/queues.py\", line 96, in get\n",
      "    with self._rlock:\n",
      "  File \"/home/abarcam/anaconda3/lib/python3.8/multiprocessing/synchronize.py\", line 95, in __enter__\n",
      "    return self._semlock.__enter__()\n",
      "  File \"/home/abarcam/anaconda3/lib/python3.8/multiprocessing/synchronize.py\", line 95, in __enter__\n",
      "    return self._semlock.__enter__()\n",
      "KeyboardInterrupt\n",
      "KeyboardInterrupt\n"
     ]
    },
    {
     "ename": "KeyboardInterrupt",
     "evalue": "",
     "output_type": "error",
     "traceback": [
      "\u001b[0;31m---------------------------------------------------------------------------\u001b[0m",
      "\u001b[0;31mKeyboardInterrupt\u001b[0m                         Traceback (most recent call last)",
      "\u001b[0;32m<ipython-input-14-aa6ef25c0ae8>\u001b[0m in \u001b[0;36m<module>\u001b[0;34m\u001b[0m\n\u001b[0;32m----> 1\u001b[0;31m \u001b[0;32mfor\u001b[0m \u001b[0mi\u001b[0m\u001b[0;34m,\u001b[0m \u001b[0mprimos\u001b[0m \u001b[0;32min\u001b[0m \u001b[0menumerate\u001b[0m\u001b[0;34m(\u001b[0m\u001b[0menumerar_primos\u001b[0m\u001b[0;34m(\u001b[0m\u001b[0;34m)\u001b[0m\u001b[0;34m)\u001b[0m\u001b[0;34m:\u001b[0m\u001b[0;34m\u001b[0m\u001b[0;34m\u001b[0m\u001b[0m\n\u001b[0m\u001b[1;32m      2\u001b[0m     \u001b[0mprint\u001b[0m\u001b[0;34m(\u001b[0m\u001b[0mprimos\u001b[0m\u001b[0;34m)\u001b[0m\u001b[0;34m\u001b[0m\u001b[0;34m\u001b[0m\u001b[0m\n\u001b[1;32m      3\u001b[0m     \u001b[0;32mif\u001b[0m \u001b[0mi\u001b[0m \u001b[0;34m>=\u001b[0m \u001b[0;36m50\u001b[0m\u001b[0;34m:\u001b[0m \u001b[0;32mbreak\u001b[0m\u001b[0;34m\u001b[0m\u001b[0;34m\u001b[0m\u001b[0m\n",
      "\u001b[0;32m<ipython-input-3-8528d06b455b>\u001b[0m in \u001b[0;36mE\u001b[0;34m()\u001b[0m\n\u001b[1;32m     13\u001b[0m                     \u001b[0;31m# Correr M(w) en paralelo\u001b[0m\u001b[0;34m\u001b[0m\u001b[0;34m\u001b[0m\u001b[0;34m\u001b[0m\u001b[0m\n\u001b[1;32m     14\u001b[0m                     \u001b[0mpromesas\u001b[0m\u001b[0;34m.\u001b[0m\u001b[0mappend\u001b[0m\u001b[0;34m(\u001b[0m\u001b[0me\u001b[0m\u001b[0;34m.\u001b[0m\u001b[0msubmit\u001b[0m\u001b[0;34m(\u001b[0m\u001b[0mM\u001b[0m\u001b[0;34m,\u001b[0m \u001b[0mw\u001b[0m\u001b[0;34m)\u001b[0m\u001b[0;34m)\u001b[0m\u001b[0;34m\u001b[0m\u001b[0;34m\u001b[0m\u001b[0m\n\u001b[0;32m---> 15\u001b[0;31m                 \u001b[0mtime\u001b[0m\u001b[0;34m.\u001b[0m\u001b[0msleep\u001b[0m\u001b[0;34m(\u001b[0m\u001b[0mn\u001b[0m\u001b[0;34m**\u001b[0m\u001b[0;36m2\u001b[0m\u001b[0;34m/\u001b[0m\u001b[0;36m10\u001b[0m\u001b[0;34m)\u001b[0m  \u001b[0;31m# Esperar n**2 segundos\u001b[0m\u001b[0;34m\u001b[0m\u001b[0;34m\u001b[0m\u001b[0m\n\u001b[0m\u001b[1;32m     16\u001b[0m \u001b[0;34m\u001b[0m\u001b[0m\n\u001b[1;32m     17\u001b[0m                 \u001b[0;31m# Recolectar resultados\u001b[0m\u001b[0;34m\u001b[0m\u001b[0;34m\u001b[0m\u001b[0;34m\u001b[0m\u001b[0m\n",
      "\u001b[0;31mKeyboardInterrupt\u001b[0m: "
     ]
    }
   ],
   "source": [
    "for i, primos in enumerate(enumerar_primos()):\n",
    "    print(primos)\n",
    "    if i >= 50: break"
   ]
  },
  {
   "cell_type": "markdown",
   "metadata": {},
   "source": [
    "$\\Leftarrow$) ($L$ es numerable $\\Rightarrow$ es reconocible)"
   ]
  },
  {
   "cell_type": "code",
   "execution_count": 15,
   "metadata": {},
   "outputs": [],
   "source": [
    "def hacer_reconodor(E):\n",
    "    \n",
    "    def M(w):\n",
    "        for x in E():\n",
    "            if x == w:\n",
    "                return True\n",
    "        return False\n",
    "    \n",
    "    return M"
   ]
  },
  {
   "cell_type": "markdown",
   "metadata": {},
   "source": [
    "# Terminología para máquinas de Turing"
   ]
  },
  {
   "cell_type": "markdown",
   "metadata": {},
   "source": [
    "1. Basta con describir una máquina de turing en pseudocódigo o un\n",
    "   sistema formal equivalente para que quede claro que dicha máquina se\n",
    "   puede implementar.\n",
    "2. Todo se puede respresentar con texto. Dado un objeto $O$, suponemos\n",
    "   que existe una *función codificadora* $\\langle\\cdot\\rangle: U \\to \n",
    "   \\Sigma^\\star$, de manera que $\\langle O\\rangle$ es la codificación\n",
    "   del objeto $O$."
   ]
  },
  {
   "cell_type": "markdown",
   "metadata": {},
   "source": [
    "En consecuencia, todo algoritmo tiene una codificación. Es decir, si $M$ es una\n",
    "máquina de Turing entonces $\\langle M\\rangle$ es una cadena que contiene la\n",
    "información necesaria para recrear dicha máquina."
   ]
  },
  {
   "cell_type": "code",
   "execution_count": 17,
   "metadata": {},
   "outputs": [],
   "source": [
    "representación = '''\n",
    "P = [\n",
    "    Transicion(0, 'B', 5, 'B', L),\n",
    "    Transicion(0, 'a', 1, 'X', R),\n",
    "    Transicion(0, 'Y', 4, 'Y', R),\n",
    "    # Buscar la sig. b\n",
    "    Transicion(1, 'a', 1, 'a', R),\n",
    "    Transicion(1, 'Y', 1, 'Y', R),\n",
    "    Transicion(1, 'b', 2, 'Y', R),\n",
    "    # Buscar la sig. c\n",
    "    Transicion(2, 'b', 2, 'b', R),\n",
    "    Transicion(2, 'Z', 2, 'Z', R),\n",
    "    Transicion(2, 'c', 3, 'Z', L),\n",
    "    # Buscar la sig. a\n",
    "    Transicion(3, 'a', 3, 'a', L),\n",
    "    Transicion(3, 'b', 3, 'b', L),\n",
    "    Transicion(3, 'Y', 3, 'Y', L),\n",
    "    Transicion(3, 'Z', 3, 'Z', L),\n",
    "    Transicion(3, 'X', 0, 'X', R),\n",
    "    # Verificar que no hay más b ni c\n",
    "    Transicion(4, 'Y', 4, 'Y', R),\n",
    "    Transicion(4, 'Z', 4, 'Z', R),\n",
    "    Transicion(4, 'B', 5, 'B', L),\n",
    "]\n",
    "q0 = 0\n",
    "F = [5]\n",
    "M = MaquinaDeTuring(P, q0, F, blanco='B')\n",
    "'''"
   ]
  },
  {
   "cell_type": "markdown",
   "metadata": {},
   "source": [
    "Sea $A$ un lenguaje que contiene una sola cadena $s$, donde:\n",
    "\n",
    "$$s = \\begin{cases}\n",
    "\\mathtt{0} & \\text{si existe vida en Marte} \\\\\n",
    "\\mathtt{1} & \\text{si no existe vida en Marte} \\\\\n",
    "\\end{cases}$$\n",
    "\n",
    "Pregunta: ¿$A$ es un lenguaje decidible?"
   ]
  },
  {
   "cell_type": "code",
   "execution_count": null,
   "metadata": {},
   "outputs": [],
   "source": [
    "def M(w):\n",
    "    if w == s:\n",
    "        return True\n",
    "    return False"
   ]
  }
 ],
 "metadata": {
  "kernelspec": {
   "display_name": "Python 3",
   "language": "python",
   "name": "python3"
  },
  "language_info": {
   "codemirror_mode": {
    "name": "ipython",
    "version": 3
   },
   "file_extension": ".py",
   "mimetype": "text/x-python",
   "name": "python",
   "nbconvert_exporter": "python",
   "pygments_lexer": "ipython3",
   "version": "3.8.5"
  }
 },
 "nbformat": 4,
 "nbformat_minor": 4
}
