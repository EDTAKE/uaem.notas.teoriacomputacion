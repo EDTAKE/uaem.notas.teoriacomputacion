{
 "cells": [
  {
   "cell_type": "markdown",
   "metadata": {},
   "source": [
    "# Autómatas finitos y expresiones regulares"
   ]
  },
  {
   "cell_type": "code",
   "execution_count": null,
   "metadata": {},
   "outputs": [],
   "source": [
    "class Puerta:\n",
    "    def __init__(self):\n",
    "        self._estado = 'Cerrada'\n",
    "    \n",
    "    def abrir(self):\n",
    "        self._estado = 'Abierta'\n",
    "    \n",
    "    def cerrar(self):\n",
    "        self._estado = 'Cerrada'\n",
    "    \n",
    "    @property\n",
    "    def estado(self):\n",
    "        return self._estado"
   ]
  },
  {
   "cell_type": "code",
   "execution_count": null,
   "metadata": {},
   "outputs": [],
   "source": [
    "obj = Puerta()\n",
    "obj.estado"
   ]
  },
  {
   "cell_type": "code",
   "execution_count": null,
   "metadata": {},
   "outputs": [],
   "source": [
    "obj.abrir()\n",
    "obj.estado"
   ]
  },
  {
   "cell_type": "code",
   "execution_count": null,
   "metadata": {},
   "outputs": [],
   "source": [
    "obj.cerrar()\n",
    "obj.estado"
   ]
  },
  {
   "cell_type": "code",
   "execution_count": null,
   "metadata": {},
   "outputs": [],
   "source": [
    "obj.cerrar()\n",
    "obj.estado"
   ]
  },
  {
   "cell_type": "markdown",
   "metadata": {},
   "source": [
    "- Costal de maíz\n",
    "- Gallina\n",
    "- Perro"
   ]
  },
  {
   "cell_type": "code",
   "execution_count": null,
   "metadata": {},
   "outputs": [],
   "source": [
    "class AcertijoRio:\n",
    "    def __init__(self):\n",
    "        self.costal = False\n",
    "        self.gallina = False\n",
    "        self.perro = False\n",
    "        self.persona = False\n",
    "    \n",
    "    @property\n",
    "    def estado_invalido(self):\n",
    "        return (self.gallina == self.costal != self.persona\n",
    "                or self.perro == self.gallina != self.persona)\n",
    "    \n",
    "    def cruzar_costal(self):\n",
    "        if self.estado_invalido: return\n",
    "        if self.persona != self.costal: return\n",
    "        self.persona = self.costal = not self.persona\n",
    "    \n",
    "    def cruzar_gallina(self):\n",
    "        if self.estado_invalido: return\n",
    "        if self.persona != self.gallina: return\n",
    "        self.persona = self.gallina = not self.persona\n",
    "    \n",
    "    def cruzar_perro(self):\n",
    "        if self.estado_invalido: return\n",
    "        if self.persona != self.perro: return\n",
    "        self.persona = self.perro = not self.persona\n",
    "    \n",
    "    def cruzar_persona(self):\n",
    "        if self.estado_invalido: return\n",
    "        self.persona = not self.persona\n",
    "    \n",
    "    def __repr__(self):\n",
    "        letras = 'CGPH'\n",
    "        estados = [self.costal, self.gallina, self.perro, self.persona]\n",
    "        izquierda = [letra for (letra, estado) in zip(letras, estados)\n",
    "                     if not estado]\n",
    "        derecha = [letra for (letra, estado) in zip(letras, estados) if estado]\n",
    "        return f\"{''.join(izquierda)}-{''.join(derecha)}\""
   ]
  },
  {
   "cell_type": "code",
   "execution_count": null,
   "metadata": {},
   "outputs": [],
   "source": [
    "acertijo = AcertijoRio()\n",
    "acertijo"
   ]
  },
  {
   "cell_type": "code",
   "execution_count": null,
   "metadata": {},
   "outputs": [],
   "source": [
    "acertijo.estado_invalido"
   ]
  },
  {
   "cell_type": "code",
   "execution_count": null,
   "metadata": {},
   "outputs": [],
   "source": [
    "acertijo.cruzar_gallina()\n",
    "acertijo"
   ]
  },
  {
   "cell_type": "code",
   "execution_count": null,
   "metadata": {},
   "outputs": [],
   "source": [
    "acertijo.cruzar_persona()\n",
    "acertijo"
   ]
  },
  {
   "cell_type": "code",
   "execution_count": null,
   "metadata": {},
   "outputs": [],
   "source": [
    "acertijo.cruzar_costal()\n",
    "acertijo"
   ]
  },
  {
   "cell_type": "code",
   "execution_count": null,
   "metadata": {},
   "outputs": [],
   "source": [
    "acertijo.cruzar_persona()\n",
    "acertijo"
   ]
  },
  {
   "cell_type": "code",
   "execution_count": null,
   "metadata": {},
   "outputs": [],
   "source": [
    "acertijo.estado_invalido"
   ]
  },
  {
   "cell_type": "code",
   "execution_count": null,
   "metadata": {},
   "outputs": [],
   "source": [
    "acertijo.cruzar_persona()\n",
    "acertijo"
   ]
  },
  {
   "cell_type": "markdown",
   "metadata": {},
   "source": [
    "## Implementación de un intérprete de autómatas finitos en general"
   ]
  },
  {
   "cell_type": "markdown",
   "metadata": {},
   "source": [
    "CGHP"
   ]
  },
  {
   "cell_type": "code",
   "execution_count": null,
   "metadata": {},
   "outputs": [],
   "source": [
    ": {'C': '', 'G': '', 'P': '', 'H': ''}\n",
    "\n",
    "δ = {\n",
    "    'CGHP-': {'G': 'CP-GH', 'H': 'CGP-H', 'P': 'CG-HP', 'C': 'GP-CH'},\n",
    "    'CGP-H': {'C': 'CGP-H', 'G': 'CGP-H', 'P': 'CGP-H', 'H': 'CGP-H'},\n",
    "    'CG-HP': {'C': 'CG-HP', 'G': 'CG-HP', 'P': 'CG-HP', 'H': 'CG-HP'},\n",
    "    'GP-CH': {'C': 'GP-CH', 'G': 'GP-CH', 'P': 'GP-CH', 'H': 'GP-CH'},\n",
    "    \n",
    "    'CP-GH': {'C': 'CP-GH', 'H': 'CHP-G', 'G': 'CGHP-', 'P': 'CP-GH'},\n",
    "    'CP-GH': {'C': '', 'G': '', 'P': '', 'H': ''}\n",
    "    'CHP-G': {'C': '', 'G': '', 'P': '', 'H': ''}\n",
    "    'CGHP-': {'C': '', 'G': '', 'P': '', 'H': ''}\n",
    "    'CP-GH': {'C': '', 'G': '', 'P': '', 'H': ''}\n",
    "    \n",
    "    'CHP-G': {'C': 'P-CGH', 'G': 'CHP-G', 'H': 'CHP-G', 'P': 'C-GHP'},\n",
    "    'CHP-G': {'C': 'P-CGH', 'G': 'CHP-G', 'H': 'CHP-G', 'P': 'C-GHP'}\n",
    "}\n",
    "q0 = 'CGHP-'\n",
    "F = ['-CGHP']"
   ]
  },
  {
   "cell_type": "code",
   "execution_count": null,
   "metadata": {},
   "outputs": [],
   "source": [
    "estado = q0"
   ]
  },
  {
   "cell_type": "code",
   "execution_count": null,
   "metadata": {},
   "outputs": [],
   "source": [
    "entrada = 'GHPGCHG'"
   ]
  },
  {
   "cell_type": "code",
   "execution_count": null,
   "metadata": {},
   "outputs": [],
   "source": [
    "for simbolo in entrada:\n",
    "    estado = δ[estado][simbolo]"
   ]
  },
  {
   "cell_type": "code",
   "execution_count": null,
   "metadata": {},
   "outputs": [],
   "source": [
    "class AutomataFinito:\n",
    "    def __init__(datos_de_entrada):\n",
    "        pass\n",
    "    \n",
    "    def un_paso(simbolo):\n",
    "        pass\n",
    "    \n",
    "    def consumir(cadena) -> bool:\n",
    "        ...\n",
    "        return True # Si el autómata termina en estado final"
   ]
  },
  {
   "cell_type": "markdown",
   "metadata": {},
   "source": [
    "## Definición formal de un Autómata Finito (Determinista)"
   ]
  },
  {
   "cell_type": "markdown",
   "metadata": {},
   "source": [
    "Un **autómata finito** es una 5-ada $(Q, \\Sigma, \\delta, q_0, F)$\n",
    "- $Q$ es un conjunto finito llamado conjunto de **estados**.\n",
    "- $\\Sigma$ es un conjunto finito llamado **alfabeto**.\n",
    "- $\\delta: Q \\times \\Sigma \\to Q$ es la **función de transición**.\n",
    "- $q_0 \\in Q$ es el **estado inicial**.\n",
    "- $F \\subseteq Q$ es el conjunto de **estados de aceptación**."
   ]
  },
  {
   "cell_type": "markdown",
   "metadata": {},
   "source": [
    "**Ejemplo** (tal como se vio en el WhiteBoard de Office):\n",
    "$M_1 = (Q, \\Sigma, q_1, F)$\n",
    "- $Q = \\lbrace q_1, q_2, q_3 \\rbrace$\n",
    "- $\\Sigma = \\{ 0, 1 \\}$\n",
    "- $\\delta$ está dada por\n",
    "| $\\delta$ | 0     | 1     |\n",
    "|----------|-------|-------|\n",
    "| $q_1$    | $q_1$ | $q_2$ |\n",
    "| $q_2$    | $q_3$ | $q_2$ |\n",
    "| $q_3$    | $q_2$ | $q_2$ |\n",
    "- $q_1$ es el estado inicial\n",
    "- $F = \\{ q_2 \\}$"
   ]
  },
  {
   "cell_type": "markdown",
   "metadata": {},
   "source": [
    "**Definición** Si $M$ es un AFD, el **lenguaje de la máquina $M$**, denotado \n",
    "por $L(M)$ es el conjunto de todas las cadenas $w$ sobre $\\Sigma$ que acepta el\n",
    "autómata $M$, es decir que dada la cadena \n",
    "$w = w_1w_2w_3\\cdots w_n \\in \\Sigma^\\star$ existe una sucesión finita de\n",
    "estados $r_0, r_1, r_2, \\dots, r_n$ en $Q$ que cumple las siguientes\n",
    "condiciones:\n",
    "1. $r_0 = q_0$\n",
    "2. $\\delta(r_i, w_{i + 1}) = r_{i + 1}$\n",
    "3. $r_n \\in F$"
   ]
  },
  {
   "cell_type": "markdown",
   "metadata": {},
   "source": [
    "**Ejemplo** Una máquina $M_2$ cuyo lenguaje son las cadenas que tienen un par\n",
    "de unos:\n",
    "$M_2 = (Q, \\Sigma, \\mathit{par}, F)$\n",
    "- $Q = \\{ \\mathit{par}, \\mathit{impar} \\}$\n",
    "- $\\Sigma = \\{0, 1\\}$\n",
    "- $\\delta$ está dada por\n",
    "| $\\delta$         | 0                | 1                |\n",
    "|------------------|------------------|------------------|\n",
    "| $\\mathit{par}$   | $\\mathit{par}$   | $\\mathit{impar}$ |\n",
    "| $\\mathit{impar}$ | $\\mathit{impar}$ | $\\mathit{par}$   |\n",
    "- $\\mathit{par}$ es el estado inicial\n",
    "- $F = \\{ \\mathit{par} \\}$"
   ]
  },
  {
   "cell_type": "markdown",
   "metadata": {},
   "source": [
    "**Ejemplo** Una máquina $M_3$ cuyo lenguaje son las cadenas que tienen un par\n",
    "de unos y de ceros:\n",
    "$M_3 = (Q, \\Sigma, \\mathit{PP}, F)$\n",
    "- $Q = \\{ \\mathit{PP}, \\mathit{PI}, \\mathit{IP}, \\mathit{II} \\}$\n",
    "- $\\Sigma = \\{0, 1\\}$\n",
    "- $\\delta$ está dada por\n",
    "| $\\delta$      | 0             | 1             |\n",
    "|---------------|---------------|---------------|\n",
    "| $\\mathit{PP}$ | $\\mathit{IP}$ | $\\mathit{PI}$ |\n",
    "| $\\mathit{IP}$ | $\\mathit{PP}$ | $\\mathit{II}$ |\n",
    "| $\\mathit{PI}$ | $\\mathit{II}$ | $\\mathit{PP}$ |\n",
    "| $\\mathit{II}$ | $\\mathit{PI}$ | $\\mathit{IP}$ |\n",
    "- $\\mathit{PP}$ es el estado inicial\n",
    "- $F = \\{ \\mathit{PP} \\}$"
   ]
  },
  {
   "cell_type": "markdown",
   "metadata": {},
   "source": [
    "**Ejemplo** Una máquina $B_m$ que acepta las cadenas con un múltiplo de $m$\n",
    "bits 1.\n",
    "- $Q = \\{q_0, q_1, q_2, \\ldots, q_m\\}$\n",
    "- $\\Sigma = \\{0, 1\\}$\n",
    "- $\\delta$ está dada por\n",
    "  - $\\delta(q_{m - 1}, 1) = q_0$\n",
    "  - $\\delta(q_j, 0) = q_j$\n",
    "  - $\\delta(q_j, 1) = q_{j + 1}$\n",
    "- $q_0$ es el estado inicial\n",
    "- $F = \\{ q_0 \\}$"
   ]
  },
  {
   "cell_type": "markdown",
   "metadata": {},
   "source": [
    "### Uso de la implementación"
   ]
  },
  {
   "cell_type": "markdown",
   "metadata": {},
   "source": [
    "Un autómata finito determinista se puede representar mediante un **programa**\n",
    "que consiste en un conjunto finito de tripletas $(q, s, r) \\in Q \\times \\Sigma\n",
    "\\times Q$.\n",
    "El programa se puede convertir a una función de transición asociando la\n",
    "tripleta $(q, s, r)$ con $\\delta(q, s) = r$.\n",
    "Note que el programa para poder definir una función de trancisión requiere dos\n",
    "condiciones:\n",
    "1. No pueden existir dos o más tripletas $(q, s, r)$ y $(q^\\prime, s^\\prime, t)$\n",
    "   con $(q, s) = (q^\\prime, s^\\prime)$ porque $\\delta$ entonces ya no es una\n",
    "   función.\n",
    "2. Para cada pareja $(q, s) \\in Q \\times \\Sigma$ existe una y exactamente una\n",
    "   tripleta $(q^\\prime, s^\\prime, r)$ con $(q, s) = (q^\\prime, s^\\prime)$"
   ]
  },
  {
   "cell_type": "code",
   "execution_count": 1,
   "metadata": {},
   "outputs": [],
   "source": [
    "from curso import automatasfinitos as af"
   ]
  },
  {
   "cell_type": "code",
   "execution_count": 2,
   "metadata": {},
   "outputs": [],
   "source": [
    "programa = [\n",
    "    af.Transicion(\"q1\", \"0\", \"q1\"),\n",
    "    af.Transicion(\"q1\", \"1\", \"q2\"),\n",
    "    af.Transicion(\"q2\", \"0\", \"q3\"),\n",
    "    af.Transicion(\"q2\", \"1\", \"q2\"),\n",
    "    af.Transicion(\"q3\", \"0\", \"q2\"),\n",
    "    af.Transicion(\"q3\", \"1\", \"q2\"),\n",
    "]\n",
    "M = af.AFD(programa, 'q1', ['q2'])"
   ]
  },
  {
   "cell_type": "code",
   "execution_count": 3,
   "metadata": {},
   "outputs": [
    {
     "data": {
      "text/plain": [
       "True"
      ]
     },
     "execution_count": 3,
     "metadata": {},
     "output_type": "execute_result"
    }
   ],
   "source": [
    "M('00100011101')"
   ]
  },
  {
   "cell_type": "code",
   "execution_count": 4,
   "metadata": {},
   "outputs": [
    {
     "data": {
      "text/plain": [
       "True"
      ]
     },
     "execution_count": 4,
     "metadata": {},
     "output_type": "execute_result"
    }
   ],
   "source": [
    "M('00100011100')"
   ]
  },
  {
   "cell_type": "code",
   "execution_count": 5,
   "metadata": {},
   "outputs": [
    {
     "data": {
      "text/plain": [
       "True"
      ]
     },
     "execution_count": 5,
     "metadata": {},
     "output_type": "execute_result"
    }
   ],
   "source": [
    "M('0010001110000')"
   ]
  },
  {
   "cell_type": "code",
   "execution_count": 6,
   "metadata": {},
   "outputs": [
    {
     "data": {
      "text/plain": [
       "True"
      ]
     },
     "execution_count": 6,
     "metadata": {},
     "output_type": "execute_result"
    }
   ],
   "source": [
    "M('00111010000')"
   ]
  },
  {
   "cell_type": "markdown",
   "metadata": {},
   "source": [
    "## Lenguajes regulares y sus operaciones"
   ]
  },
  {
   "cell_type": "markdown",
   "metadata": {},
   "source": [
    "**Definición** Un lenguaje es **regular** si es reconocido por un autómata\n",
    "finito. Dados $A$ y $B$ lenguajes regulares, las operaciones regularesson\n",
    "estas:\n",
    "- $A \\cup B = \\{x | x \\in A \\text{ o } x \\in B\\}$\n",
    "- $A \\circ B = \\{xy | x \\in A \\text{ y } y \\in B\\}$\n",
    "- $A^\\star = \\{x_1x_2\\cdots x_k | \\text{cada } x_i \\in A \\text{ para cualquier \n",
    "  } k \\ge 0\\}$"
   ]
  },
  {
   "cell_type": "markdown",
   "metadata": {},
   "source": [
    "**Ejemplos**\n",
    "Sean $A = \\{\\texttt{cara}, \\texttt{cola}\\}$,\n",
    "$B = \\{\\texttt{col}, \\texttt{chones}\\}$.\n",
    "- $A \\cup B = \\{\\texttt{cara}, \\texttt{cola}, \\texttt{col}, \\texttt{chones}\\}$.\n",
    "- $A \\circ B = \\{ \\texttt{caracol}, \\texttt{carachones}, \\texttt{colacol},\n",
    "  \\texttt{colachones}\\}$\n",
    "- $A^\\star$ contiene elementos como $\\epsilon$, $\\texttt{cara}$,\n",
    "  $\\texttt{cola}$, $\\texttt{caracola}$, $\\texttt{colacara}$,\n",
    "  $\\texttt{caracara}$, $\\texttt{colacola}$, $\\texttt{caracaracara}$,\n",
    "  $\\texttt{caracolacara}$,..."
   ]
  },
  {
   "cell_type": "markdown",
   "metadata": {},
   "source": [
    "#### Autómatas finitos no deterministas (AFN)"
   ]
  },
  {
   "cell_type": "markdown",
   "metadata": {},
   "source": [
    "En un autómata finito no determinista permitimos que el programa no defina una\n",
    "función, sino una relación arbitraria $Q \\times \\Sigma_\\epsilon \\times Q$ donde\n",
    "$\\Sigma_\\epsilon = \\Sigma \\cup \\{\\epsilon\\}$.\n",
    "\n",
    "Esto nos permitirá hacer un programa no determinista donde en cada estado:\n",
    "1. Podemos pasar a algún otro estado sin consumir ningún símbolo de entrada\n",
    "   mediante una transición $\\epsilon$.\n",
    "2. Podemos consumir un símbolo de la entrada para pasar a cero, uno o más\n",
    "   estados siguientes."
   ]
  },
  {
   "cell_type": "markdown",
   "metadata": {},
   "source": [
    "**Definición** Un autómata finito no determinista es una 5-ada $(Q, \\Sigma,\n",
    "q_0, F)$ donde\n",
    "1. $Q$ es un conjunto finito de *estados*\n",
    "2. $\\Sigma$ es un *alfabeto* finito\n",
    "3. $\\delta: Q\\times \\Sigma_{\\epsilon} \\to \\mathcal{P}(Q)$ es una función\n",
    "   parcial *de trancisión*.\n",
    "4. $q_0$ el *estado inicial*.\n",
    "5. $F \\subseteq Q$ es el conjunto de *estados de aceptación*."
   ]
  },
  {
   "cell_type": "markdown",
   "metadata": {},
   "source": [
    "**Definición** Si $N$ es un AFN, el **lenguaje de la máquina $N$**, denotado \n",
    "por $L(N)$ es el conjunto de todas las cadenas $w$ sobre $\\Sigma$ que acepta el\n",
    "autómata $N$, es decir que dada la cadena \n",
    "$w = y_1y_2y_3\\cdots y_m \\in \\Sigma_{\\epsilon}^\\star$ existe una sucesión\n",
    "finita de estados $r_0, r_1, r_2, \\dots, r_m$ en $Q$ que cumple las siguientes\n",
    "condiciones:\n",
    "1. $r_0 = q_0$\n",
    "2. $r_{i + 1} \\in \\delta(r_i, y_{i + 1})$\n",
    "3. $r_m \\in F$"
   ]
  },
  {
   "cell_type": "code",
   "execution_count": 40,
   "metadata": {},
   "outputs": [],
   "source": [
    "from typing import Collection\n",
    "\n",
    "def calcular_alfabeto(N: af.AFN) -> Collection[af.Simbolo]:\n",
    "    programa = N.programa()\n",
    "    return {simbolo\n",
    "            for estado, simbolo, siguiente in programa\n",
    "            if simbolo}"
   ]
  },
  {
   "cell_type": "code",
   "execution_count": 41,
   "metadata": {},
   "outputs": [
    {
     "data": {
      "text/plain": [
       "{'0', '1'}"
      ]
     },
     "execution_count": 41,
     "metadata": {},
     "output_type": "execute_result"
    }
   ],
   "source": [
    "calcular_alfabeto(N)"
   ]
  },
  {
   "cell_type": "code",
   "execution_count": 8,
   "metadata": {},
   "outputs": [],
   "source": [
    "import collections"
   ]
  },
  {
   "cell_type": "code",
   "execution_count": 9,
   "metadata": {},
   "outputs": [],
   "source": [
    "def afn_a_afd(N: af.AFN) -> af.AFD:\n",
    "    alfabeto = calcular_alfabeto(N)\n",
    "    \n",
    "    # Calcular metaestado inicial\n",
    "    metaestado_inicial = frozenset(N.cerradura_epsilon([N.estado_inicial]))\n",
    "\n",
    "    # Calcular el metaprograma\n",
    "    metaestados = {metaestado_inicial}\n",
    "    metaprograma = set()\n",
    "    cola = collections.deque([metaestado_inicial])\n",
    "    while cola:\n",
    "        metaestado = cola.popleft()\n",
    "        for simbolo in alfabeto:\n",
    "            siguientes = {N.transicion(estado, simbolo)\n",
    "                          for estado in metaestado}\n",
    "            siguientes.update(N.cerradura_epsilon(siguientes))\n",
    "            metaestado_siguiente = frozenset(siguientes)\n",
    "            metaprograma.add(\n",
    "                af.Transicion(metaestado, simbolo, metaestado_siguiente))\n",
    "            if metaestado_siguiente not in metaestados:\n",
    "                metaestados.add(metaestado_siguiente)\n",
    "                cola.append(metaestado_siguiente)\n",
    "    \n",
    "    # Calcular metaestados finales\n",
    "    metaestados_finales = {metaestado\n",
    "                           for metaestado in metaestados\n",
    "                           if any(N.es_de_aceptacion(estado)\n",
    "                                  for estado in metaestado)}\n",
    "    \n",
    "    return af.AFD(metaprograma, metaestado_inicial, metaestados_finales)"
   ]
  },
  {
   "cell_type": "code",
   "execution_count": 10,
   "metadata": {},
   "outputs": [],
   "source": [
    "programa = [\n",
    "    af.Transicion('q1', '0', 'q1'),\n",
    "    af.Transicion('q1', '1', 'q1'),\n",
    "    af.Transicion('q1', '1', 'q2'),\n",
    "    af.Transicion('q2', '0', 'q3'),\n",
    "    af.Transicion('q2', '',  'q3'),\n",
    "    af.Transicion('q3', '1', 'q4'),\n",
    "    af.Transicion('q4', '0', 'q4'),\n",
    "    af.Transicion('q4', '1', 'q4'),\n",
    "]\n",
    "estado_inicial = 'q1'\n",
    "estados_de_aceptacion = ['q4']\n",
    "N = af.AFN(programa, estado_inicial, estados_de_aceptacion)"
   ]
  },
  {
   "cell_type": "code",
   "execution_count": 11,
   "metadata": {},
   "outputs": [
    {
     "name": "stdout",
     "output_type": "stream",
     "text": [
      "{'q1'}\n",
      "{'q1'}\n",
      "{'q3', 'q1', 'q2'}\n",
      "{'q4', 'q3', 'q1', 'q2'}\n",
      "{'q4', 'q3', 'q1'}\n",
      "{'q4', 'q3', 'q1', 'q2'}\n",
      "{'q4', 'q3', 'q1', 'q2'}\n",
      "{'q4', 'q3', 'q1'}\n"
     ]
    },
    {
     "data": {
      "text/plain": [
       "True"
      ]
     },
     "execution_count": 11,
     "metadata": {},
     "output_type": "execute_result"
    }
   ],
   "source": [
    "N('0110110')"
   ]
  },
  {
   "cell_type": "code",
   "execution_count": 15,
   "metadata": {},
   "outputs": [
    {
     "data": {
      "text/plain": [
       "[Transicion(estado='q1', simbolo='0', siguiente='q1'),\n",
       " Transicion(estado='q1', simbolo='1', siguiente='q1'),\n",
       " Transicion(estado='q1', simbolo='1', siguiente='q2'),\n",
       " Transicion(estado='q2', simbolo='0', siguiente='q3'),\n",
       " Transicion(estado='q2', simbolo='', siguiente='q3'),\n",
       " Transicion(estado='q3', simbolo='1', siguiente='q4'),\n",
       " Transicion(estado='q4', simbolo='0', siguiente='q4'),\n",
       " Transicion(estado='q4', simbolo='1', siguiente='q4')]"
      ]
     },
     "execution_count": 15,
     "metadata": {},
     "output_type": "execute_result"
    }
   ],
   "source": [
    "N.programa()"
   ]
  },
  {
   "cell_type": "code",
   "execution_count": 42,
   "metadata": {},
   "outputs": [
    {
     "data": {
      "text/plain": [
       "<curso.automatasfinitos.AFD at 0x7fd44c831970>"
      ]
     },
     "execution_count": 42,
     "metadata": {},
     "output_type": "execute_result"
    }
   ],
   "source": [
    "M = afn_a_afd(N)\n",
    "M"
   ]
  },
  {
   "cell_type": "code",
   "execution_count": 43,
   "metadata": {},
   "outputs": [
    {
     "data": {
      "text/plain": [
       "[Transicion(estado=frozenset({frozenset({'q1'})}), simbolo='1', siguiente=frozenset({frozenset()})),\n",
       " Transicion(estado=frozenset({frozenset()}), simbolo='0', siguiente=frozenset({frozenset()})),\n",
       " Transicion(estado=frozenset({frozenset()}), simbolo='1', siguiente=frozenset({frozenset()})),\n",
       " Transicion(estado=frozenset({'q1'}), simbolo='1', siguiente=frozenset({frozenset({'q1', 'q2'})})),\n",
       " Transicion(estado=frozenset({frozenset({'q1', 'q2'})}), simbolo='0', siguiente=frozenset({frozenset()})),\n",
       " Transicion(estado=frozenset({'q1'}), simbolo='0', siguiente=frozenset({frozenset({'q1'})})),\n",
       " Transicion(estado=frozenset({frozenset({'q1'})}), simbolo='0', siguiente=frozenset({frozenset()})),\n",
       " Transicion(estado=frozenset({frozenset({'q1', 'q2'})}), simbolo='1', siguiente=frozenset({frozenset()}))]"
      ]
     },
     "execution_count": 43,
     "metadata": {},
     "output_type": "execute_result"
    }
   ],
   "source": [
    "M.programa()"
   ]
  },
  {
   "cell_type": "code",
   "execution_count": null,
   "metadata": {},
   "outputs": [],
   "source": []
  }
 ],
 "metadata": {
  "kernelspec": {
   "display_name": "Python 3",
   "language": "python",
   "name": "python3"
  },
  "language_info": {
   "codemirror_mode": {
    "name": "ipython",
    "version": 3
   },
   "file_extension": ".py",
   "mimetype": "text/x-python",
   "name": "python",
   "nbconvert_exporter": "python",
   "pygments_lexer": "ipython3",
   "version": "3.8.3"
  }
 },
 "nbformat": 4,
 "nbformat_minor": 4
}
