{
 "cells": [
  {
   "cell_type": "markdown",
   "metadata": {},
   "source": [
    "# Autómatas finitos y expresiones regulares"
   ]
  },
  {
   "cell_type": "code",
   "execution_count": 1,
   "metadata": {},
   "outputs": [],
   "source": [
    "class Puerta:\n",
    "    def __init__(self):\n",
    "        self._estado = 'Cerrada'\n",
    "    \n",
    "    def abrir(self):\n",
    "        self._estado = 'Abierta'\n",
    "    \n",
    "    def cerrar(self):\n",
    "        self._estado = 'Cerrada'\n",
    "    \n",
    "    @property\n",
    "    def estado(self):\n",
    "        return self._estado"
   ]
  },
  {
   "cell_type": "code",
   "execution_count": 2,
   "metadata": {},
   "outputs": [
    {
     "data": {
      "text/plain": [
       "'Cerrada'"
      ]
     },
     "execution_count": 2,
     "metadata": {},
     "output_type": "execute_result"
    }
   ],
   "source": [
    "obj = Puerta()\n",
    "obj.estado"
   ]
  },
  {
   "cell_type": "code",
   "execution_count": 3,
   "metadata": {},
   "outputs": [
    {
     "data": {
      "text/plain": [
       "'Abierta'"
      ]
     },
     "execution_count": 3,
     "metadata": {},
     "output_type": "execute_result"
    }
   ],
   "source": [
    "obj.abrir()\n",
    "obj.estado"
   ]
  },
  {
   "cell_type": "code",
   "execution_count": 4,
   "metadata": {},
   "outputs": [
    {
     "data": {
      "text/plain": [
       "'Cerrada'"
      ]
     },
     "execution_count": 4,
     "metadata": {},
     "output_type": "execute_result"
    }
   ],
   "source": [
    "obj.cerrar()\n",
    "obj.estado"
   ]
  },
  {
   "cell_type": "code",
   "execution_count": 5,
   "metadata": {},
   "outputs": [
    {
     "data": {
      "text/plain": [
       "'Cerrada'"
      ]
     },
     "execution_count": 5,
     "metadata": {},
     "output_type": "execute_result"
    }
   ],
   "source": [
    "obj.cerrar()\n",
    "obj.estado"
   ]
  },
  {
   "cell_type": "markdown",
   "metadata": {},
   "source": [
    "**EJEMPLO**\n",
    "Se desea cruzar un costal de maiz, una gallina y un perro al otro lado del río.\n",
    "La canoa sólo tiene espacio para ti y para un otro pasajero, pero la gallina no\n",
    "puede quedarse sola con el costal de maíz porque se lo come, ni tampoco puede\n",
    "quedarse sola con el perro porque el perro "
   ]
  },
  {
   "cell_type": "code",
   "execution_count": 6,
   "metadata": {},
   "outputs": [],
   "source": [
    "class AcertijoRio:\n",
    "    def __init__(self):\n",
    "        self.costal = False\n",
    "        self.gallina = False\n",
    "        self.perro = False\n",
    "        self.persona = False\n",
    "    \n",
    "    @property\n",
    "    def estado_invalido(self):\n",
    "        return (self.gallina == self.costal != self.persona\n",
    "                or self.perro == self.gallina != self.persona)\n",
    "    \n",
    "    def cruzar_costal(self):\n",
    "        if self.estado_invalido: return\n",
    "        if self.persona != self.costal: return\n",
    "        self.persona = self.costal = not self.persona\n",
    "    \n",
    "    def cruzar_gallina(self):\n",
    "        if self.estado_invalido: return\n",
    "        if self.persona != self.gallina: return\n",
    "        self.persona = self.gallina = not self.persona\n",
    "    \n",
    "    def cruzar_perro(self):\n",
    "        if self.estado_invalido: return\n",
    "        if self.persona != self.perro: return\n",
    "        self.persona = self.perro = not self.persona\n",
    "    \n",
    "    def cruzar_persona(self):\n",
    "        if self.estado_invalido: return\n",
    "        self.persona = not self.persona\n",
    "    \n",
    "    def __repr__(self):\n",
    "        letras = 'CGPH'\n",
    "        estados = [self.costal, self.gallina, self.perro, self.persona]\n",
    "        izquierda = [letra for (letra, estado) in zip(letras, estados)\n",
    "                     if not estado]\n",
    "        derecha = [letra for (letra, estado) in zip(letras, estados) if estado]\n",
    "        return f\"{''.join(izquierda)}-{''.join(derecha)}\""
   ]
  },
  {
   "cell_type": "code",
   "execution_count": 7,
   "metadata": {},
   "outputs": [
    {
     "data": {
      "text/plain": [
       "CGPH-"
      ]
     },
     "execution_count": 7,
     "metadata": {},
     "output_type": "execute_result"
    }
   ],
   "source": [
    "acertijo = AcertijoRio()\n",
    "acertijo"
   ]
  },
  {
   "cell_type": "code",
   "execution_count": 8,
   "metadata": {},
   "outputs": [
    {
     "data": {
      "text/plain": [
       "False"
      ]
     },
     "execution_count": 8,
     "metadata": {},
     "output_type": "execute_result"
    }
   ],
   "source": [
    "acertijo.estado_invalido"
   ]
  },
  {
   "cell_type": "code",
   "execution_count": 9,
   "metadata": {},
   "outputs": [
    {
     "data": {
      "text/plain": [
       "CP-GH"
      ]
     },
     "execution_count": 9,
     "metadata": {},
     "output_type": "execute_result"
    }
   ],
   "source": [
    "acertijo.cruzar_gallina()\n",
    "acertijo"
   ]
  },
  {
   "cell_type": "code",
   "execution_count": 10,
   "metadata": {},
   "outputs": [
    {
     "data": {
      "text/plain": [
       "CPH-G"
      ]
     },
     "execution_count": 10,
     "metadata": {},
     "output_type": "execute_result"
    }
   ],
   "source": [
    "acertijo.cruzar_persona()\n",
    "acertijo"
   ]
  },
  {
   "cell_type": "code",
   "execution_count": 11,
   "metadata": {},
   "outputs": [
    {
     "data": {
      "text/plain": [
       "P-CGH"
      ]
     },
     "execution_count": 11,
     "metadata": {},
     "output_type": "execute_result"
    }
   ],
   "source": [
    "acertijo.cruzar_costal()\n",
    "acertijo"
   ]
  },
  {
   "cell_type": "code",
   "execution_count": 12,
   "metadata": {},
   "outputs": [
    {
     "data": {
      "text/plain": [
       "PH-CG"
      ]
     },
     "execution_count": 12,
     "metadata": {},
     "output_type": "execute_result"
    }
   ],
   "source": [
    "acertijo.cruzar_persona()\n",
    "acertijo"
   ]
  },
  {
   "cell_type": "code",
   "execution_count": 13,
   "metadata": {},
   "outputs": [
    {
     "data": {
      "text/plain": [
       "True"
      ]
     },
     "execution_count": 13,
     "metadata": {},
     "output_type": "execute_result"
    }
   ],
   "source": [
    "acertijo.estado_invalido"
   ]
  },
  {
   "cell_type": "code",
   "execution_count": 14,
   "metadata": {},
   "outputs": [
    {
     "data": {
      "text/plain": [
       "PH-CG"
      ]
     },
     "execution_count": 14,
     "metadata": {},
     "output_type": "execute_result"
    }
   ],
   "source": [
    "acertijo.cruzar_persona()\n",
    "acertijo"
   ]
  },
  {
   "cell_type": "markdown",
   "metadata": {},
   "source": [
    "## Implementación de un intérprete de autómatas finitos en general\n",
    "\n",
    "Continuando el ejemplo anterior, denotamos:\n",
    "- `C`: costal de maíz\n",
    "- `G`: gallina\n",
    "- `P`: perro\n",
    "- `H`: persona\n",
    "- `-`: el río"
   ]
  },
  {
   "cell_type": "code",
   "execution_count": 15,
   "metadata": {},
   "outputs": [],
   "source": [
    "# Función de transición\n",
    "δ = {\n",
    "    'CGPH-': {'C': 'GP-CH', 'G': 'CP-GH', 'P': 'CG-PH', 'H': 'CGP-H'},\n",
    "    'GP-CH': {'C': 'GP-CH', 'G': 'GP-CH', 'P': 'GP-CH', 'H': 'GP-CH'},\n",
    "    'CP-GH': {'C': 'CP-GH', 'G': 'CGPH-', 'P': 'CP-GH', 'H': 'CPH-G'},\n",
    "    'CG-PH': {'C': 'CG-PH', 'G': 'CG-PH', 'P': 'CG-PH', 'H': 'CG-PH'},\n",
    "    'CGP-H': {'C': 'CGP-H', 'G': 'CGP-H', 'P': 'CGP-H', 'H': 'CGP-H'},\n",
    "    'CPH-G': {'C': 'P-CGH', 'G': 'CPH-G', 'P': 'C-GPH', 'H': 'CP-GH'},\n",
    "    'P-CGH': {'C': 'CPH-G', 'G': 'GPH-C', 'P': 'P-CGH', 'H': 'PH-CG'},\n",
    "    'C-GPH': {'C': 'C-GPH', 'G': 'CGH-P', 'P': 'CPH-G', 'H': 'CH-GP'},\n",
    "    'GPH-C': {'C': 'GPH-C', 'G': 'P-CGH', 'P': 'G-CPH', 'H': 'GP-CH'},\n",
    "    'PH-CG': {'C': 'PH-CG', 'G': 'PH-CG', 'P': 'PH-CG', 'H': 'PH-CG'},\n",
    "    'CGH-P': {'C': 'G-CPH', 'G': 'C-GPH', 'P': 'CGH-P', 'H': 'CG-PH'},\n",
    "    'CH-GP': {'C': 'CH-GP', 'G': 'CH-GP', 'P': 'CH-GP', 'H': 'CH-GP'},\n",
    "    'G-CPH': {'C': 'CGH-P', 'G': 'G-CPH', 'P': 'GPH-C', 'H': 'GH-CP'},\n",
    "    'GH-CP': {'C': 'GH-CP', 'G': '-CGPH', 'P': 'GH-CP', 'H': 'G-CPH'},\n",
    "    '-CGPH': {'C': 'CH-GP', 'G': 'GH-CP', 'P': 'PH-CG', 'H': 'H-CGP'},\n",
    "    'H-CGP': {'C': 'H-CGP', 'G': 'H-CGP', 'P': 'H-CGP', 'H': 'H-CGP'},\n",
    "}\n",
    "\n",
    "# Estado inicial\n",
    "q0 = 'CGPH-'\n",
    "\n",
    "# Estados de aceptación\n",
    "F = ['-CGPH']\n",
    "\n",
    "# Definición del autómata\n",
    "M = (δ, q0, F)"
   ]
  },
  {
   "cell_type": "code",
   "execution_count": 16,
   "metadata": {},
   "outputs": [],
   "source": [
    "def ejecutar(M, w):\n",
    "    (δ, q0, F) = M\n",
    "    q = q0\n",
    "    for s in w:\n",
    "        q = δ[q][s]\n",
    "    return q in F"
   ]
  },
  {
   "cell_type": "code",
   "execution_count": 17,
   "metadata": {},
   "outputs": [
    {
     "data": {
      "text/plain": [
       "True"
      ]
     },
     "execution_count": 17,
     "metadata": {},
     "output_type": "execute_result"
    }
   ],
   "source": [
    "ejecutar(M, 'GHCGPHG')"
   ]
  },
  {
   "cell_type": "code",
   "execution_count": 18,
   "metadata": {},
   "outputs": [
    {
     "data": {
      "text/plain": [
       "True"
      ]
     },
     "execution_count": 18,
     "metadata": {},
     "output_type": "execute_result"
    }
   ],
   "source": [
    "ejecutar(M, 'GHPGCHG')"
   ]
  },
  {
   "cell_type": "code",
   "execution_count": 19,
   "metadata": {},
   "outputs": [
    {
     "data": {
      "text/plain": [
       "False"
      ]
     },
     "execution_count": 19,
     "metadata": {},
     "output_type": "execute_result"
    }
   ],
   "source": [
    "ejecutar(M, 'GPHHP')"
   ]
  },
  {
   "cell_type": "code",
   "execution_count": 20,
   "metadata": {},
   "outputs": [
    {
     "name": "stdin",
     "output_type": "stream",
     "text": [
      "Cadena de entrada:  GH\n"
     ]
    },
    {
     "name": "stdout",
     "output_type": "stream",
     "text": [
      "Cadena rechazada.\n"
     ]
    }
   ],
   "source": [
    "w = input('Cadena de entrada: ')\n",
    "if ejecutar(M, w):\n",
    "    print('Cadena aceptada.')\n",
    "else: print('Cadena rechazada.')"
   ]
  },
  {
   "cell_type": "markdown",
   "metadata": {},
   "source": [
    "## Definición formal de un Autómata Finito (Determinista)"
   ]
  },
  {
   "cell_type": "markdown",
   "metadata": {},
   "source": [
    "Un **autómata finito** es una 5-ada $(Q, \\Sigma, \\delta, q_0, F)$\n",
    "- $Q$ es un conjunto finito llamado conjunto de **estados**.\n",
    "- $\\Sigma$ es un conjunto finito llamado **alfabeto**.\n",
    "- $\\delta: Q \\times \\Sigma \\to Q$ es la **función de transición**.\n",
    "- $q_0 \\in Q$ es el **estado inicial**.\n",
    "- $F \\subseteq Q$ es el conjunto de **estados de aceptación**."
   ]
  },
  {
   "cell_type": "markdown",
   "metadata": {},
   "source": [
    "**Ejemplo** (tal como se vio en el WhiteBoard de Office):\n",
    "$M_1 = (Q, \\Sigma, q_1, F)$\n",
    "- $Q = \\lbrace q_1, q_2, q_3 \\rbrace$\n",
    "- $\\Sigma = \\{ 0, 1 \\}$\n",
    "- $\\delta$ está dada por\n",
    "| $\\delta$ | 0     | 1     |\n",
    "|----------|-------|-------|\n",
    "| $q_1$    | $q_1$ | $q_2$ |\n",
    "| $q_2$    | $q_3$ | $q_2$ |\n",
    "| $q_3$    | $q_2$ | $q_2$ |\n",
    "- $q_1$ es el estado inicial\n",
    "- $F = \\{ q_2 \\}$"
   ]
  },
  {
   "cell_type": "markdown",
   "metadata": {},
   "source": [
    "**Definición** Si $M$ es un AFD, el **lenguaje de la máquina $M$**, denotado \n",
    "por $L(M)$ es el conjunto de todas las cadenas $w$ sobre $\\Sigma$ que acepta el\n",
    "autómata $M$, es decir que dada la cadena \n",
    "$w = w_1w_2w_3\\cdots w_n \\in \\Sigma^\\star$ existe una sucesión finita de\n",
    "estados $r_0, r_1, r_2, \\dots, r_n$ en $Q$ que cumple las siguientes\n",
    "condiciones:\n",
    "1. $r_0 = q_0$\n",
    "2. $\\delta(r_i, w_{i + 1}) = r_{i + 1}$\n",
    "3. $r_n \\in F$"
   ]
  },
  {
   "cell_type": "markdown",
   "metadata": {},
   "source": [
    "**Ejemplo** Una máquina $M_2$ cuyo lenguaje son las cadenas que tienen un par\n",
    "de unos:\n",
    "$M_2 = (Q, \\Sigma, \\mathit{par}, F)$\n",
    "- $Q = \\{ \\mathit{par}, \\mathit{impar} \\}$\n",
    "- $\\Sigma = \\{0, 1\\}$\n",
    "- $\\delta$ está dada por\n",
    "| $\\delta$         | 0                | 1                |\n",
    "|------------------|------------------|------------------|\n",
    "| $\\mathit{par}$   | $\\mathit{par}$   | $\\mathit{impar}$ |\n",
    "| $\\mathit{impar}$ | $\\mathit{impar}$ | $\\mathit{par}$   |\n",
    "- $\\mathit{par}$ es el estado inicial\n",
    "- $F = \\{ \\mathit{par} \\}$"
   ]
  },
  {
   "cell_type": "markdown",
   "metadata": {},
   "source": [
    "**Ejemplo** Una máquina $M_3$ cuyo lenguaje son las cadenas que tienen un par\n",
    "de unos y de ceros:\n",
    "$M_3 = (Q, \\Sigma, \\mathit{PP}, F)$\n",
    "- $Q = \\{ \\mathit{PP}, \\mathit{PI}, \\mathit{IP}, \\mathit{II} \\}$\n",
    "- $\\Sigma = \\{0, 1\\}$\n",
    "- $\\delta$ está dada por\n",
    "| $\\delta$      | 0             | 1             |\n",
    "|---------------|---------------|---------------|\n",
    "| $\\mathit{PP}$ | $\\mathit{IP}$ | $\\mathit{PI}$ |\n",
    "| $\\mathit{IP}$ | $\\mathit{PP}$ | $\\mathit{II}$ |\n",
    "| $\\mathit{PI}$ | $\\mathit{II}$ | $\\mathit{PP}$ |\n",
    "| $\\mathit{II}$ | $\\mathit{PI}$ | $\\mathit{IP}$ |\n",
    "- $\\mathit{PP}$ es el estado inicial\n",
    "- $F = \\{ \\mathit{PP} \\}$"
   ]
  },
  {
   "cell_type": "markdown",
   "metadata": {},
   "source": [
    "**Ejemplo** Una máquina $B_m$ que acepta las cadenas con un múltiplo de $m$\n",
    "bits 1.\n",
    "- $Q = \\{q_0, q_1, q_2, \\ldots, q_m\\}$\n",
    "- $\\Sigma = \\{0, 1\\}$\n",
    "- $\\delta$ está dada por\n",
    "  - $\\delta(q_{m - 1}, 1) = q_0$\n",
    "  - $\\delta(q_j, 0) = q_j$\n",
    "  - $\\delta(q_j, 1) = q_{j + 1}$\n",
    "- $q_0$ es el estado inicial\n",
    "- $F = \\{ q_0 \\}$"
   ]
  },
  {
   "cell_type": "markdown",
   "metadata": {},
   "source": [
    "### Uso de la implementación"
   ]
  },
  {
   "cell_type": "markdown",
   "metadata": {},
   "source": [
    "Un autómata finito determinista se puede representar mediante un **programa**\n",
    "que consiste en un conjunto finito de tripletas $(q, s, r) \\in Q \\times \\Sigma\n",
    "\\times Q$.\n",
    "El programa se puede convertir a una función de transición asociando la\n",
    "tripleta $(q, s, r)$ con $\\delta(q, s) = r$.\n",
    "Note que el programa para poder definir una función de trancisión requiere dos\n",
    "condiciones:\n",
    "1. No pueden existir dos o más tripletas $(q, s, r)$ y $(q^\\prime, s^\\prime, t)$\n",
    "   con $(q, s) = (q^\\prime, s^\\prime)$ porque $\\delta$ entonces ya no es una\n",
    "   función.\n",
    "2. Para cada pareja $(q, s) \\in Q \\times \\Sigma$ existe una y exactamente una\n",
    "   tripleta $(q^\\prime, s^\\prime, r)$ con $(q, s) = (q^\\prime, s^\\prime)$"
   ]
  },
  {
   "cell_type": "code",
   "execution_count": 21,
   "metadata": {},
   "outputs": [],
   "source": [
    "from curso import automatasfinitos as af"
   ]
  },
  {
   "cell_type": "code",
   "execution_count": 22,
   "metadata": {},
   "outputs": [],
   "source": [
    "programa = [\n",
    "    af.Transicion(\"q1\", \"0\", \"q1\"),\n",
    "    af.Transicion(\"q1\", \"1\", \"q2\"),\n",
    "    af.Transicion(\"q2\", \"0\", \"q3\"),\n",
    "    af.Transicion(\"q2\", \"1\", \"q2\"),\n",
    "    af.Transicion(\"q3\", \"0\", \"q2\"),\n",
    "    af.Transicion(\"q3\", \"1\", \"q2\"),\n",
    "]\n",
    "M = af.AFD(programa, 'q1', ['q2'])"
   ]
  },
  {
   "cell_type": "code",
   "execution_count": 23,
   "metadata": {},
   "outputs": [
    {
     "data": {
      "text/plain": [
       "True"
      ]
     },
     "execution_count": 23,
     "metadata": {},
     "output_type": "execute_result"
    }
   ],
   "source": [
    "M('00100011101')"
   ]
  },
  {
   "cell_type": "code",
   "execution_count": 24,
   "metadata": {},
   "outputs": [
    {
     "data": {
      "text/plain": [
       "True"
      ]
     },
     "execution_count": 24,
     "metadata": {},
     "output_type": "execute_result"
    }
   ],
   "source": [
    "M('00100011100')"
   ]
  },
  {
   "cell_type": "code",
   "execution_count": 25,
   "metadata": {},
   "outputs": [
    {
     "data": {
      "text/plain": [
       "True"
      ]
     },
     "execution_count": 25,
     "metadata": {},
     "output_type": "execute_result"
    }
   ],
   "source": [
    "M('0010001110000')"
   ]
  },
  {
   "cell_type": "code",
   "execution_count": 26,
   "metadata": {},
   "outputs": [
    {
     "data": {
      "text/plain": [
       "True"
      ]
     },
     "execution_count": 26,
     "metadata": {},
     "output_type": "execute_result"
    }
   ],
   "source": [
    "M('00111010000')"
   ]
  },
  {
   "cell_type": "markdown",
   "metadata": {},
   "source": [
    "## Lenguajes regulares y sus operaciones"
   ]
  },
  {
   "cell_type": "markdown",
   "metadata": {},
   "source": [
    "**Definición** Un lenguaje es **regular** si es reconocido por un autómata\n",
    "finito. Dados $A$ y $B$ lenguajes regulares, las operaciones regularesson\n",
    "estas:\n",
    "- $A \\cup B = \\{x | x \\in A \\text{ o } x \\in B\\}$\n",
    "- $A \\circ B = \\{xy | x \\in A \\text{ y } y \\in B\\}$\n",
    "- $A^\\star = \\{x_1x_2\\cdots x_k | \\text{cada } x_i \\in A \\text{ para cualquier \n",
    "  } k \\ge 0\\}$"
   ]
  },
  {
   "cell_type": "markdown",
   "metadata": {},
   "source": [
    "**Ejemplos**\n",
    "Sean $A = \\{\\texttt{cara}, \\texttt{cola}\\}$,\n",
    "$B = \\{\\texttt{col}, \\texttt{chones}\\}$.\n",
    "- $A \\cup B = \\{\\texttt{cara}, \\texttt{cola}, \\texttt{col}, \\texttt{chones}\\}$.\n",
    "- $A \\circ B = \\{ \\texttt{caracol}, \\texttt{carachones}, \\texttt{colacol},\n",
    "  \\texttt{colachones}\\}$\n",
    "- $A^\\star$ contiene elementos como $\\epsilon$, $\\texttt{cara}$,\n",
    "  $\\texttt{cola}$, $\\texttt{caracola}$, $\\texttt{colacara}$,\n",
    "  $\\texttt{caracara}$, $\\texttt{colacola}$, $\\texttt{caracaracara}$,\n",
    "  $\\texttt{caracolacara}$,..."
   ]
  },
  {
   "cell_type": "markdown",
   "metadata": {},
   "source": [
    "#### Autómatas finitos no deterministas (AFN)"
   ]
  },
  {
   "cell_type": "markdown",
   "metadata": {},
   "source": [
    "En un autómata finito no determinista permitimos que el programa no defina una\n",
    "función, sino una relación arbitraria $Q \\times \\Sigma_\\epsilon \\times Q$ donde\n",
    "$\\Sigma_\\epsilon = \\Sigma \\cup \\{\\epsilon\\}$.\n",
    "\n",
    "Esto nos permitirá hacer un programa no determinista donde en cada estado:\n",
    "1. Podemos pasar a algún otro estado sin consumir ningún símbolo de entrada\n",
    "   mediante una transición $\\epsilon$.\n",
    "2. Podemos consumir un símbolo de la entrada para pasar a cero, uno o más\n",
    "   estados siguientes."
   ]
  },
  {
   "cell_type": "markdown",
   "metadata": {},
   "source": [
    "**Definición** Un autómata finito no determinista es una 5-ada $(Q, \\Sigma,\n",
    "q_0, F)$ donde\n",
    "1. $Q$ es un conjunto finito de *estados*\n",
    "2. $\\Sigma$ es un *alfabeto* finito\n",
    "3. $\\delta: Q\\times \\Sigma_{\\epsilon} \\to \\mathcal{P}(Q)$ es una función\n",
    "   parcial *de trancisión*.\n",
    "4. $q_0$ el *estado inicial*.\n",
    "5. $F \\subseteq Q$ es el conjunto de *estados de aceptación*."
   ]
  },
  {
   "cell_type": "markdown",
   "metadata": {},
   "source": [
    "**Definición** Si $N$ es un AFN, el **lenguaje de la máquina $N$**, denotado \n",
    "por $L(N)$ es el conjunto de todas las cadenas $w$ sobre $\\Sigma$ que acepta el\n",
    "autómata $N$, es decir que dada la cadena \n",
    "$w = y_1y_2y_3\\cdots y_m \\in \\Sigma_{\\epsilon}^\\star$ existe una sucesión\n",
    "finita de estados $r_0, r_1, r_2, \\dots, r_m$ en $Q$ que cumple las siguientes\n",
    "condiciones:\n",
    "1. $r_0 = q_0$\n",
    "2. $r_{i + 1} \\in \\delta(r_i, y_{i + 1})$\n",
    "3. $r_m \\in F$"
   ]
  },
  {
   "cell_type": "markdown",
   "metadata": {},
   "source": [
    "**Teorema** Sea $L$ es un lenguaje reconocido por un AFN, entonces existe un\n",
    "AFD que lo reconoce."
   ]
  },
  {
   "cell_type": "code",
   "execution_count": 27,
   "metadata": {},
   "outputs": [],
   "source": [
    "import collections\n",
    "\n",
    "def hacer_determinista(N: af.AFN) -> af.AFD:\n",
    "    \"\"\"\n",
    "    Crea un AFD a partir del autómata N que reconoce el mismo lenguaje.\n",
    "    \"\"\"\n",
    "    # Calcular metaestado inicial\n",
    "    metaestado_inicial = frozenset(N.cerradura_epsilon([N.estado_inicial]))\n",
    "\n",
    "    # Calcular el metaprograma\n",
    "    metaestados = {metaestado_inicial}  # Metaestados vistos\n",
    "    metaprograma = set()\n",
    "    cola = collections.deque([metaestado_inicial])  # Metaestados por explorar\n",
    "    while cola:\n",
    "        metaestado = cola.popleft()\n",
    "        for simbolo in N.alfabeto:\n",
    "            # Descubrir los metaestados accesibles\n",
    "            siguientes = {siguiente\n",
    "                          for estado in metaestado\n",
    "                          for siguiente in N.transicion(estado, simbolo)}\n",
    "            siguientes.update(N.cerradura_epsilon(siguientes))\n",
    "            metaestado_siguiente = frozenset(siguientes)\n",
    "            metaprograma.add(\n",
    "                af.Transicion(metaestado, simbolo, metaestado_siguiente))\n",
    "            if metaestado_siguiente not in metaestados:\n",
    "                metaestados.add(metaestado_siguiente)\n",
    "                cola.append(metaestado_siguiente)\n",
    "    \n",
    "    # Calcular metaestados finales\n",
    "    metaestados_finales = {metaestado\n",
    "                           for metaestado in metaestados\n",
    "                           if any(N.es_de_aceptacion(estado)\n",
    "                                  for estado in metaestado)}\n",
    "    \n",
    "    return af.AFD(metaprograma, metaestado_inicial, metaestados_finales)"
   ]
  },
  {
   "cell_type": "code",
   "execution_count": 28,
   "metadata": {},
   "outputs": [],
   "source": [
    "programa = [\n",
    "    af.Transicion('q1', '0', 'q1'),\n",
    "    af.Transicion('q1', '1', 'q1'),\n",
    "    af.Transicion('q1', '1', 'q2'),\n",
    "    af.Transicion('q2', '0', 'q3'),\n",
    "    af.Transicion('q2', '',  'q3'),\n",
    "    af.Transicion('q3', '1', 'q4'),\n",
    "    af.Transicion('q4', '0', 'q4'),\n",
    "    af.Transicion('q4', '1', 'q4'),\n",
    "]\n",
    "estado_inicial = 'q1'\n",
    "estados_de_aceptacion = ['q4']\n",
    "N = af.AFN(programa, estado_inicial, estados_de_aceptacion)"
   ]
  },
  {
   "cell_type": "code",
   "execution_count": 29,
   "metadata": {},
   "outputs": [
    {
     "data": {
      "text/plain": [
       "True"
      ]
     },
     "execution_count": 29,
     "metadata": {},
     "output_type": "execute_result"
    }
   ],
   "source": [
    "N('0110110')"
   ]
  },
  {
   "cell_type": "code",
   "execution_count": 30,
   "metadata": {},
   "outputs": [
    {
     "data": {
      "text/plain": [
       "(Transicion(estado='q1', simbolo='0', siguiente='q1'),\n",
       " Transicion(estado='q1', simbolo='1', siguiente='q1'),\n",
       " Transicion(estado='q1', simbolo='1', siguiente='q2'),\n",
       " Transicion(estado='q2', simbolo='0', siguiente='q3'),\n",
       " Transicion(estado='q2', simbolo='', siguiente='q3'),\n",
       " Transicion(estado='q3', simbolo='1', siguiente='q4'),\n",
       " Transicion(estado='q4', simbolo='0', siguiente='q4'),\n",
       " Transicion(estado='q4', simbolo='1', siguiente='q4'))"
      ]
     },
     "execution_count": 30,
     "metadata": {},
     "output_type": "execute_result"
    }
   ],
   "source": [
    "N.programa"
   ]
  },
  {
   "cell_type": "code",
   "execution_count": 31,
   "metadata": {},
   "outputs": [
    {
     "data": {
      "text/plain": [
       "(Transicion(estado=frozenset({'q1', 'q3'}), simbolo='1', siguiente=frozenset({'q1', 'q3', 'q2', 'q4'})),\n",
       " Transicion(estado=frozenset({'q1', 'q3', 'q2'}), simbolo='0', siguiente=frozenset({'q1', 'q3'})),\n",
       " Transicion(estado=frozenset({'q1'}), simbolo='1', siguiente=frozenset({'q1', 'q3', 'q2'})),\n",
       " Transicion(estado=frozenset({'q1', 'q4'}), simbolo='0', siguiente=frozenset({'q1', 'q4'})),\n",
       " Transicion(estado=frozenset({'q1', 'q3', 'q4'}), simbolo='1', siguiente=frozenset({'q1', 'q3', 'q2', 'q4'})),\n",
       " Transicion(estado=frozenset({'q1', 'q3'}), simbolo='0', siguiente=frozenset({'q1'})),\n",
       " Transicion(estado=frozenset({'q1'}), simbolo='0', siguiente=frozenset({'q1'})),\n",
       " Transicion(estado=frozenset({'q1', 'q3', 'q2'}), simbolo='1', siguiente=frozenset({'q1', 'q3', 'q2', 'q4'})),\n",
       " Transicion(estado=frozenset({'q1', 'q3', 'q2', 'q4'}), simbolo='0', siguiente=frozenset({'q1', 'q3', 'q4'})),\n",
       " Transicion(estado=frozenset({'q1', 'q3', 'q4'}), simbolo='0', siguiente=frozenset({'q1', 'q4'})),\n",
       " Transicion(estado=frozenset({'q1', 'q3', 'q2', 'q4'}), simbolo='1', siguiente=frozenset({'q1', 'q3', 'q2', 'q4'})),\n",
       " Transicion(estado=frozenset({'q1', 'q4'}), simbolo='1', siguiente=frozenset({'q1', 'q3', 'q2', 'q4'})))"
      ]
     },
     "execution_count": 31,
     "metadata": {},
     "output_type": "execute_result"
    }
   ],
   "source": [
    "M = hacer_determinista(N)\n",
    "M.programa"
   ]
  },
  {
   "cell_type": "code",
   "execution_count": 32,
   "metadata": {},
   "outputs": [],
   "source": [
    "def estados_enteros(automata: af.AutomataFinito, ordenar=True, inicio=0) \\\n",
    "        -> af.AutomataFinito:\n",
    "    estados = automata.estados\n",
    "    if ordenar:\n",
    "        estados = sorted(estados)\n",
    "    indice = {estado: numero\n",
    "              for numero, estado in enumerate(estados, inicio)}\n",
    "    programa = [af.Transicion(indice[estado], simbolo, indice[siguiente])\n",
    "                for estado, simbolo, siguiente in automata.programa]\n",
    "    estado_inicial = indice[automata.estado_inicial]\n",
    "    estados_de_aceptacion = [indice[estado]\n",
    "                             for estado in automata.estados_de_aceptacion]\n",
    "    return type(automata)(programa, estado_inicial, estados_de_aceptacion)"
   ]
  },
  {
   "cell_type": "code",
   "execution_count": 33,
   "metadata": {},
   "outputs": [
    {
     "data": {
      "text/plain": [
       "(Transicion(estado=14, simbolo='1', siguiente=15),\n",
       " Transicion(estado=12, simbolo='0', siguiente=14),\n",
       " Transicion(estado=10, simbolo='1', siguiente=12),\n",
       " Transicion(estado=13, simbolo='0', siguiente=13),\n",
       " Transicion(estado=11, simbolo='1', siguiente=15),\n",
       " Transicion(estado=14, simbolo='0', siguiente=10),\n",
       " Transicion(estado=10, simbolo='0', siguiente=10),\n",
       " Transicion(estado=12, simbolo='1', siguiente=15),\n",
       " Transicion(estado=15, simbolo='0', siguiente=11),\n",
       " Transicion(estado=11, simbolo='0', siguiente=13),\n",
       " Transicion(estado=15, simbolo='1', siguiente=15),\n",
       " Transicion(estado=13, simbolo='1', siguiente=15))"
      ]
     },
     "execution_count": 33,
     "metadata": {},
     "output_type": "execute_result"
    }
   ],
   "source": [
    "M = estados_enteros(M, inicio=10)\n",
    "M.programa"
   ]
  },
  {
   "cell_type": "code",
   "execution_count": 34,
   "metadata": {},
   "outputs": [],
   "source": [
    "def concatenacion(NA: af.AFN, NB: af.AFN) -> af.AFN:\n",
    "    NA = estados_enteros(NA)\n",
    "    NB = estados_enteros(NB, inicio=len(NA.estados))\n",
    "    \n",
    "    programa = list(NA.programa) + list(NB.programa)\n",
    "    for estado, simbolo, siguiente in NA.programa:\n",
    "        if siguiente not in NA.estados_de_aceptacion: continue\n",
    "        programa.append(af.Transicion(siguiente, '', NB.estado_inicial))\n",
    "    \n",
    "    estado_inicial = NA.estado_inicial\n",
    "    \n",
    "    estados_de_aceptacion = NB.estados_de_aceptacion\n",
    "    \n",
    "    return af.AFN(programa, estado_inicial, estados_de_aceptacion)"
   ]
  },
  {
   "cell_type": "markdown",
   "metadata": {},
   "source": [
    "Ejemplo:\n",
    "Sean\n",
    "$A = \\{w | w \\text{ tiene un número par de ceros}\\}$\n",
    "y\n",
    "$B = \\{w | w \\text{ termina en 00100}\\}$."
   ]
  },
  {
   "cell_type": "code",
   "execution_count": 35,
   "metadata": {},
   "outputs": [],
   "source": [
    "NA = af.AFN(\n",
    "    programa=[\n",
    "        af.Transicion(0, '0', 1),\n",
    "        af.Transicion(0, '1', 0),\n",
    "        af.Transicion(1, '1', 1),\n",
    "        af.Transicion(1, '0', 0),\n",
    "    ],\n",
    "    estado_inicial=0,\n",
    "    estados_de_aceptacion=[1]\n",
    ")\n",
    "\n",
    "NB = af.AFN(\n",
    "    programa=[\n",
    "        af.Transicion(2, '0', 2),\n",
    "        af.Transicion(2, '1', 2),\n",
    "        af.Transicion(2, '0', 3),\n",
    "        af.Transicion(3, '0', 4),\n",
    "        af.Transicion(4, '1', 5),\n",
    "        af.Transicion(5, '0', 6),\n",
    "        af.Transicion(6, '0', 7),\n",
    "    ],\n",
    "    estado_inicial=2,\n",
    "    estados_de_aceptacion=[7]\n",
    ")"
   ]
  },
  {
   "cell_type": "code",
   "execution_count": 36,
   "metadata": {},
   "outputs": [
    {
     "data": {
      "text/plain": [
       "False"
      ]
     },
     "execution_count": 36,
     "metadata": {},
     "output_type": "execute_result"
    }
   ],
   "source": [
    "NA('00111010')"
   ]
  },
  {
   "cell_type": "code",
   "execution_count": 37,
   "metadata": {},
   "outputs": [
    {
     "data": {
      "text/plain": [
       "True"
      ]
     },
     "execution_count": 37,
     "metadata": {},
     "output_type": "execute_result"
    }
   ],
   "source": [
    "NA('10010')"
   ]
  },
  {
   "cell_type": "code",
   "execution_count": 38,
   "metadata": {},
   "outputs": [
    {
     "data": {
      "text/plain": [
       "True"
      ]
     },
     "execution_count": 38,
     "metadata": {},
     "output_type": "execute_result"
    }
   ],
   "source": [
    "NB('00000100')"
   ]
  },
  {
   "cell_type": "code",
   "execution_count": 39,
   "metadata": {},
   "outputs": [
    {
     "data": {
      "text/plain": [
       "(Transicion(estado=0, simbolo='0', siguiente=1),\n",
       " Transicion(estado=0, simbolo='1', siguiente=0),\n",
       " Transicion(estado=1, simbolo='1', siguiente=1),\n",
       " Transicion(estado=1, simbolo='0', siguiente=0),\n",
       " Transicion(estado=1, simbolo='', siguiente=2),\n",
       " Transicion(estado=2, simbolo='0', siguiente=2),\n",
       " Transicion(estado=2, simbolo='0', siguiente=3),\n",
       " Transicion(estado=2, simbolo='1', siguiente=2),\n",
       " Transicion(estado=3, simbolo='0', siguiente=4),\n",
       " Transicion(estado=4, simbolo='1', siguiente=5),\n",
       " Transicion(estado=5, simbolo='0', siguiente=6),\n",
       " Transicion(estado=6, simbolo='0', siguiente=7))"
      ]
     },
     "execution_count": 39,
     "metadata": {},
     "output_type": "execute_result"
    }
   ],
   "source": [
    "NC = concatenacion(NA, NB)\n",
    "NC.programa"
   ]
  },
  {
   "cell_type": "code",
   "execution_count": 40,
   "metadata": {},
   "outputs": [
    {
     "data": {
      "text/plain": [
       "0"
      ]
     },
     "execution_count": 40,
     "metadata": {},
     "output_type": "execute_result"
    }
   ],
   "source": [
    "NC.estado_inicial"
   ]
  },
  {
   "cell_type": "code",
   "execution_count": 41,
   "metadata": {},
   "outputs": [
    {
     "data": {
      "text/plain": [
       "frozenset({7})"
      ]
     },
     "execution_count": 41,
     "metadata": {},
     "output_type": "execute_result"
    }
   ],
   "source": [
    "NC.estados_de_aceptacion"
   ]
  },
  {
   "cell_type": "code",
   "execution_count": 42,
   "metadata": {},
   "outputs": [
    {
     "data": {
      "text/plain": [
       "True"
      ]
     },
     "execution_count": 42,
     "metadata": {},
     "output_type": "execute_result"
    }
   ],
   "source": [
    "NC('010100010100100')"
   ]
  },
  {
   "cell_type": "code",
   "execution_count": 43,
   "metadata": {},
   "outputs": [
    {
     "data": {
      "text/plain": [
       "False"
      ]
     },
     "execution_count": 43,
     "metadata": {},
     "output_type": "execute_result"
    }
   ],
   "source": [
    "NC('11100100')"
   ]
  },
  {
   "cell_type": "code",
   "execution_count": 45,
   "metadata": {},
   "outputs": [],
   "source": [
    "def union(NA: af.AFN, NB: af.AFN) -> af.AFN:\n",
    "    \"\"\"\n",
    "    Combina los autómatas NA y NB en un autómata cuyo lenguaje es la\n",
    "    unión de los lenguajes de NA y NB.\n",
    "    \"\"\"\n",
    "    NA = estados_enteros(NA, inicio=1)\n",
    "    NB = estados_enteros(NB, inicio=len(NA.estados) + 1)\n",
    "    \n",
    "    programa = list(NA.programa) + list(NB.programa)\n",
    "    programa.append(af.Transicion(0, '', NA.estado_inicial))\n",
    "    programa.append(af.Transicion(0, '', NB.estado_inicial))\n",
    "    \n",
    "    estado_inicial=0\n",
    "    estados_de_aceptacion = list(NA.estados_de_aceptacion) \\\n",
    "                            + list(NB.estados_de_aceptacion)\n",
    "    \n",
    "    return af.AFN(programa, estado_inicial, estados_de_aceptacion)"
   ]
  },
  {
   "cell_type": "code",
   "execution_count": 47,
   "metadata": {},
   "outputs": [
    {
     "data": {
      "text/plain": [
       "(Transicion(estado=1, simbolo='0', siguiente=2),\n",
       " Transicion(estado=1, simbolo='1', siguiente=1),\n",
       " Transicion(estado=2, simbolo='1', siguiente=2),\n",
       " Transicion(estado=2, simbolo='0', siguiente=1),\n",
       " Transicion(estado=3, simbolo='0', siguiente=3),\n",
       " Transicion(estado=3, simbolo='0', siguiente=4),\n",
       " Transicion(estado=3, simbolo='1', siguiente=3),\n",
       " Transicion(estado=4, simbolo='0', siguiente=5),\n",
       " Transicion(estado=5, simbolo='1', siguiente=6),\n",
       " Transicion(estado=6, simbolo='0', siguiente=7),\n",
       " Transicion(estado=7, simbolo='0', siguiente=8),\n",
       " Transicion(estado=0, simbolo='', siguiente=1),\n",
       " Transicion(estado=0, simbolo='', siguiente=3))"
      ]
     },
     "execution_count": 47,
     "metadata": {},
     "output_type": "execute_result"
    }
   ],
   "source": [
    "NC = union(NA, NB)\n",
    "NC.programa"
   ]
  },
  {
   "cell_type": "code",
   "execution_count": 48,
   "metadata": {},
   "outputs": [
    {
     "data": {
      "text/plain": [
       "0"
      ]
     },
     "execution_count": 48,
     "metadata": {},
     "output_type": "execute_result"
    }
   ],
   "source": [
    "NC.estado_inicial"
   ]
  },
  {
   "cell_type": "code",
   "execution_count": 49,
   "metadata": {},
   "outputs": [
    {
     "data": {
      "text/plain": [
       "frozenset({2, 8})"
      ]
     },
     "execution_count": 49,
     "metadata": {},
     "output_type": "execute_result"
    }
   ],
   "source": [
    "NC.estados_de_aceptacion"
   ]
  },
  {
   "cell_type": "code",
   "execution_count": 50,
   "metadata": {},
   "outputs": [],
   "source": [
    "def estrella(NA: af.AFN) -> af.AFN:\n",
    "    NA = estados_enteros(NA, inicio=1)\n",
    "    \n",
    "    programa = list(NA.programa)\n",
    "    programa.append(af.Transicion(0, '', NA.estado_inicial))\n",
    "    for estado in NA.estados_de_aceptacion:\n",
    "        programa.append(af.Transicion(estado, '', NA.estado_inicial))\n",
    "    \n",
    "    estado_inicial = 0\n",
    "    estados_de_aceptacion = list(NA.estados_de_aceptacion) + [0]\n",
    "    \n",
    "    return af.AFN(programa, estado_inicial, estados_de_aceptacion)"
   ]
  },
  {
   "cell_type": "code",
   "execution_count": 51,
   "metadata": {},
   "outputs": [
    {
     "data": {
      "text/plain": [
       "(Transicion(estado=1, simbolo='0', siguiente=2),\n",
       " Transicion(estado=1, simbolo='1', siguiente=1),\n",
       " Transicion(estado=2, simbolo='1', siguiente=2),\n",
       " Transicion(estado=2, simbolo='0', siguiente=1),\n",
       " Transicion(estado=2, simbolo='', siguiente=1),\n",
       " Transicion(estado=0, simbolo='', siguiente=1))"
      ]
     },
     "execution_count": 51,
     "metadata": {},
     "output_type": "execute_result"
    }
   ],
   "source": [
    "NC = estrella(NA)\n",
    "NC.programa"
   ]
  },
  {
   "cell_type": "code",
   "execution_count": 52,
   "metadata": {},
   "outputs": [
    {
     "data": {
      "text/plain": [
       "0"
      ]
     },
     "execution_count": 52,
     "metadata": {},
     "output_type": "execute_result"
    }
   ],
   "source": [
    "NC.estado_inicial"
   ]
  },
  {
   "cell_type": "code",
   "execution_count": 53,
   "metadata": {},
   "outputs": [
    {
     "data": {
      "text/plain": [
       "frozenset({0, 2})"
      ]
     },
     "execution_count": 53,
     "metadata": {},
     "output_type": "execute_result"
    }
   ],
   "source": [
    "NC.estados_de_aceptacion"
   ]
  },
  {
   "cell_type": "markdown",
   "metadata": {},
   "source": [
    "## Expresiones regulares en la práctica"
   ]
  },
  {
   "cell_type": "code",
   "execution_count": 54,
   "metadata": {},
   "outputs": [],
   "source": [
    "import re"
   ]
  },
  {
   "cell_type": "markdown",
   "metadata": {},
   "source": [
    "$\\{h\\}\\circ\\{o\\}\\circ\\{\\ell\\}\\circ\\{a\\} = \\{ho\\ell a\\}$"
   ]
  },
  {
   "cell_type": "code",
   "execution_count": 88,
   "metadata": {},
   "outputs": [],
   "source": [
    "patron = re.compile('hola')"
   ]
  },
  {
   "cell_type": "code",
   "execution_count": 89,
   "metadata": {},
   "outputs": [
    {
     "data": {
      "text/plain": [
       "True"
      ]
     },
     "execution_count": 89,
     "metadata": {},
     "output_type": "execute_result"
    }
   ],
   "source": [
    "bool(patron.fullmatch('hola'))"
   ]
  },
  {
   "cell_type": "code",
   "execution_count": 90,
   "metadata": {},
   "outputs": [
    {
     "data": {
      "text/plain": [
       "False"
      ]
     },
     "execution_count": 90,
     "metadata": {},
     "output_type": "execute_result"
    }
   ],
   "source": [
    "bool(patron.fullmatch('adios'))"
   ]
  },
  {
   "cell_type": "code",
   "execution_count": 91,
   "metadata": {},
   "outputs": [],
   "source": [
    "patron_A = re.compile('cara|cola')"
   ]
  },
  {
   "cell_type": "code",
   "execution_count": 92,
   "metadata": {},
   "outputs": [
    {
     "data": {
      "text/plain": [
       "<re.Match object; span=(0, 4), match='cara'>"
      ]
     },
     "execution_count": 92,
     "metadata": {},
     "output_type": "execute_result"
    }
   ],
   "source": [
    "patron_A.fullmatch('cara')"
   ]
  },
  {
   "cell_type": "code",
   "execution_count": 93,
   "metadata": {},
   "outputs": [
    {
     "data": {
      "text/plain": [
       "<re.Match object; span=(0, 4), match='cola'>"
      ]
     },
     "execution_count": 93,
     "metadata": {},
     "output_type": "execute_result"
    }
   ],
   "source": [
    "patron_A.fullmatch('cola')"
   ]
  },
  {
   "cell_type": "code",
   "execution_count": 94,
   "metadata": {},
   "outputs": [],
   "source": [
    "patron_A.fullmatch('col')"
   ]
  },
  {
   "cell_type": "code",
   "execution_count": 95,
   "metadata": {},
   "outputs": [],
   "source": [
    "patron_A.fullmatch('chones')"
   ]
  },
  {
   "cell_type": "code",
   "execution_count": 96,
   "metadata": {},
   "outputs": [],
   "source": [
    "patron_B = re.compile('col|chones')"
   ]
  },
  {
   "cell_type": "code",
   "execution_count": 98,
   "metadata": {},
   "outputs": [
    {
     "data": {
      "text/plain": [
       "<re.Match object; span=(0, 3), match='col'>"
      ]
     },
     "execution_count": 98,
     "metadata": {},
     "output_type": "execute_result"
    }
   ],
   "source": [
    "patron_B.fullmatch('col')"
   ]
  },
  {
   "cell_type": "code",
   "execution_count": 99,
   "metadata": {},
   "outputs": [
    {
     "data": {
      "text/plain": [
       "<re.Match object; span=(0, 6), match='chones'>"
      ]
     },
     "execution_count": 99,
     "metadata": {},
     "output_type": "execute_result"
    }
   ],
   "source": [
    "patron_B.fullmatch('chones')"
   ]
  },
  {
   "cell_type": "code",
   "execution_count": 100,
   "metadata": {},
   "outputs": [],
   "source": [
    "patron_B.fullmatch('cara')"
   ]
  },
  {
   "cell_type": "code",
   "execution_count": 101,
   "metadata": {},
   "outputs": [],
   "source": [
    "patron_B.fullmatch('cola')"
   ]
  },
  {
   "cell_type": "code",
   "execution_count": 102,
   "metadata": {},
   "outputs": [],
   "source": [
    "patron_B.fullmatch('cola')"
   ]
  },
  {
   "cell_type": "code",
   "execution_count": 103,
   "metadata": {},
   "outputs": [],
   "source": [
    "patron_AUB = re.compile(patron_A.pattern + '|' + patron_B.pattern)"
   ]
  },
  {
   "cell_type": "code",
   "execution_count": 109,
   "metadata": {},
   "outputs": [
    {
     "data": {
      "text/plain": [
       "<re.Match object; span=(0, 4), match='cara'>"
      ]
     },
     "execution_count": 109,
     "metadata": {},
     "output_type": "execute_result"
    }
   ],
   "source": [
    "patron_AUB.fullmatch('cara')"
   ]
  },
  {
   "cell_type": "code",
   "execution_count": 110,
   "metadata": {},
   "outputs": [
    {
     "data": {
      "text/plain": [
       "<re.Match object; span=(0, 6), match='chones'>"
      ]
     },
     "execution_count": 110,
     "metadata": {},
     "output_type": "execute_result"
    }
   ],
   "source": [
    "patron_AUB.fullmatch('chones')"
   ]
  },
  {
   "cell_type": "code",
   "execution_count": 111,
   "metadata": {},
   "outputs": [
    {
     "data": {
      "text/plain": [
       "'(cara|cola)(col|chones)'"
      ]
     },
     "execution_count": 111,
     "metadata": {},
     "output_type": "execute_result"
    }
   ],
   "source": [
    "patron_AB = re.compile('(' + patron_A.pattern + ')(' + patron_B.pattern + ')' )\n",
    "patron_AB.pattern"
   ]
  },
  {
   "cell_type": "code",
   "execution_count": 112,
   "metadata": {},
   "outputs": [
    {
     "data": {
      "text/plain": [
       "<re.Match object; span=(0, 10), match='carachones'>"
      ]
     },
     "execution_count": 112,
     "metadata": {},
     "output_type": "execute_result"
    }
   ],
   "source": [
    "patron_AB.fullmatch('carachones')"
   ]
  },
  {
   "cell_type": "code",
   "execution_count": 113,
   "metadata": {},
   "outputs": [],
   "source": [
    "patron_AB.fullmatch('carachon')"
   ]
  },
  {
   "cell_type": "code",
   "execution_count": 114,
   "metadata": {},
   "outputs": [
    {
     "data": {
      "text/plain": [
       "<re.Match object; span=(0, 10), match='colachones'>"
      ]
     },
     "execution_count": 114,
     "metadata": {},
     "output_type": "execute_result"
    }
   ],
   "source": [
    "patron_AB.fullmatch('colachones')"
   ]
  },
  {
   "cell_type": "code",
   "execution_count": 115,
   "metadata": {},
   "outputs": [],
   "source": [
    "patron_As = re.compile('(cara|cola)*')"
   ]
  },
  {
   "cell_type": "code",
   "execution_count": 116,
   "metadata": {},
   "outputs": [
    {
     "data": {
      "text/plain": [
       "<re.Match object; span=(0, 8), match='caracara'>"
      ]
     },
     "execution_count": 116,
     "metadata": {},
     "output_type": "execute_result"
    }
   ],
   "source": [
    "patron_As.fullmatch('caracara')"
   ]
  },
  {
   "cell_type": "code",
   "execution_count": 118,
   "metadata": {},
   "outputs": [
    {
     "data": {
      "text/plain": [
       "<re.Match object; span=(0, 8), match='caracola'>"
      ]
     },
     "execution_count": 118,
     "metadata": {},
     "output_type": "execute_result"
    }
   ],
   "source": [
    "patron_As.fullmatch('caracola')"
   ]
  },
  {
   "cell_type": "code",
   "execution_count": 119,
   "metadata": {},
   "outputs": [
    {
     "data": {
      "text/plain": [
       "<re.Match object; span=(0, 12), match='caracaracara'>"
      ]
     },
     "execution_count": 119,
     "metadata": {},
     "output_type": "execute_result"
    }
   ],
   "source": [
    "patron_As.fullmatch('caracaracara')"
   ]
  },
  {
   "cell_type": "code",
   "execution_count": 120,
   "metadata": {},
   "outputs": [
    {
     "data": {
      "text/plain": [
       "<re.Match object; span=(0, 12), match='caracolacara'>"
      ]
     },
     "execution_count": 120,
     "metadata": {},
     "output_type": "execute_result"
    }
   ],
   "source": [
    "patron_As.fullmatch('caracolacara')"
   ]
  },
  {
   "cell_type": "code",
   "execution_count": 122,
   "metadata": {},
   "outputs": [
    {
     "data": {
      "text/plain": [
       "'\\\\d'"
      ]
     },
     "execution_count": 122,
     "metadata": {},
     "output_type": "execute_result"
    }
   ],
   "source": [
    "r'\\d'"
   ]
  },
  {
   "cell_type": "code",
   "execution_count": null,
   "metadata": {},
   "outputs": [],
   "source": []
  }
 ],
 "metadata": {
  "kernelspec": {
   "display_name": "Python 3",
   "language": "python",
   "name": "python3"
  },
  "language_info": {
   "codemirror_mode": {
    "name": "ipython",
    "version": 3
   },
   "file_extension": ".py",
   "mimetype": "text/x-python",
   "name": "python",
   "nbconvert_exporter": "python",
   "pygments_lexer": "ipython3",
   "version": "3.8.3"
  }
 },
 "nbformat": 4,
 "nbformat_minor": 4
}
