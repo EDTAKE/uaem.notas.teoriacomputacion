{
 "cells": [
  {
   "cell_type": "markdown",
   "metadata": {},
   "source": [
    "# Autómatas finitos y expresiones regulares"
   ]
  },
  {
   "cell_type": "code",
   "execution_count": 13,
   "metadata": {},
   "outputs": [],
   "source": [
    "class Puerta:\n",
    "    def __init__(self):\n",
    "        self._estado = 'Cerrada'\n",
    "    \n",
    "    def abrir(self):\n",
    "        self._estado = 'Abierta'\n",
    "    \n",
    "    def cerrar(self):\n",
    "        self._estado = 'Cerrada'\n",
    "    \n",
    "    @property\n",
    "    def estado(self):\n",
    "        return self._estado"
   ]
  },
  {
   "cell_type": "code",
   "execution_count": 14,
   "metadata": {},
   "outputs": [
    {
     "data": {
      "text/plain": [
       "'Cerrada'"
      ]
     },
     "execution_count": 14,
     "metadata": {},
     "output_type": "execute_result"
    }
   ],
   "source": [
    "obj = Puerta()\n",
    "obj.estado"
   ]
  },
  {
   "cell_type": "code",
   "execution_count": 15,
   "metadata": {},
   "outputs": [
    {
     "data": {
      "text/plain": [
       "'Abierta'"
      ]
     },
     "execution_count": 15,
     "metadata": {},
     "output_type": "execute_result"
    }
   ],
   "source": [
    "obj.abrir()\n",
    "obj.estado"
   ]
  },
  {
   "cell_type": "code",
   "execution_count": 16,
   "metadata": {},
   "outputs": [
    {
     "data": {
      "text/plain": [
       "'Cerrada'"
      ]
     },
     "execution_count": 16,
     "metadata": {},
     "output_type": "execute_result"
    }
   ],
   "source": [
    "obj.cerrar()\n",
    "obj.estado"
   ]
  },
  {
   "cell_type": "code",
   "execution_count": 18,
   "metadata": {},
   "outputs": [
    {
     "data": {
      "text/plain": [
       "'Cerrada'"
      ]
     },
     "execution_count": 18,
     "metadata": {},
     "output_type": "execute_result"
    }
   ],
   "source": [
    "obj.cerrar()\n",
    "obj.estado"
   ]
  },
  {
   "cell_type": "markdown",
   "metadata": {},
   "source": [
    "- Costal de maíz\n",
    "- Gallina\n",
    "- Perro"
   ]
  },
  {
   "cell_type": "code",
   "execution_count": 26,
   "metadata": {},
   "outputs": [],
   "source": [
    "class AcertijoRio:\n",
    "    def __init__(self):\n",
    "        self.costal = False\n",
    "        self.gallina = False\n",
    "        self.perro = False\n",
    "        self.persona = False\n",
    "    \n",
    "    @property\n",
    "    def estado_invalido(self):\n",
    "        return (self.gallina == self.costal != self.persona\n",
    "                or self.perro == self.gallina != self.persona)\n",
    "    \n",
    "    def cruzar_costal(self):\n",
    "        if self.estado_invalido: return\n",
    "        if self.persona != self.costal: return\n",
    "        self.persona = self.costal = not self.persona\n",
    "    \n",
    "    def cruzar_gallina(self):\n",
    "        if self.estado_invalido: return\n",
    "        if self.persona != self.gallina: return\n",
    "        self.persona = self.gallina = not self.persona\n",
    "    \n",
    "    def cruzar_perro(self):\n",
    "        if self.estado_invalido: return\n",
    "        if self.persona != self.perro: return\n",
    "        self.persona = self.perro = not self.persona\n",
    "    \n",
    "    def cruzar_persona(self):\n",
    "        if self.estado_invalido: return\n",
    "        self.persona = not self.persona\n",
    "    \n",
    "    def __repr__(self):\n",
    "        letras = 'CGPH'\n",
    "        estados = [self.costal, self.gallina, self.perro, self.persona]\n",
    "        izquierda = [letra for (letra, estado) in zip(letras, estados)\n",
    "                     if not estado]\n",
    "        derecha = [letra for (letra, estado) in zip(letras, estados) if estado]\n",
    "        return f\"{''.join(izquierda)}-{''.join(derecha)}\""
   ]
  },
  {
   "cell_type": "code",
   "execution_count": 33,
   "metadata": {},
   "outputs": [
    {
     "data": {
      "text/plain": [
       "CGPH-"
      ]
     },
     "execution_count": 33,
     "metadata": {},
     "output_type": "execute_result"
    }
   ],
   "source": [
    "acertijo = AcertijoRio()\n",
    "acertijo"
   ]
  },
  {
   "cell_type": "code",
   "execution_count": 34,
   "metadata": {},
   "outputs": [
    {
     "data": {
      "text/plain": [
       "False"
      ]
     },
     "execution_count": 34,
     "metadata": {},
     "output_type": "execute_result"
    }
   ],
   "source": [
    "acertijo.estado_invalido"
   ]
  },
  {
   "cell_type": "code",
   "execution_count": 28,
   "metadata": {},
   "outputs": [
    {
     "data": {
      "text/plain": [
       "CP-GH"
      ]
     },
     "execution_count": 28,
     "metadata": {},
     "output_type": "execute_result"
    }
   ],
   "source": [
    "acertijo.cruzar_gallina()\n",
    "acertijo"
   ]
  },
  {
   "cell_type": "code",
   "execution_count": 35,
   "metadata": {},
   "outputs": [
    {
     "data": {
      "text/plain": [
       "CGP-H"
      ]
     },
     "execution_count": 35,
     "metadata": {},
     "output_type": "execute_result"
    }
   ],
   "source": [
    "acertijo.cruzar_persona()\n",
    "acertijo"
   ]
  },
  {
   "cell_type": "code",
   "execution_count": 36,
   "metadata": {},
   "outputs": [
    {
     "data": {
      "text/plain": [
       "CGP-H"
      ]
     },
     "execution_count": 36,
     "metadata": {},
     "output_type": "execute_result"
    }
   ],
   "source": [
    "acertijo.cruzar_costal()\n",
    "acertijo"
   ]
  },
  {
   "cell_type": "code",
   "execution_count": 37,
   "metadata": {},
   "outputs": [
    {
     "data": {
      "text/plain": [
       "CGP-H"
      ]
     },
     "execution_count": 37,
     "metadata": {},
     "output_type": "execute_result"
    }
   ],
   "source": [
    "acertijo.cruzar_persona()\n",
    "acertijo"
   ]
  },
  {
   "cell_type": "code",
   "execution_count": 38,
   "metadata": {},
   "outputs": [
    {
     "data": {
      "text/plain": [
       "True"
      ]
     },
     "execution_count": 38,
     "metadata": {},
     "output_type": "execute_result"
    }
   ],
   "source": [
    "acertijo.estado_invalido"
   ]
  },
  {
   "cell_type": "code",
   "execution_count": 39,
   "metadata": {},
   "outputs": [
    {
     "data": {
      "text/plain": [
       "CGP-H"
      ]
     },
     "execution_count": 39,
     "metadata": {},
     "output_type": "execute_result"
    }
   ],
   "source": [
    "acertijo.cruzar_persona()\n",
    "acertijo"
   ]
  },
  {
   "cell_type": "markdown",
   "metadata": {},
   "source": [
    "## Implementación de un intérprete de autómatas finitos en general"
   ]
  },
  {
   "cell_type": "markdown",
   "metadata": {},
   "source": [
    "CGHP"
   ]
  },
  {
   "cell_type": "code",
   "execution_count": 45,
   "metadata": {},
   "outputs": [],
   "source": [
    ": {'C': '', 'G': '', 'P': '', 'H': ''}\n",
    "\n",
    "δ = {\n",
    "    'CGHP-': {'G': 'CP-GH', 'H': 'CGP-H', 'P': 'CG-HP', 'C': 'GP-CH'},\n",
    "    'CGP-H': {'C': 'CGP-H', 'G': 'CGP-H', 'P': 'CGP-H', 'H': 'CGP-H'},\n",
    "    'CG-HP': {'C': 'CG-HP', 'G': 'CG-HP', 'P': 'CG-HP', 'H': 'CG-HP'},\n",
    "    'GP-CH': {'C': 'GP-CH', 'G': 'GP-CH', 'P': 'GP-CH', 'H': 'GP-CH'},\n",
    "    \n",
    "    'CP-GH': {'C': 'CP-GH', 'H': 'CHP-G', 'G': 'CGHP-', 'P': 'CP-GH'},\n",
    "    'CP-GH': {'C': '', 'G': '', 'P': '', 'H': ''}\n",
    "    'CHP-G': {'C': '', 'G': '', 'P': '', 'H': ''}\n",
    "    'CGHP-': {'C': '', 'G': '', 'P': '', 'H': ''}\n",
    "    'CP-GH': {'C': '', 'G': '', 'P': '', 'H': ''}\n",
    "    \n",
    "    'CHP-G': {'C': 'P-CGH', 'G': 'CHP-G', 'H': 'CHP-G', 'P': 'C-GHP'},\n",
    "    'CHP-G': {'C': 'P-CGH', 'G': 'CHP-G', 'H': 'CHP-G', 'P': 'C-GHP'}\n",
    "}\n",
    "q0 = 'CGHP-'\n",
    "F = ['-CGHP']"
   ]
  },
  {
   "cell_type": "code",
   "execution_count": 48,
   "metadata": {},
   "outputs": [],
   "source": [
    "estado = q0"
   ]
  },
  {
   "cell_type": "code",
   "execution_count": 49,
   "metadata": {},
   "outputs": [],
   "source": [
    "entrada = 'GHPGCHG'"
   ]
  },
  {
   "cell_type": "code",
   "execution_count": 50,
   "metadata": {},
   "outputs": [
    {
     "ename": "KeyError",
     "evalue": "'P'",
     "output_type": "error",
     "traceback": [
      "\u001b[0;31m---------------------------------------------------------------------------\u001b[0m",
      "\u001b[0;31mKeyError\u001b[0m                                  Traceback (most recent call last)",
      "\u001b[0;32m<ipython-input-50-ace488581622>\u001b[0m in \u001b[0;36m<module>\u001b[0;34m\u001b[0m\n\u001b[1;32m      1\u001b[0m \u001b[0;32mfor\u001b[0m \u001b[0msimbolo\u001b[0m \u001b[0;32min\u001b[0m \u001b[0mentrada\u001b[0m\u001b[0;34m:\u001b[0m\u001b[0;34m\u001b[0m\u001b[0;34m\u001b[0m\u001b[0m\n\u001b[0;32m----> 2\u001b[0;31m     \u001b[0mestado\u001b[0m \u001b[0;34m=\u001b[0m \u001b[0mδ\u001b[0m\u001b[0;34m[\u001b[0m\u001b[0mestado\u001b[0m\u001b[0;34m]\u001b[0m\u001b[0;34m[\u001b[0m\u001b[0msimbolo\u001b[0m\u001b[0;34m]\u001b[0m\u001b[0;34m\u001b[0m\u001b[0;34m\u001b[0m\u001b[0m\n\u001b[0m",
      "\u001b[0;31mKeyError\u001b[0m: 'P'"
     ]
    }
   ],
   "source": [
    "for simbolo in entrada:\n",
    "    estado = δ[estado][simbolo]"
   ]
  },
  {
   "cell_type": "code",
   "execution_count": null,
   "metadata": {},
   "outputs": [],
   "source": [
    "class AutomataFinito:\n",
    "    def __init__(datos_de_entrada):\n",
    "        pass\n",
    "    \n",
    "    def un_paso(simbolo):\n",
    "        pass\n",
    "    \n",
    "    def consumir(cadena) -> bool:\n",
    "        ...\n",
    "        return True # Si el autómata termina en estado final"
   ]
  },
  {
   "cell_type": "markdown",
   "metadata": {},
   "source": [
    "## Definición formal de un Autómata Finito (Determinista)"
   ]
  },
  {
   "cell_type": "markdown",
   "metadata": {},
   "source": [
    "Un **autómata finito** es una 5-ada $(Q, \\Sigma, \\delta, q_0, F)$\n",
    "- $Q$ es un conjunto finito llamado conjunto de **estados**.\n",
    "- $\\Sigma$ es un conjunto finito llamado **alfabeto**.\n",
    "- $\\delta: Q \\times \\Sigma \\to Q$ es la **función de transición**.\n",
    "- $q_0 \\in Q$ es el **estado inicial**.\n",
    "- $F \\subseteq Q$ es el conjunto de **estados de aceptación**."
   ]
  },
  {
   "cell_type": "markdown",
   "metadata": {},
   "source": [
    "**Ejemplo** (tal como se vio en el WhiteBoard de Office):\n",
    "$M_1 = (Q, \\Sigma, q_1, F)$\n",
    "- $Q = \\lbrace q_1, q_2, q_3 \\rbrace$\n",
    "- $\\Sigma = \\{ 0, 1 \\}$\n",
    "- $\\delta$ está dada por\n",
    "| $\\delta$ | 0     | 1     |\n",
    "|----------|-------|-------|\n",
    "| $q_1$    | $q_1$ | $q_2$ |\n",
    "| $q_2$    | $q_3$ | $q_2$ |\n",
    "| $q_3$    | $q_2$ | $q_2$ |\n",
    "- $q_1$ es el estado inicial\n",
    "- $F = \\{ q_2 \\}$"
   ]
  },
  {
   "cell_type": "markdown",
   "metadata": {},
   "source": [
    "**Definición** Si $M$ es un AFD, el **lenguaje de la máquina $M$**, denotado \n",
    "por $L(M)$ es el conjunto de todas las cadenas $w$ sobre $\\Sigma$ que acepta el\n",
    "autómata $M$, es decir que dada la cadena \n",
    "$w = w_1w_2w_3\\cdots w_n \\in \\Sigma^\\star$ existe una sucesión finita de\n",
    "estados $r_0, r_1, r_2, \\dots, r_n$ en $Q$ que cumple las siguientes\n",
    "condiciones:\n",
    "1. $r_0 = q_0$\n",
    "2. $\\delta(r_i, w_{i + 1}) = r_{i + 1}$\n",
    "3. $r_n \\in F$"
   ]
  },
  {
   "cell_type": "markdown",
   "metadata": {},
   "source": [
    "**Ejemplo** Una máquina $M_2$ cuyo lenguaje son las cadenas que tienen un par\n",
    "de unos:\n",
    "$M_2 = (Q, \\Sigma, \\mathit{par}, F)$\n",
    "- $Q = \\{ \\mathit{par}, \\mathit{impar} \\}$\n",
    "- $\\Sigma = \\{0, 1\\}$\n",
    "- $\\delta$ está dada por\n",
    "| $\\delta$         | 0                | 1                |\n",
    "|------------------|------------------|------------------|\n",
    "| $\\mathit{par}$   | $\\mathit{par}$   | $\\mathit{impar}$ |\n",
    "| $\\mathit{impar}$ | $\\mathit{impar}$ | $\\mathit{par}$   |\n",
    "- $\\mathit{par}$ es el estado inicial\n",
    "- $F = \\{ \\mathit{par} \\}$"
   ]
  },
  {
   "cell_type": "markdown",
   "metadata": {},
   "source": [
    "**Ejemplo** Una máquina $M_3$ cuyo lenguaje son las cadenas que tienen un par\n",
    "de unos y de ceros:\n",
    "$M_3 = (Q, \\Sigma, \\mathit{PP}, F)$\n",
    "- $Q = \\{ \\mathit{PP}, \\mathit{PI}, \\mathit{IP}, \\mathit{II} \\}$\n",
    "- $\\Sigma = \\{0, 1\\}$\n",
    "- $\\delta$ está dada por\n",
    "| $\\delta$      | 0             | 1             |\n",
    "|---------------|---------------|---------------|\n",
    "| $\\mathit{PP}$ | $\\mathit{IP}$ | $\\mathit{PI}$ |\n",
    "| $\\mathit{IP}$ | $\\mathit{PP}$ | $\\mathit{II}$ |\n",
    "| $\\mathit{PI}$ | $\\mathit{II}$ | $\\mathit{PP}$ |\n",
    "| $\\mathit{II}$ | $\\mathit{PI}$ | $\\mathit{IP}$ |\n",
    "- $\\mathit{PP}$ es el estado inicial\n",
    "- $F = \\{ \\mathit{PP} \\}$"
   ]
  },
  {
   "cell_type": "markdown",
   "metadata": {},
   "source": [
    "**Ejemplo** Una máquina $B_m$ que acepta las cadenas con un múltiplo de $m$\n",
    "bits 1.\n",
    "- $Q = \\{q_0, q_1, q_2, \\ldots, q_m\\}$\n",
    "- $\\Sigma = \\{0, 1\\}$\n",
    "- $\\delta$ está dada por\n",
    "  - $\\delta(q_{m - 1}, 1) = q_0$\n",
    "  - $\\delta(q_j, 0) = q_j$\n",
    "  - $\\delta(q_j, 1) = q_{j + 1}$\n",
    "- $q_0$ es el estado inicial\n",
    "- $F = \\{ q_0 \\}$"
   ]
  },
  {
   "cell_type": "markdown",
   "metadata": {},
   "source": [
    "## Lenguajes regulares y sus operaciones"
   ]
  },
  {
   "cell_type": "markdown",
   "metadata": {},
   "source": [
    "**Definición** Un lenguaje es **regular** si es reconocido por un autómata\n",
    "finito. Dados $A$ y $B$ lenguajes regulares, las operaciones regularesson\n",
    "estas:\n",
    "- $A \\cup B = \\{x | x \\in A \\text{ o } x \\in B\\}$\n",
    "- $A \\circ B = \\{xy | x \\in A \\text{ y } y \\in B\\}$\n",
    "- $A^\\star = \\{x_1x_2\\cdots x_k | \\text{cada } x_i \\in A \\text{ para cualquier \n",
    "  } k \\ge 0\\}$"
   ]
  },
  {
   "cell_type": "markdown",
   "metadata": {},
   "source": [
    "**Ejemplos**\n",
    "Sean $A = \\{\\texttt{cara}, \\texttt{cola}\\}$,\n",
    "$B = \\{\\texttt{col}, \\texttt{chones}\\}$.\n",
    "- $A \\cup B = \\{\\texttt{cara}, \\texttt{cola}, \\texttt{col}, \\texttt{chones}\\}$.\n",
    "- $A \\circ B = \\{ \\texttt{caracol}, \\texttt{carachones}, \\texttt{colacol},\n",
    "  \\texttt{colachones}\\}$\n",
    "- $A^\\star$ contiene elementos como $\\epsilon$, $\\texttt{cara}$,\n",
    "  $\\texttt{cola}$, $\\texttt{caracola}$, $\\texttt{colacara}$,\n",
    "  $\\texttt{caracara}$, $\\texttt{colacola}$, $\\texttt{caracaracara}$,\n",
    "  $\\texttt{caracolacara}$,..."
   ]
  },
  {
   "cell_type": "code",
   "execution_count": null,
   "metadata": {},
   "outputs": [],
   "source": []
  },
  {
   "cell_type": "code",
   "execution_count": null,
   "metadata": {},
   "outputs": [],
   "source": []
  },
  {
   "cell_type": "code",
   "execution_count": null,
   "metadata": {},
   "outputs": [],
   "source": []
  },
  {
   "cell_type": "code",
   "execution_count": null,
   "metadata": {},
   "outputs": [],
   "source": []
  },
  {
   "cell_type": "code",
   "execution_count": null,
   "metadata": {},
   "outputs": [],
   "source": []
  },
  {
   "cell_type": "code",
   "execution_count": null,
   "metadata": {},
   "outputs": [],
   "source": []
  }
 ],
 "metadata": {
  "kernelspec": {
   "display_name": "Python 3",
   "language": "python",
   "name": "python3"
  },
  "language_info": {
   "codemirror_mode": {
    "name": "ipython",
    "version": 3
   },
   "file_extension": ".py",
   "mimetype": "text/x-python",
   "name": "python",
   "nbconvert_exporter": "python",
   "pygments_lexer": "ipython3",
   "version": "3.8.3"
  }
 },
 "nbformat": 4,
 "nbformat_minor": 4
}
